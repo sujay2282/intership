{
 "cells": [
  {
   "cell_type": "code",
   "execution_count": 1,
   "id": "29160981",
   "metadata": {},
   "outputs": [
    {
     "name": "stdout",
     "output_type": "stream",
     "text": [
      "Requirement already satisfied: selenium in c:\\programdata\\anaconda3\\lib\\site-packages (4.1.3)\n",
      "Requirement already satisfied: urllib3[secure,socks]~=1.26 in c:\\programdata\\anaconda3\\lib\\site-packages (from selenium) (1.26.7)\n",
      "Requirement already satisfied: trio-websocket~=0.9 in c:\\programdata\\anaconda3\\lib\\site-packages (from selenium) (0.9.2)\n",
      "Requirement already satisfied: trio~=0.17 in c:\\programdata\\anaconda3\\lib\\site-packages (from selenium) (0.20.0)\n",
      "Requirement already satisfied: sniffio in c:\\programdata\\anaconda3\\lib\\site-packages (from trio~=0.17->selenium) (1.2.0)\n",
      "Requirement already satisfied: cffi>=1.14 in c:\\programdata\\anaconda3\\lib\\site-packages (from trio~=0.17->selenium) (1.14.6)\n",
      "Requirement already satisfied: outcome in c:\\programdata\\anaconda3\\lib\\site-packages (from trio~=0.17->selenium) (1.1.0)\n",
      "Requirement already satisfied: async-generator>=1.9 in c:\\programdata\\anaconda3\\lib\\site-packages (from trio~=0.17->selenium) (1.10)\n",
      "Requirement already satisfied: attrs>=19.2.0 in c:\\programdata\\anaconda3\\lib\\site-packages (from trio~=0.17->selenium) (21.2.0)\n",
      "Requirement already satisfied: idna in c:\\programdata\\anaconda3\\lib\\site-packages (from trio~=0.17->selenium) (3.2)\n",
      "Requirement already satisfied: sortedcontainers in c:\\programdata\\anaconda3\\lib\\site-packages (from trio~=0.17->selenium) (2.4.0)\n",
      "Requirement already satisfied: pycparser in c:\\programdata\\anaconda3\\lib\\site-packages (from cffi>=1.14->trio~=0.17->selenium) (2.20)\n",
      "Requirement already satisfied: wsproto>=0.14 in c:\\programdata\\anaconda3\\lib\\site-packages (from trio-websocket~=0.9->selenium) (1.1.0)\n",
      "Requirement already satisfied: PySocks!=1.5.7,<2.0,>=1.5.6 in c:\\programdata\\anaconda3\\lib\\site-packages (from urllib3[secure,socks]~=1.26->selenium) (1.7.1)\n",
      "Requirement already satisfied: pyOpenSSL>=0.14 in c:\\programdata\\anaconda3\\lib\\site-packages (from urllib3[secure,socks]~=1.26->selenium) (21.0.0)\n",
      "Requirement already satisfied: cryptography>=1.3.4 in c:\\programdata\\anaconda3\\lib\\site-packages (from urllib3[secure,socks]~=1.26->selenium) (3.4.8)\n",
      "Requirement already satisfied: certifi in c:\\programdata\\anaconda3\\lib\\site-packages (from urllib3[secure,socks]~=1.26->selenium) (2021.10.8)\n",
      "Requirement already satisfied: six>=1.5.2 in c:\\programdata\\anaconda3\\lib\\site-packages (from pyOpenSSL>=0.14->urllib3[secure,socks]~=1.26->selenium) (1.16.0)\n",
      "Requirement already satisfied: h11<1,>=0.9.0 in c:\\programdata\\anaconda3\\lib\\site-packages (from wsproto>=0.14->trio-websocket~=0.9->selenium) (0.13.0)\n"
     ]
    }
   ],
   "source": [
    "!pip install selenium"
   ]
  },
  {
   "cell_type": "code",
   "execution_count": 2,
   "id": "e3d7e420",
   "metadata": {},
   "outputs": [],
   "source": [
    "import selenium\n",
    "import pandas as pd\n",
    "from selenium import webdriver\n",
    "import warnings\n",
    "warnings.filterwarnings('ignore')\n",
    "import time"
   ]
  },
  {
   "cell_type": "code",
   "execution_count": 135,
   "id": "79d9facb",
   "metadata": {},
   "outputs": [
    {
     "data": {
      "text/plain": [
       "<selenium.webdriver.chrome.webdriver.WebDriver (session=\"3b64278e8d0496c30d2ffcbbb6be2f88\")>"
      ]
     },
     "execution_count": 135,
     "metadata": {},
     "output_type": "execute_result"
    }
   ],
   "source": [
    "driver = webdriver.Chrome(r\"D:\\python\\chromedriver.exe\")\n",
    "driver"
   ]
  },
  {
   "cell_type": "raw",
   "id": "2d7fb215",
   "metadata": {},
   "source": [
    "Q1: Write a python program to scrape data for “Data Analyst” Job position in “Bangalore” location. You\n",
    "have to scrape the job-title, job-location, company_name, experience_required. You have to scrape first 10\n",
    "jobs data.\n"
   ]
  },
  {
   "cell_type": "code",
   "execution_count": 136,
   "id": "b345b48a",
   "metadata": {},
   "outputs": [],
   "source": [
    "driver.get('https://www.naukri.com/')"
   ]
  },
  {
   "cell_type": "code",
   "execution_count": 137,
   "id": "940dc72d",
   "metadata": {},
   "outputs": [],
   "source": [
    "name=driver.find_element_by_class_name('suggestor-input')\n",
    "name.send_keys('data analyst')"
   ]
  },
  {
   "cell_type": "code",
   "execution_count": 138,
   "id": "3494b7d2",
   "metadata": {},
   "outputs": [],
   "source": [
    "location=driver.find_element_by_xpath('/html/body/div/div[2]/div[3]/div/div/div[3]/div/div/div/input')\n",
    "location.send_keys('bengalore')"
   ]
  },
  {
   "cell_type": "code",
   "execution_count": 139,
   "id": "3347a55f",
   "metadata": {},
   "outputs": [],
   "source": [
    "search=driver.find_element_by_xpath('/html/body/div/div[2]/div[3]/div/div/div[6]')\n",
    "search.click()"
   ]
  },
  {
   "cell_type": "code",
   "execution_count": 140,
   "id": "1c052dfb",
   "metadata": {},
   "outputs": [],
   "source": [
    "job_title=[]\n",
    "comapny_name=[]\n",
    "locations=[]\n",
    "exprience=[]"
   ]
  },
  {
   "cell_type": "code",
   "execution_count": 141,
   "id": "92359c29",
   "metadata": {},
   "outputs": [
    {
     "data": {
      "text/plain": [
       "[<selenium.webdriver.remote.webelement.WebElement (session=\"3b64278e8d0496c30d2ffcbbb6be2f88\", element=\"91a1ed93-83e9-4621-af86-a8418f9c50f2\")>,\n",
       " <selenium.webdriver.remote.webelement.WebElement (session=\"3b64278e8d0496c30d2ffcbbb6be2f88\", element=\"1d5fb015-87f1-4d9a-967f-9ac5385e77de\")>,\n",
       " <selenium.webdriver.remote.webelement.WebElement (session=\"3b64278e8d0496c30d2ffcbbb6be2f88\", element=\"030f2e2e-dcac-47ee-beb2-32474201fdf7\")>,\n",
       " <selenium.webdriver.remote.webelement.WebElement (session=\"3b64278e8d0496c30d2ffcbbb6be2f88\", element=\"8af2e3e6-0735-477e-b790-ca35d99ce155\")>,\n",
       " <selenium.webdriver.remote.webelement.WebElement (session=\"3b64278e8d0496c30d2ffcbbb6be2f88\", element=\"c6aaf9c6-3b65-440f-81d0-6fe422ef7ad0\")>,\n",
       " <selenium.webdriver.remote.webelement.WebElement (session=\"3b64278e8d0496c30d2ffcbbb6be2f88\", element=\"ed0399c7-a3de-4ae0-9540-99dd97f02ae0\")>,\n",
       " <selenium.webdriver.remote.webelement.WebElement (session=\"3b64278e8d0496c30d2ffcbbb6be2f88\", element=\"9da46e47-036b-4e5e-90cb-c7a84a6f0281\")>,\n",
       " <selenium.webdriver.remote.webelement.WebElement (session=\"3b64278e8d0496c30d2ffcbbb6be2f88\", element=\"0460f673-184c-4cb3-9634-c380d99c25a4\")>,\n",
       " <selenium.webdriver.remote.webelement.WebElement (session=\"3b64278e8d0496c30d2ffcbbb6be2f88\", element=\"8888cb47-2b9f-41e9-af88-7b4814a10f05\")>,\n",
       " <selenium.webdriver.remote.webelement.WebElement (session=\"3b64278e8d0496c30d2ffcbbb6be2f88\", element=\"8a8f9502-3445-4f49-90c9-20568ffddede\")>]"
      ]
     },
     "execution_count": 141,
     "metadata": {},
     "output_type": "execute_result"
    }
   ],
   "source": [
    "title=driver.find_elements_by_xpath(\"//a[@class='title fw500 ellipsis']\")\n",
    "title[0:10]"
   ]
  },
  {
   "cell_type": "code",
   "execution_count": 142,
   "id": "6af0df60",
   "metadata": {},
   "outputs": [
    {
     "data": {
      "text/plain": [
       "['Sr Data Analyst II',\n",
       " 'Senior Business Analyst - Data Sciences and Advanced Analytics',\n",
       " 'Business and Data Analyst',\n",
       " 'Data Analyst - Python / SQL',\n",
       " 'Data Analyst 2-1',\n",
       " 'Senior Data Analyst',\n",
       " 'Data Analyst',\n",
       " 'Senior Data Analyst',\n",
       " 'Jr . Data Analyst',\n",
       " 'Senior Data Analyst, Data & Analytics']"
      ]
     },
     "execution_count": 142,
     "metadata": {},
     "output_type": "execute_result"
    }
   ],
   "source": [
    "for i in title:\n",
    "    tit=i.text\n",
    "    job_title.append(tit)\n",
    "    \n",
    "job_title[0:10]"
   ]
  },
  {
   "cell_type": "code",
   "execution_count": 143,
   "id": "329796aa",
   "metadata": {},
   "outputs": [
    {
     "data": {
      "text/plain": [
       "[<selenium.webdriver.remote.webelement.WebElement (session=\"3b64278e8d0496c30d2ffcbbb6be2f88\", element=\"904390cc-7744-42f9-a723-a2047a753a0f\")>,\n",
       " <selenium.webdriver.remote.webelement.WebElement (session=\"3b64278e8d0496c30d2ffcbbb6be2f88\", element=\"f8b0e4d7-e9f6-44bb-b929-8f2462dc0a35\")>,\n",
       " <selenium.webdriver.remote.webelement.WebElement (session=\"3b64278e8d0496c30d2ffcbbb6be2f88\", element=\"ea4aebc9-7be0-4983-9fa0-7c757d845a63\")>,\n",
       " <selenium.webdriver.remote.webelement.WebElement (session=\"3b64278e8d0496c30d2ffcbbb6be2f88\", element=\"29a979ae-4521-4a36-bfc0-b1a33d8ae868\")>,\n",
       " <selenium.webdriver.remote.webelement.WebElement (session=\"3b64278e8d0496c30d2ffcbbb6be2f88\", element=\"79ad1624-c49d-4b34-baf6-406ebc28879b\")>,\n",
       " <selenium.webdriver.remote.webelement.WebElement (session=\"3b64278e8d0496c30d2ffcbbb6be2f88\", element=\"f2abc62b-c34f-438d-a660-585151b56293\")>,\n",
       " <selenium.webdriver.remote.webelement.WebElement (session=\"3b64278e8d0496c30d2ffcbbb6be2f88\", element=\"aa58acbd-96df-4f0e-bd88-4793d92450a7\")>,\n",
       " <selenium.webdriver.remote.webelement.WebElement (session=\"3b64278e8d0496c30d2ffcbbb6be2f88\", element=\"f0d4d277-8fd3-4c99-942f-c8dcd9b31867\")>,\n",
       " <selenium.webdriver.remote.webelement.WebElement (session=\"3b64278e8d0496c30d2ffcbbb6be2f88\", element=\"62ec289b-a42c-4ef0-a827-08f6cc3a184f\")>,\n",
       " <selenium.webdriver.remote.webelement.WebElement (session=\"3b64278e8d0496c30d2ffcbbb6be2f88\", element=\"b535bcc3-ebfb-4478-b8fb-39abcab0f416\")>]"
      ]
     },
     "execution_count": 143,
     "metadata": {},
     "output_type": "execute_result"
    }
   ],
   "source": [
    "name=driver.find_elements_by_xpath(\"//a[@class='subTitle ellipsis fleft']\")\n",
    "name[0:10]"
   ]
  },
  {
   "cell_type": "code",
   "execution_count": 144,
   "id": "9fea654c",
   "metadata": {},
   "outputs": [
    {
     "data": {
      "text/plain": [
       "['IHS Markit',\n",
       " 'Vmware',\n",
       " 'CAREERDOST ENTERPRISE',\n",
       " 'Myntra',\n",
       " 'PayPal',\n",
       " 'Capco',\n",
       " 'Concerto HealthAI',\n",
       " 'Gsn Games India',\n",
       " 'Armorblox',\n",
       " 'ReSource Pro Operational Solutions Pvt Ltd.']"
      ]
     },
     "execution_count": 144,
     "metadata": {},
     "output_type": "execute_result"
    }
   ],
   "source": [
    "for i in name:\n",
    "    na=i.text\n",
    "    comapny_name.append(na)\n",
    "    \n",
    "comapny_name[0:10]"
   ]
  },
  {
   "cell_type": "code",
   "execution_count": 145,
   "id": "4358e178",
   "metadata": {},
   "outputs": [
    {
     "data": {
      "text/plain": [
       "[<selenium.webdriver.remote.webelement.WebElement (session=\"3b64278e8d0496c30d2ffcbbb6be2f88\", element=\"c47a6695-9bc4-4bf5-8756-8c4ec5037456\")>,\n",
       " <selenium.webdriver.remote.webelement.WebElement (session=\"3b64278e8d0496c30d2ffcbbb6be2f88\", element=\"7ed85ba0-7405-4a8a-856e-ab7d343448c8\")>,\n",
       " <selenium.webdriver.remote.webelement.WebElement (session=\"3b64278e8d0496c30d2ffcbbb6be2f88\", element=\"638d36f8-d86d-4440-a3cf-fb13482a7596\")>,\n",
       " <selenium.webdriver.remote.webelement.WebElement (session=\"3b64278e8d0496c30d2ffcbbb6be2f88\", element=\"11ef09bf-34ba-48ae-9f84-ab0bf6c6216d\")>,\n",
       " <selenium.webdriver.remote.webelement.WebElement (session=\"3b64278e8d0496c30d2ffcbbb6be2f88\", element=\"38094000-2547-4bda-a8f8-574a244f909e\")>,\n",
       " <selenium.webdriver.remote.webelement.WebElement (session=\"3b64278e8d0496c30d2ffcbbb6be2f88\", element=\"f772e807-292f-404e-a7d0-8edd22af9dc4\")>,\n",
       " <selenium.webdriver.remote.webelement.WebElement (session=\"3b64278e8d0496c30d2ffcbbb6be2f88\", element=\"528f8b31-e895-471d-99ce-c6148eb8002b\")>,\n",
       " <selenium.webdriver.remote.webelement.WebElement (session=\"3b64278e8d0496c30d2ffcbbb6be2f88\", element=\"423d87c3-e4df-4d65-833f-9d7e74e01b2c\")>,\n",
       " <selenium.webdriver.remote.webelement.WebElement (session=\"3b64278e8d0496c30d2ffcbbb6be2f88\", element=\"4b33ae7b-6337-41b5-930a-b27051869f5a\")>,\n",
       " <selenium.webdriver.remote.webelement.WebElement (session=\"3b64278e8d0496c30d2ffcbbb6be2f88\", element=\"954d4ce5-ba8c-4efc-a715-dab0caf0ed53\")>]"
      ]
     },
     "execution_count": 145,
     "metadata": {},
     "output_type": "execute_result"
    }
   ],
   "source": [
    "location=driver.find_elements_by_xpath(\"//li[@class='fleft grey-text br2 placeHolderLi location']\")\n",
    "location[0:10]"
   ]
  },
  {
   "cell_type": "code",
   "execution_count": 146,
   "id": "7365a798",
   "metadata": {},
   "outputs": [
    {
     "data": {
      "text/plain": [
       "['Gurgaon/Gurugram, Bangalore/Bengaluru',\n",
       " 'Bangalore/Bengaluru',\n",
       " 'Bangalore/Bengaluru\\n(WFH during Covid)',\n",
       " 'Bangalore/Bengaluru',\n",
       " 'Bangalore/Bengaluru',\n",
       " 'Pune, Gurgaon/Gurugram, Chennai, Bangalore/Bengaluru',\n",
       " 'Bangalore/Bengaluru',\n",
       " 'Bangalore/Bengaluru',\n",
       " 'Bangalore/Bengaluru',\n",
       " 'Bangalore/Bengaluru']"
      ]
     },
     "execution_count": 146,
     "metadata": {},
     "output_type": "execute_result"
    }
   ],
   "source": [
    "for i in location:\n",
    "    loc=i.text\n",
    "    locations.append(loc)\n",
    "    \n",
    "locations[0:10]"
   ]
  },
  {
   "cell_type": "code",
   "execution_count": 147,
   "id": "d8ae7659",
   "metadata": {},
   "outputs": [
    {
     "data": {
      "text/plain": [
       "[<selenium.webdriver.remote.webelement.WebElement (session=\"3b64278e8d0496c30d2ffcbbb6be2f88\", element=\"1c8b85df-1de6-4098-b90d-2ee31d6cc9c0\")>,\n",
       " <selenium.webdriver.remote.webelement.WebElement (session=\"3b64278e8d0496c30d2ffcbbb6be2f88\", element=\"01cbdb90-ea5b-4311-8db0-14ea805a35ee\")>,\n",
       " <selenium.webdriver.remote.webelement.WebElement (session=\"3b64278e8d0496c30d2ffcbbb6be2f88\", element=\"df516de2-ae72-4eac-894b-95db23eaa61a\")>,\n",
       " <selenium.webdriver.remote.webelement.WebElement (session=\"3b64278e8d0496c30d2ffcbbb6be2f88\", element=\"5b6ee6d3-d762-4147-a67f-a9631b1f4647\")>,\n",
       " <selenium.webdriver.remote.webelement.WebElement (session=\"3b64278e8d0496c30d2ffcbbb6be2f88\", element=\"060e96fe-bfb1-49d3-867c-55f486c22e69\")>,\n",
       " <selenium.webdriver.remote.webelement.WebElement (session=\"3b64278e8d0496c30d2ffcbbb6be2f88\", element=\"6076651a-de4e-4405-acfc-f7cac256123e\")>,\n",
       " <selenium.webdriver.remote.webelement.WebElement (session=\"3b64278e8d0496c30d2ffcbbb6be2f88\", element=\"52e88f02-6086-4814-818c-7a7d3f9a1be7\")>,\n",
       " <selenium.webdriver.remote.webelement.WebElement (session=\"3b64278e8d0496c30d2ffcbbb6be2f88\", element=\"2ee4423b-e9c2-4cc0-8b81-cf738302465f\")>,\n",
       " <selenium.webdriver.remote.webelement.WebElement (session=\"3b64278e8d0496c30d2ffcbbb6be2f88\", element=\"55f1e654-9658-4cf3-a792-1d7d511bbe48\")>,\n",
       " <selenium.webdriver.remote.webelement.WebElement (session=\"3b64278e8d0496c30d2ffcbbb6be2f88\", element=\"a5aff52d-04f2-48d6-886a-f2c204e15acd\")>]"
      ]
     },
     "execution_count": 147,
     "metadata": {},
     "output_type": "execute_result"
    }
   ],
   "source": [
    "exp=driver.find_elements_by_xpath(\"//li[@class='fleft grey-text br2 placeHolderLi experience']\")\n",
    "exp[0:10]"
   ]
  },
  {
   "cell_type": "code",
   "execution_count": 148,
   "id": "380943e3",
   "metadata": {},
   "outputs": [
    {
     "data": {
      "text/plain": [
       "['3-6 Yrs',\n",
       " '3-7 Yrs',\n",
       " '0-5 Yrs',\n",
       " '1-4 Yrs',\n",
       " '5-8 Yrs',\n",
       " '7-12 Yrs',\n",
       " '3-5 Yrs',\n",
       " '3-7 Yrs',\n",
       " '0-2 Yrs',\n",
       " '3-5 Yrs']"
      ]
     },
     "execution_count": 148,
     "metadata": {},
     "output_type": "execute_result"
    }
   ],
   "source": [
    "for i in exp:\n",
    "    ex=i.text\n",
    "    exprience.append(ex)\n",
    "    \n",
    "exprience[0:10]"
   ]
  },
  {
   "cell_type": "code",
   "execution_count": 149,
   "id": "2fc0f400",
   "metadata": {},
   "outputs": [
    {
     "data": {
      "text/html": [
       "<div>\n",
       "<style scoped>\n",
       "    .dataframe tbody tr th:only-of-type {\n",
       "        vertical-align: middle;\n",
       "    }\n",
       "\n",
       "    .dataframe tbody tr th {\n",
       "        vertical-align: top;\n",
       "    }\n",
       "\n",
       "    .dataframe thead th {\n",
       "        text-align: right;\n",
       "    }\n",
       "</style>\n",
       "<table border=\"1\" class=\"dataframe\">\n",
       "  <thead>\n",
       "    <tr style=\"text-align: right;\">\n",
       "      <th></th>\n",
       "      <th>Comapny name</th>\n",
       "      <th>job title</th>\n",
       "      <th>Location</th>\n",
       "    </tr>\n",
       "  </thead>\n",
       "  <tbody>\n",
       "    <tr>\n",
       "      <th>0</th>\n",
       "      <td>IHS Markit</td>\n",
       "      <td>Sr Data Analyst II</td>\n",
       "      <td>Gurgaon/Gurugram, Bangalore/Bengaluru</td>\n",
       "    </tr>\n",
       "    <tr>\n",
       "      <th>1</th>\n",
       "      <td>Vmware</td>\n",
       "      <td>Senior Business Analyst - Data Sciences and Ad...</td>\n",
       "      <td>Bangalore/Bengaluru</td>\n",
       "    </tr>\n",
       "    <tr>\n",
       "      <th>2</th>\n",
       "      <td>CAREERDOST ENTERPRISE</td>\n",
       "      <td>Business and Data Analyst</td>\n",
       "      <td>Bangalore/Bengaluru\\n(WFH during Covid)</td>\n",
       "    </tr>\n",
       "    <tr>\n",
       "      <th>3</th>\n",
       "      <td>Myntra</td>\n",
       "      <td>Data Analyst - Python / SQL</td>\n",
       "      <td>Bangalore/Bengaluru</td>\n",
       "    </tr>\n",
       "    <tr>\n",
       "      <th>4</th>\n",
       "      <td>PayPal</td>\n",
       "      <td>Data Analyst 2-1</td>\n",
       "      <td>Bangalore/Bengaluru</td>\n",
       "    </tr>\n",
       "    <tr>\n",
       "      <th>5</th>\n",
       "      <td>Capco</td>\n",
       "      <td>Senior Data Analyst</td>\n",
       "      <td>Pune, Gurgaon/Gurugram, Chennai, Bangalore/Ben...</td>\n",
       "    </tr>\n",
       "    <tr>\n",
       "      <th>6</th>\n",
       "      <td>Concerto HealthAI</td>\n",
       "      <td>Data Analyst</td>\n",
       "      <td>Bangalore/Bengaluru</td>\n",
       "    </tr>\n",
       "    <tr>\n",
       "      <th>7</th>\n",
       "      <td>Gsn Games India</td>\n",
       "      <td>Senior Data Analyst</td>\n",
       "      <td>Bangalore/Bengaluru</td>\n",
       "    </tr>\n",
       "    <tr>\n",
       "      <th>8</th>\n",
       "      <td>Armorblox</td>\n",
       "      <td>Jr . Data Analyst</td>\n",
       "      <td>Bangalore/Bengaluru</td>\n",
       "    </tr>\n",
       "    <tr>\n",
       "      <th>9</th>\n",
       "      <td>ReSource Pro Operational Solutions Pvt Ltd.</td>\n",
       "      <td>Senior Data Analyst, Data &amp; Analytics</td>\n",
       "      <td>Bangalore/Bengaluru</td>\n",
       "    </tr>\n",
       "  </tbody>\n",
       "</table>\n",
       "</div>"
      ],
      "text/plain": [
       "                                  Comapny name  \\\n",
       "0                                   IHS Markit   \n",
       "1                                       Vmware   \n",
       "2                        CAREERDOST ENTERPRISE   \n",
       "3                                       Myntra   \n",
       "4                                       PayPal   \n",
       "5                                        Capco   \n",
       "6                            Concerto HealthAI   \n",
       "7                              Gsn Games India   \n",
       "8                                    Armorblox   \n",
       "9  ReSource Pro Operational Solutions Pvt Ltd.   \n",
       "\n",
       "                                           job title  \\\n",
       "0                                 Sr Data Analyst II   \n",
       "1  Senior Business Analyst - Data Sciences and Ad...   \n",
       "2                          Business and Data Analyst   \n",
       "3                        Data Analyst - Python / SQL   \n",
       "4                                   Data Analyst 2-1   \n",
       "5                                Senior Data Analyst   \n",
       "6                                       Data Analyst   \n",
       "7                                Senior Data Analyst   \n",
       "8                                  Jr . Data Analyst   \n",
       "9              Senior Data Analyst, Data & Analytics   \n",
       "\n",
       "                                            Location  \n",
       "0              Gurgaon/Gurugram, Bangalore/Bengaluru  \n",
       "1                                Bangalore/Bengaluru  \n",
       "2            Bangalore/Bengaluru\\n(WFH during Covid)  \n",
       "3                                Bangalore/Bengaluru  \n",
       "4                                Bangalore/Bengaluru  \n",
       "5  Pune, Gurgaon/Gurugram, Chennai, Bangalore/Ben...  \n",
       "6                                Bangalore/Bengaluru  \n",
       "7                                Bangalore/Bengaluru  \n",
       "8                                Bangalore/Bengaluru  \n",
       "9                                Bangalore/Bengaluru  "
      ]
     },
     "execution_count": 149,
     "metadata": {},
     "output_type": "execute_result"
    }
   ],
   "source": [
    "df=pd.DataFrame({'Comapny name': comapny_name , 'job title': job_title , 'Location': locations })\n",
    "df[0:10]"
   ]
  },
  {
   "cell_type": "raw",
   "id": "43681038",
   "metadata": {},
   "source": [
    "Q2 ****************************************************************************************************************************\n",
    "Q2: Write a python program to scrape data for “Data Scientist” Job position in “Bangalore” location. You\n",
    "have to scrape the job-title, job-location, company_name. You have to scrape first 10 jobs data.\n",
    "This task will be done in following steps:"
   ]
  },
  {
   "cell_type": "code",
   "execution_count": 150,
   "id": "42ead682",
   "metadata": {},
   "outputs": [],
   "source": [
    "driver.get('https://www.naukri.com/')"
   ]
  },
  {
   "cell_type": "code",
   "execution_count": 151,
   "id": "ae90dffb",
   "metadata": {},
   "outputs": [],
   "source": [
    "name=driver.find_element_by_class_name('suggestor-input')\n",
    "name.send_keys('data scientist')"
   ]
  },
  {
   "cell_type": "code",
   "execution_count": 152,
   "id": "4e009d1d",
   "metadata": {},
   "outputs": [],
   "source": [
    "location=driver.find_element_by_xpath('/html/body/div/div[2]/div[3]/div/div/div[3]/div/div/div/input')\n",
    "location.send_keys('bengalore')"
   ]
  },
  {
   "cell_type": "code",
   "execution_count": 153,
   "id": "7add1615",
   "metadata": {},
   "outputs": [],
   "source": [
    "search=driver.find_element_by_xpath('/html/body/div/div[2]/div[3]/div/div/div[6]')\n",
    "search.click()"
   ]
  },
  {
   "cell_type": "code",
   "execution_count": 154,
   "id": "7fd907e1",
   "metadata": {},
   "outputs": [],
   "source": [
    "job_title=[]\n",
    "comapny_name=[]\n",
    "locations=[]\n",
    "exprience=[]\n"
   ]
  },
  {
   "cell_type": "code",
   "execution_count": 155,
   "id": "7140c9ed",
   "metadata": {},
   "outputs": [
    {
     "data": {
      "text/plain": [
       "[<selenium.webdriver.remote.webelement.WebElement (session=\"3b64278e8d0496c30d2ffcbbb6be2f88\", element=\"0074bd1e-8d13-4be4-a0e6-28b2b9fd9a3d\")>,\n",
       " <selenium.webdriver.remote.webelement.WebElement (session=\"3b64278e8d0496c30d2ffcbbb6be2f88\", element=\"25b7498e-6591-4e89-8d59-12c1bdf5cf0a\")>,\n",
       " <selenium.webdriver.remote.webelement.WebElement (session=\"3b64278e8d0496c30d2ffcbbb6be2f88\", element=\"c88cd932-cc62-4e26-b74a-cd68b90c0728\")>,\n",
       " <selenium.webdriver.remote.webelement.WebElement (session=\"3b64278e8d0496c30d2ffcbbb6be2f88\", element=\"f7de0a81-c9bc-4edb-be13-eb92d0e48f9d\")>,\n",
       " <selenium.webdriver.remote.webelement.WebElement (session=\"3b64278e8d0496c30d2ffcbbb6be2f88\", element=\"ff3d7c7b-d44a-48c2-890c-7e19a72f0c12\")>,\n",
       " <selenium.webdriver.remote.webelement.WebElement (session=\"3b64278e8d0496c30d2ffcbbb6be2f88\", element=\"99aa1977-1868-4b9c-a6ee-b9a8181f03f7\")>,\n",
       " <selenium.webdriver.remote.webelement.WebElement (session=\"3b64278e8d0496c30d2ffcbbb6be2f88\", element=\"03ae2643-d57c-4f41-9480-a4e821f15b9d\")>,\n",
       " <selenium.webdriver.remote.webelement.WebElement (session=\"3b64278e8d0496c30d2ffcbbb6be2f88\", element=\"ad66c7cd-9628-4299-a905-edc5ccf89e90\")>,\n",
       " <selenium.webdriver.remote.webelement.WebElement (session=\"3b64278e8d0496c30d2ffcbbb6be2f88\", element=\"57c742c2-dd75-4cf9-b12e-c4d06af8c481\")>,\n",
       " <selenium.webdriver.remote.webelement.WebElement (session=\"3b64278e8d0496c30d2ffcbbb6be2f88\", element=\"141afbc8-e9b7-45ae-8b8f-0859728ef177\")>]"
      ]
     },
     "execution_count": 155,
     "metadata": {},
     "output_type": "execute_result"
    }
   ],
   "source": [
    "title=driver.find_elements_by_xpath(\"//a[@class='title fw500 ellipsis']\")\n",
    "title[0:10]"
   ]
  },
  {
   "cell_type": "code",
   "execution_count": 156,
   "id": "10222726",
   "metadata": {},
   "outputs": [
    {
     "data": {
      "text/plain": [
       "['Rolls-Royce Data Labs : Data Scientist',\n",
       " 'Data Scientist: Artificial Intelligence',\n",
       " 'Staff Data Scientist',\n",
       " 'Sr Data Scientist',\n",
       " 'Data Scientist 1',\n",
       " 'Data Scientist Opportunity with PayU - Diversity Hiring',\n",
       " 'Lead Data Scientist',\n",
       " 'Senior Data Scientist',\n",
       " 'Cognitive/AI Senior Data Scientist',\n",
       " 'Assistant Manager/Manager/Senior Manager - Data Scientist']"
      ]
     },
     "execution_count": 156,
     "metadata": {},
     "output_type": "execute_result"
    }
   ],
   "source": [
    "for i in title:\n",
    "    tit=i.text\n",
    "    job_title.append(tit)\n",
    "    \n",
    "job_title[0:10]"
   ]
  },
  {
   "cell_type": "code",
   "execution_count": 157,
   "id": "f34c8802",
   "metadata": {},
   "outputs": [
    {
     "data": {
      "text/plain": [
       "[<selenium.webdriver.remote.webelement.WebElement (session=\"3b64278e8d0496c30d2ffcbbb6be2f88\", element=\"43e175cd-a51c-4431-a585-6fc6a2966488\")>,\n",
       " <selenium.webdriver.remote.webelement.WebElement (session=\"3b64278e8d0496c30d2ffcbbb6be2f88\", element=\"383e3999-a0ac-472e-a856-bd48fdf267c7\")>,\n",
       " <selenium.webdriver.remote.webelement.WebElement (session=\"3b64278e8d0496c30d2ffcbbb6be2f88\", element=\"735d6f2f-9a52-43ee-85c4-3aca66144ab2\")>,\n",
       " <selenium.webdriver.remote.webelement.WebElement (session=\"3b64278e8d0496c30d2ffcbbb6be2f88\", element=\"136fe0b0-9afd-4fe2-b125-7f256ce09df0\")>,\n",
       " <selenium.webdriver.remote.webelement.WebElement (session=\"3b64278e8d0496c30d2ffcbbb6be2f88\", element=\"b795f571-ad21-40a0-b07c-87d893e14dcc\")>,\n",
       " <selenium.webdriver.remote.webelement.WebElement (session=\"3b64278e8d0496c30d2ffcbbb6be2f88\", element=\"0183f328-a34a-4996-8f90-810adbceafc7\")>,\n",
       " <selenium.webdriver.remote.webelement.WebElement (session=\"3b64278e8d0496c30d2ffcbbb6be2f88\", element=\"5fa2fa41-261d-4dc0-b8dc-120f0d0320fb\")>,\n",
       " <selenium.webdriver.remote.webelement.WebElement (session=\"3b64278e8d0496c30d2ffcbbb6be2f88\", element=\"31a9847d-2dd0-4913-a246-91d2dbb296a0\")>,\n",
       " <selenium.webdriver.remote.webelement.WebElement (session=\"3b64278e8d0496c30d2ffcbbb6be2f88\", element=\"2fc8f862-bd26-4240-80ab-5bdae8ffac8a\")>,\n",
       " <selenium.webdriver.remote.webelement.WebElement (session=\"3b64278e8d0496c30d2ffcbbb6be2f88\", element=\"9026ac32-4e6a-43e4-b1a2-7795e601b461\")>]"
      ]
     },
     "execution_count": 157,
     "metadata": {},
     "output_type": "execute_result"
    }
   ],
   "source": [
    "name=driver.find_elements_by_xpath(\"//a[@class='subTitle ellipsis fleft']\")\n",
    "name[0:10]"
   ]
  },
  {
   "cell_type": "code",
   "execution_count": 158,
   "id": "5efba3c5",
   "metadata": {},
   "outputs": [
    {
     "data": {
      "text/plain": [
       "['Rolls Royce',\n",
       " 'IBM',\n",
       " 'Walmart',\n",
       " 'Target',\n",
       " 'PayPal',\n",
       " 'PayU',\n",
       " 'Target',\n",
       " 'Walmart',\n",
       " 'IBM',\n",
       " 'Huquo Consulting Pvt. Ltd']"
      ]
     },
     "execution_count": 158,
     "metadata": {},
     "output_type": "execute_result"
    }
   ],
   "source": [
    "for i in name:\n",
    "    na=i.text\n",
    "    comapny_name.append(na)\n",
    "    \n",
    "comapny_name[0:10]"
   ]
  },
  {
   "cell_type": "code",
   "execution_count": 159,
   "id": "c1664ac5",
   "metadata": {},
   "outputs": [
    {
     "data": {
      "text/plain": [
       "[<selenium.webdriver.remote.webelement.WebElement (session=\"3b64278e8d0496c30d2ffcbbb6be2f88\", element=\"c7c5ce5e-bf7c-46ed-a5ab-2ad9b032efa3\")>,\n",
       " <selenium.webdriver.remote.webelement.WebElement (session=\"3b64278e8d0496c30d2ffcbbb6be2f88\", element=\"3fca8331-bbde-46d4-bc00-0b150d41405d\")>,\n",
       " <selenium.webdriver.remote.webelement.WebElement (session=\"3b64278e8d0496c30d2ffcbbb6be2f88\", element=\"82126cdb-de5b-4aee-a372-c89b5a770ed9\")>,\n",
       " <selenium.webdriver.remote.webelement.WebElement (session=\"3b64278e8d0496c30d2ffcbbb6be2f88\", element=\"d5184c58-4f16-4268-bc4a-20c8d8b346e7\")>,\n",
       " <selenium.webdriver.remote.webelement.WebElement (session=\"3b64278e8d0496c30d2ffcbbb6be2f88\", element=\"650695ac-d3b4-4d9b-8d85-e07c0317bcec\")>,\n",
       " <selenium.webdriver.remote.webelement.WebElement (session=\"3b64278e8d0496c30d2ffcbbb6be2f88\", element=\"3ec6b9d8-4046-4f31-b142-0d6dd8fe1276\")>,\n",
       " <selenium.webdriver.remote.webelement.WebElement (session=\"3b64278e8d0496c30d2ffcbbb6be2f88\", element=\"53539bba-2915-49dd-a156-f1a89c97855d\")>,\n",
       " <selenium.webdriver.remote.webelement.WebElement (session=\"3b64278e8d0496c30d2ffcbbb6be2f88\", element=\"d39a26ff-b231-4e0c-bd23-96b711188239\")>,\n",
       " <selenium.webdriver.remote.webelement.WebElement (session=\"3b64278e8d0496c30d2ffcbbb6be2f88\", element=\"c1c53d57-ed0e-4263-aa54-f6b34fc04031\")>,\n",
       " <selenium.webdriver.remote.webelement.WebElement (session=\"3b64278e8d0496c30d2ffcbbb6be2f88\", element=\"9b56ca0e-f9c7-4b6c-84d1-74fd7ef6ada7\")>]"
      ]
     },
     "execution_count": 159,
     "metadata": {},
     "output_type": "execute_result"
    }
   ],
   "source": [
    "location=driver.find_elements_by_xpath(\"//li[@class='fleft grey-text br2 placeHolderLi location']\")\n",
    "location[0:10]"
   ]
  },
  {
   "cell_type": "code",
   "execution_count": 160,
   "id": "f68fab6d",
   "metadata": {},
   "outputs": [
    {
     "data": {
      "text/plain": [
       "['Bangalore/Bengaluru',\n",
       " 'Bangalore/Bengaluru',\n",
       " 'Bangalore/Bengaluru',\n",
       " 'Bangalore/Bengaluru',\n",
       " 'Bangalore/Bengaluru',\n",
       " 'Gurgaon/Gurugram, Bangalore/Bengaluru, Mumbai (All Areas)',\n",
       " 'Bangalore/Bengaluru',\n",
       " 'Bangalore/Bengaluru',\n",
       " 'Bangalore/Bengaluru',\n",
       " 'Gurgaon/Gurugram, Bangalore/Bengaluru']"
      ]
     },
     "execution_count": 160,
     "metadata": {},
     "output_type": "execute_result"
    }
   ],
   "source": [
    "for i in location:\n",
    "    loc=i.text\n",
    "    locations.append(loc)\n",
    "    \n",
    "locations[0:10]"
   ]
  },
  {
   "cell_type": "code",
   "execution_count": 161,
   "id": "e1981b67",
   "metadata": {},
   "outputs": [
    {
     "data": {
      "text/plain": [
       "[<selenium.webdriver.remote.webelement.WebElement (session=\"3b64278e8d0496c30d2ffcbbb6be2f88\", element=\"7df9c746-bdd2-4d16-b978-19503626a411\")>,\n",
       " <selenium.webdriver.remote.webelement.WebElement (session=\"3b64278e8d0496c30d2ffcbbb6be2f88\", element=\"7a77a7a4-90c2-4251-b351-510fec030ba3\")>,\n",
       " <selenium.webdriver.remote.webelement.WebElement (session=\"3b64278e8d0496c30d2ffcbbb6be2f88\", element=\"d6f8515e-4b7c-46b2-8af4-b1b41e8ea66c\")>,\n",
       " <selenium.webdriver.remote.webelement.WebElement (session=\"3b64278e8d0496c30d2ffcbbb6be2f88\", element=\"182cc321-26d9-4b70-a751-134b50e62991\")>,\n",
       " <selenium.webdriver.remote.webelement.WebElement (session=\"3b64278e8d0496c30d2ffcbbb6be2f88\", element=\"46770a5d-63f0-435b-a8a6-801837c9dbd9\")>,\n",
       " <selenium.webdriver.remote.webelement.WebElement (session=\"3b64278e8d0496c30d2ffcbbb6be2f88\", element=\"8d52aae1-0431-4845-ba74-2e74fe643b38\")>,\n",
       " <selenium.webdriver.remote.webelement.WebElement (session=\"3b64278e8d0496c30d2ffcbbb6be2f88\", element=\"39d78926-9ff9-4123-b319-6fce8302a10a\")>,\n",
       " <selenium.webdriver.remote.webelement.WebElement (session=\"3b64278e8d0496c30d2ffcbbb6be2f88\", element=\"d8be9c01-a1b6-4a9e-b1df-d0fe6d0e167e\")>,\n",
       " <selenium.webdriver.remote.webelement.WebElement (session=\"3b64278e8d0496c30d2ffcbbb6be2f88\", element=\"c86f8dc0-5e4a-459c-ada5-bba310b312ad\")>,\n",
       " <selenium.webdriver.remote.webelement.WebElement (session=\"3b64278e8d0496c30d2ffcbbb6be2f88\", element=\"45ba69a1-5f68-424e-abe0-a82c41d54da1\")>]"
      ]
     },
     "execution_count": 161,
     "metadata": {},
     "output_type": "execute_result"
    }
   ],
   "source": [
    "exp=driver.find_elements_by_xpath(\"//li[@class='fleft grey-text br2 placeHolderLi experience']\")\n",
    "exp[0:10]"
   ]
  },
  {
   "cell_type": "code",
   "execution_count": 162,
   "id": "e9ac7c18",
   "metadata": {},
   "outputs": [
    {
     "data": {
      "text/plain": [
       "['3-5 Yrs',\n",
       " '6-11 Yrs',\n",
       " '4-8 Yrs',\n",
       " '4-9 Yrs',\n",
       " '4-8 Yrs',\n",
       " '2-7 Yrs',\n",
       " '7-12 Yrs',\n",
       " '5-10 Yrs',\n",
       " '4-8 Yrs',\n",
       " '2-7 Yrs']"
      ]
     },
     "execution_count": 162,
     "metadata": {},
     "output_type": "execute_result"
    }
   ],
   "source": [
    "for i in exp:\n",
    "    ex=i.text\n",
    "    exprience.append(ex)\n",
    "    \n",
    "exprience[0:10]"
   ]
  },
  {
   "cell_type": "code",
   "execution_count": 163,
   "id": "9bb5058a",
   "metadata": {},
   "outputs": [
    {
     "data": {
      "text/html": [
       "<div>\n",
       "<style scoped>\n",
       "    .dataframe tbody tr th:only-of-type {\n",
       "        vertical-align: middle;\n",
       "    }\n",
       "\n",
       "    .dataframe tbody tr th {\n",
       "        vertical-align: top;\n",
       "    }\n",
       "\n",
       "    .dataframe thead th {\n",
       "        text-align: right;\n",
       "    }\n",
       "</style>\n",
       "<table border=\"1\" class=\"dataframe\">\n",
       "  <thead>\n",
       "    <tr style=\"text-align: right;\">\n",
       "      <th></th>\n",
       "      <th>Comapny name</th>\n",
       "      <th>job title</th>\n",
       "      <th>Location</th>\n",
       "    </tr>\n",
       "  </thead>\n",
       "  <tbody>\n",
       "    <tr>\n",
       "      <th>0</th>\n",
       "      <td>Rolls Royce</td>\n",
       "      <td>Rolls-Royce Data Labs : Data Scientist</td>\n",
       "      <td>Bangalore/Bengaluru</td>\n",
       "    </tr>\n",
       "    <tr>\n",
       "      <th>1</th>\n",
       "      <td>IBM</td>\n",
       "      <td>Data Scientist: Artificial Intelligence</td>\n",
       "      <td>Bangalore/Bengaluru</td>\n",
       "    </tr>\n",
       "    <tr>\n",
       "      <th>2</th>\n",
       "      <td>Walmart</td>\n",
       "      <td>Staff Data Scientist</td>\n",
       "      <td>Bangalore/Bengaluru</td>\n",
       "    </tr>\n",
       "    <tr>\n",
       "      <th>3</th>\n",
       "      <td>Target</td>\n",
       "      <td>Sr Data Scientist</td>\n",
       "      <td>Bangalore/Bengaluru</td>\n",
       "    </tr>\n",
       "    <tr>\n",
       "      <th>4</th>\n",
       "      <td>PayPal</td>\n",
       "      <td>Data Scientist 1</td>\n",
       "      <td>Bangalore/Bengaluru</td>\n",
       "    </tr>\n",
       "    <tr>\n",
       "      <th>5</th>\n",
       "      <td>PayU</td>\n",
       "      <td>Data Scientist Opportunity with PayU - Diversi...</td>\n",
       "      <td>Gurgaon/Gurugram, Bangalore/Bengaluru, Mumbai ...</td>\n",
       "    </tr>\n",
       "    <tr>\n",
       "      <th>6</th>\n",
       "      <td>Target</td>\n",
       "      <td>Lead Data Scientist</td>\n",
       "      <td>Bangalore/Bengaluru</td>\n",
       "    </tr>\n",
       "    <tr>\n",
       "      <th>7</th>\n",
       "      <td>Walmart</td>\n",
       "      <td>Senior Data Scientist</td>\n",
       "      <td>Bangalore/Bengaluru</td>\n",
       "    </tr>\n",
       "    <tr>\n",
       "      <th>8</th>\n",
       "      <td>IBM</td>\n",
       "      <td>Cognitive/AI Senior Data Scientist</td>\n",
       "      <td>Bangalore/Bengaluru</td>\n",
       "    </tr>\n",
       "    <tr>\n",
       "      <th>9</th>\n",
       "      <td>Huquo Consulting Pvt. Ltd</td>\n",
       "      <td>Assistant Manager/Manager/Senior Manager - Dat...</td>\n",
       "      <td>Gurgaon/Gurugram, Bangalore/Bengaluru</td>\n",
       "    </tr>\n",
       "  </tbody>\n",
       "</table>\n",
       "</div>"
      ],
      "text/plain": [
       "                Comapny name  \\\n",
       "0                Rolls Royce   \n",
       "1                        IBM   \n",
       "2                    Walmart   \n",
       "3                     Target   \n",
       "4                     PayPal   \n",
       "5                       PayU   \n",
       "6                     Target   \n",
       "7                    Walmart   \n",
       "8                        IBM   \n",
       "9  Huquo Consulting Pvt. Ltd   \n",
       "\n",
       "                                           job title  \\\n",
       "0             Rolls-Royce Data Labs : Data Scientist   \n",
       "1            Data Scientist: Artificial Intelligence   \n",
       "2                               Staff Data Scientist   \n",
       "3                                  Sr Data Scientist   \n",
       "4                                   Data Scientist 1   \n",
       "5  Data Scientist Opportunity with PayU - Diversi...   \n",
       "6                                Lead Data Scientist   \n",
       "7                              Senior Data Scientist   \n",
       "8                 Cognitive/AI Senior Data Scientist   \n",
       "9  Assistant Manager/Manager/Senior Manager - Dat...   \n",
       "\n",
       "                                            Location  \n",
       "0                                Bangalore/Bengaluru  \n",
       "1                                Bangalore/Bengaluru  \n",
       "2                                Bangalore/Bengaluru  \n",
       "3                                Bangalore/Bengaluru  \n",
       "4                                Bangalore/Bengaluru  \n",
       "5  Gurgaon/Gurugram, Bangalore/Bengaluru, Mumbai ...  \n",
       "6                                Bangalore/Bengaluru  \n",
       "7                                Bangalore/Bengaluru  \n",
       "8                                Bangalore/Bengaluru  \n",
       "9              Gurgaon/Gurugram, Bangalore/Bengaluru  "
      ]
     },
     "execution_count": 163,
     "metadata": {},
     "output_type": "execute_result"
    }
   ],
   "source": [
    "df=pd.DataFrame({'Comapny name': comapny_name , 'job title': job_title , 'Location': locations})\n",
    "df[0:10]"
   ]
  },
  {
   "cell_type": "raw",
   "id": "c6f70d31",
   "metadata": {},
   "source": [
    "Q3 **************************************************************************************************************************\n",
    "You have to use the location and salary filter.\n",
    "You have to scrape data for “Data Scientist” designation for first 10 job results.\n",
    "You have to scrape the job-title, job-location, company name, experience required.\n",
    "The location filter to be used is “Delhi/NCR”. The salary filter to be used is “3-6” lakhs"
   ]
  },
  {
   "cell_type": "code",
   "execution_count": 175,
   "id": "8e663bef",
   "metadata": {},
   "outputs": [
    {
     "data": {
      "text/plain": [
       "<selenium.webdriver.chrome.webdriver.WebDriver (session=\"73a56e8f758ca3c8f479c21c53b1d580\")>"
      ]
     },
     "execution_count": 175,
     "metadata": {},
     "output_type": "execute_result"
    }
   ],
   "source": [
    "driver = webdriver.Chrome(r\"D:\\python\\chromedriver.exe\")\n",
    "driver"
   ]
  },
  {
   "cell_type": "code",
   "execution_count": 176,
   "id": "e7909b7a",
   "metadata": {},
   "outputs": [],
   "source": [
    "driver.get('https://www.naukri.com/')"
   ]
  },
  {
   "cell_type": "code",
   "execution_count": 177,
   "id": "2bbe82ee",
   "metadata": {},
   "outputs": [],
   "source": [
    "name=driver.find_element_by_class_name('suggestor-input')\n",
    "name.send_keys('data scientist')"
   ]
  },
  {
   "cell_type": "code",
   "execution_count": 178,
   "id": "a6dcc001",
   "metadata": {},
   "outputs": [],
   "source": [
    "location=driver.find_element_by_xpath('/html/body/div/div[2]/div[3]/div/div/div[3]/div/div/div/input')\n",
    "location.send_keys('bengalore')"
   ]
  },
  {
   "cell_type": "code",
   "execution_count": 179,
   "id": "72562a63",
   "metadata": {},
   "outputs": [],
   "source": [
    "search=driver.find_element_by_xpath('/html/body/div/div[2]/div[3]/div/div/div[6]')\n",
    "search.click()"
   ]
  },
  {
   "cell_type": "code",
   "execution_count": 180,
   "id": "aebc5f19",
   "metadata": {},
   "outputs": [],
   "source": [
    "job_title=[]\n",
    "comapny_name=[]\n",
    "locations=[]\n"
   ]
  },
  {
   "cell_type": "code",
   "execution_count": 182,
   "id": "e8f12e73",
   "metadata": {},
   "outputs": [],
   "source": [
    "# salary click\n",
    "salary=driver.find_element_by_xpath('/html/body/div[1]/div[3]/div[2]/section[1]/div[2]/div[4]/div[2]/div[2]')\n",
    "salary.click()"
   ]
  },
  {
   "cell_type": "code",
   "execution_count": 183,
   "id": "b7826da7",
   "metadata": {},
   "outputs": [],
   "source": [
    "# location\n",
    "loc= driver.find_element_by_xpath('/html/body/div[1]/div[3]/div[2]/section[1]/div[2]/div[12]/div[2]/div[4]')\n",
    "loc.click()"
   ]
  },
  {
   "cell_type": "code",
   "execution_count": 184,
   "id": "bd68b4e1",
   "metadata": {},
   "outputs": [
    {
     "data": {
      "text/plain": [
       "[<selenium.webdriver.remote.webelement.WebElement (session=\"73a56e8f758ca3c8f479c21c53b1d580\", element=\"ea84ab39-22fb-46c7-a118-be5e8485d791\")>,\n",
       " <selenium.webdriver.remote.webelement.WebElement (session=\"73a56e8f758ca3c8f479c21c53b1d580\", element=\"0a82c9af-1818-46f9-89a2-9ebdc216de1e\")>,\n",
       " <selenium.webdriver.remote.webelement.WebElement (session=\"73a56e8f758ca3c8f479c21c53b1d580\", element=\"e778be2a-29dd-4c0e-8b69-dedcb01c1418\")>,\n",
       " <selenium.webdriver.remote.webelement.WebElement (session=\"73a56e8f758ca3c8f479c21c53b1d580\", element=\"fa0c212f-fc29-4902-bb68-3a912096998c\")>,\n",
       " <selenium.webdriver.remote.webelement.WebElement (session=\"73a56e8f758ca3c8f479c21c53b1d580\", element=\"5249f228-ed39-4c2d-9d19-bc68bebc83de\")>,\n",
       " <selenium.webdriver.remote.webelement.WebElement (session=\"73a56e8f758ca3c8f479c21c53b1d580\", element=\"1a21328c-c5e9-4110-8813-0a47fd60a4f3\")>,\n",
       " <selenium.webdriver.remote.webelement.WebElement (session=\"73a56e8f758ca3c8f479c21c53b1d580\", element=\"6de42773-8206-4238-a57a-ea203d10d9e9\")>,\n",
       " <selenium.webdriver.remote.webelement.WebElement (session=\"73a56e8f758ca3c8f479c21c53b1d580\", element=\"c1791296-b4d9-4f6d-a021-dd0f5b65f2e3\")>,\n",
       " <selenium.webdriver.remote.webelement.WebElement (session=\"73a56e8f758ca3c8f479c21c53b1d580\", element=\"61678385-2173-4f7d-8519-feae174b2669\")>,\n",
       " <selenium.webdriver.remote.webelement.WebElement (session=\"73a56e8f758ca3c8f479c21c53b1d580\", element=\"9a725055-1a69-46ce-9078-271802e18f00\")>]"
      ]
     },
     "execution_count": 184,
     "metadata": {},
     "output_type": "execute_result"
    }
   ],
   "source": [
    "title=driver.find_elements_by_xpath(\"//a[@class='title fw500 ellipsis']\")\n",
    "title[0:10]"
   ]
  },
  {
   "cell_type": "code",
   "execution_count": 185,
   "id": "fb88bc7b",
   "metadata": {},
   "outputs": [
    {
     "data": {
      "text/plain": [
       "['Data Scientist',\n",
       " 'Data Scientist',\n",
       " 'Data Scientist - Python/SQL',\n",
       " 'Data Scientist',\n",
       " 'Urgent opening For Data Scientist role',\n",
       " 'Data and applied Scientist',\n",
       " 'Data Scientist',\n",
       " 'Senior Data Scientist Lead',\n",
       " 'Sr Data Analyst',\n",
       " 'Data Analyst/Data Engineer']"
      ]
     },
     "execution_count": 185,
     "metadata": {},
     "output_type": "execute_result"
    }
   ],
   "source": [
    "for i in title:\n",
    "    tit=i.text\n",
    "    job_title.append(tit)\n",
    "    \n",
    "job_title[0:10]"
   ]
  },
  {
   "cell_type": "code",
   "execution_count": 186,
   "id": "05a36430",
   "metadata": {},
   "outputs": [
    {
     "data": {
      "text/plain": [
       "[<selenium.webdriver.remote.webelement.WebElement (session=\"73a56e8f758ca3c8f479c21c53b1d580\", element=\"ce22778b-10f1-44f3-acf6-9c3f875cfa30\")>,\n",
       " <selenium.webdriver.remote.webelement.WebElement (session=\"73a56e8f758ca3c8f479c21c53b1d580\", element=\"fdd49d43-c8f2-4ad4-9114-8b617f887d4a\")>,\n",
       " <selenium.webdriver.remote.webelement.WebElement (session=\"73a56e8f758ca3c8f479c21c53b1d580\", element=\"bd0f8379-5786-435b-b205-3853a746039e\")>,\n",
       " <selenium.webdriver.remote.webelement.WebElement (session=\"73a56e8f758ca3c8f479c21c53b1d580\", element=\"2a00c53f-2f8e-43e5-b8f4-bab32179a749\")>,\n",
       " <selenium.webdriver.remote.webelement.WebElement (session=\"73a56e8f758ca3c8f479c21c53b1d580\", element=\"a8040847-e164-4b97-b9c5-fc66ae53b545\")>,\n",
       " <selenium.webdriver.remote.webelement.WebElement (session=\"73a56e8f758ca3c8f479c21c53b1d580\", element=\"1082d49d-9963-4257-bff7-91f4c5cc37d4\")>,\n",
       " <selenium.webdriver.remote.webelement.WebElement (session=\"73a56e8f758ca3c8f479c21c53b1d580\", element=\"74a09dec-5e0d-4719-af4d-0ff2e8369229\")>,\n",
       " <selenium.webdriver.remote.webelement.WebElement (session=\"73a56e8f758ca3c8f479c21c53b1d580\", element=\"739531f8-6acb-4454-8efc-5fedda238434\")>,\n",
       " <selenium.webdriver.remote.webelement.WebElement (session=\"73a56e8f758ca3c8f479c21c53b1d580\", element=\"928fe061-4e82-445f-bf35-5470aa9de5cd\")>,\n",
       " <selenium.webdriver.remote.webelement.WebElement (session=\"73a56e8f758ca3c8f479c21c53b1d580\", element=\"06dfbcd6-9939-47b9-8cb0-8b8dcda9420c\")>]"
      ]
     },
     "execution_count": 186,
     "metadata": {},
     "output_type": "execute_result"
    }
   ],
   "source": [
    "name=driver.find_elements_by_xpath(\"//a[@class='subTitle ellipsis fleft']\")\n",
    "name[0:10]"
   ]
  },
  {
   "cell_type": "code",
   "execution_count": 187,
   "id": "9143a6af",
   "metadata": {},
   "outputs": [
    {
     "data": {
      "text/plain": [
       "['Ashkom Media India Private Limited',\n",
       " 'BlackBuck',\n",
       " 'AVE-Promagne',\n",
       " 'Country Veggie',\n",
       " 'GLOBAL UPSIDE India Pvt Ltd',\n",
       " 'Microsoft',\n",
       " 'SpotDraft',\n",
       " 'Wipro',\n",
       " 'TECHNODYSIS PRIVATE LIMITED',\n",
       " 'Coforge']"
      ]
     },
     "execution_count": 187,
     "metadata": {},
     "output_type": "execute_result"
    }
   ],
   "source": [
    "for i in name:\n",
    "    na=i.text\n",
    "    comapny_name.append(na)\n",
    "    \n",
    "comapny_name[0:10]"
   ]
  },
  {
   "cell_type": "code",
   "execution_count": 188,
   "id": "780f9376",
   "metadata": {},
   "outputs": [
    {
     "data": {
      "text/plain": [
       "[<selenium.webdriver.remote.webelement.WebElement (session=\"73a56e8f758ca3c8f479c21c53b1d580\", element=\"af1a9394-9384-4c8c-bc66-e07b4115e196\")>,\n",
       " <selenium.webdriver.remote.webelement.WebElement (session=\"73a56e8f758ca3c8f479c21c53b1d580\", element=\"cb382222-59d9-48a2-b7a6-4f313d65cfec\")>,\n",
       " <selenium.webdriver.remote.webelement.WebElement (session=\"73a56e8f758ca3c8f479c21c53b1d580\", element=\"d59c0106-acc6-4e03-9e3a-2f34cd0339e6\")>,\n",
       " <selenium.webdriver.remote.webelement.WebElement (session=\"73a56e8f758ca3c8f479c21c53b1d580\", element=\"6a45b8b1-a587-4098-864a-fb23cff71632\")>,\n",
       " <selenium.webdriver.remote.webelement.WebElement (session=\"73a56e8f758ca3c8f479c21c53b1d580\", element=\"c9c8a3a5-9ac1-4486-87e6-81c002374b37\")>,\n",
       " <selenium.webdriver.remote.webelement.WebElement (session=\"73a56e8f758ca3c8f479c21c53b1d580\", element=\"811810dd-1613-46d9-9bd8-82f95b796c88\")>,\n",
       " <selenium.webdriver.remote.webelement.WebElement (session=\"73a56e8f758ca3c8f479c21c53b1d580\", element=\"efb46f30-6ac2-4a7f-85da-150046f6d221\")>,\n",
       " <selenium.webdriver.remote.webelement.WebElement (session=\"73a56e8f758ca3c8f479c21c53b1d580\", element=\"42dfd084-6f9c-41f0-88e2-4b93c4d63539\")>,\n",
       " <selenium.webdriver.remote.webelement.WebElement (session=\"73a56e8f758ca3c8f479c21c53b1d580\", element=\"a19817ff-1cf9-435d-aaa3-bad847ea4cd5\")>,\n",
       " <selenium.webdriver.remote.webelement.WebElement (session=\"73a56e8f758ca3c8f479c21c53b1d580\", element=\"fecb7d03-76b9-40ef-9d00-2a886f9558cb\")>]"
      ]
     },
     "execution_count": 188,
     "metadata": {},
     "output_type": "execute_result"
    }
   ],
   "source": [
    "location=driver.find_elements_by_xpath(\"//li[@class='fleft grey-text br2 placeHolderLi location']\")\n",
    "location[0:10]"
   ]
  },
  {
   "cell_type": "code",
   "execution_count": 189,
   "id": "b240e9eb",
   "metadata": {},
   "outputs": [
    {
     "data": {
      "text/plain": [
       "['Noida, Bangalore/Bengaluru',\n",
       " 'Gurgaon, Bengaluru',\n",
       " 'Noida, Kota, Mumbai, Chandigarh, Lucknow, Agra, Gurgaon/Gurugram, Jaipur, Bangalore/Bengaluru',\n",
       " 'Bharuch, Jaipur, Bhopal, Mumbai, Jhansi, Nagpur, Ghaziabad, Jaunpur, Kanpur, Delhi, Lucknow, Agra, Gurgaon, Rajkot, Bengaluru',\n",
       " 'New Delhi, Bangalore/Bengaluru',\n",
       " 'Noida, Hyderabad/Secunderabad, Bangalore/Bengaluru',\n",
       " 'Gurgaon/Gurugram, Bangalore/Bengaluru',\n",
       " 'Kolkata, Hyderabad/Secunderabad, Pune, Chennai, Bangalore/Bengaluru, Delhi / NCR, Mumbai (All Areas)',\n",
       " 'Hyderabad/Secunderabad, Pune, Chennai, Bangalore/Bengaluru, Delhi / NCR, Mumbai (All Areas)\\n(WFH during Covid)',\n",
       " 'Noida, Mumbai, Hyderabad/Secunderabad, Pune, Bangalore/Bengaluru']"
      ]
     },
     "execution_count": 189,
     "metadata": {},
     "output_type": "execute_result"
    }
   ],
   "source": [
    "for i in location:\n",
    "    loc=i.text\n",
    "    locations.append(loc)\n",
    "    \n",
    "locations[0:10]"
   ]
  },
  {
   "cell_type": "code",
   "execution_count": 190,
   "id": "cd25547a",
   "metadata": {},
   "outputs": [],
   "source": [
    "exprience=[]"
   ]
  },
  {
   "cell_type": "code",
   "execution_count": 191,
   "id": "a673b3f1",
   "metadata": {},
   "outputs": [
    {
     "data": {
      "text/plain": [
       "[<selenium.webdriver.remote.webelement.WebElement (session=\"73a56e8f758ca3c8f479c21c53b1d580\", element=\"79b9370a-9860-498b-a191-239a8e7a1cc7\")>,\n",
       " <selenium.webdriver.remote.webelement.WebElement (session=\"73a56e8f758ca3c8f479c21c53b1d580\", element=\"07adf74d-8191-4b94-8570-8534800c978c\")>,\n",
       " <selenium.webdriver.remote.webelement.WebElement (session=\"73a56e8f758ca3c8f479c21c53b1d580\", element=\"1ad95eb7-b2cc-476c-ab70-f253e1544bf9\")>,\n",
       " <selenium.webdriver.remote.webelement.WebElement (session=\"73a56e8f758ca3c8f479c21c53b1d580\", element=\"043142cf-f9ee-4e03-8295-4e7041a4e940\")>,\n",
       " <selenium.webdriver.remote.webelement.WebElement (session=\"73a56e8f758ca3c8f479c21c53b1d580\", element=\"efc00433-24d5-4034-ae06-b2ea72151d61\")>,\n",
       " <selenium.webdriver.remote.webelement.WebElement (session=\"73a56e8f758ca3c8f479c21c53b1d580\", element=\"5f6d7047-b7f4-429d-b8be-6d787f7390a2\")>,\n",
       " <selenium.webdriver.remote.webelement.WebElement (session=\"73a56e8f758ca3c8f479c21c53b1d580\", element=\"e5e6a6f4-7716-42dd-9176-1fdb33b509a1\")>,\n",
       " <selenium.webdriver.remote.webelement.WebElement (session=\"73a56e8f758ca3c8f479c21c53b1d580\", element=\"67026109-d3f7-4ffd-b941-1839179f4203\")>,\n",
       " <selenium.webdriver.remote.webelement.WebElement (session=\"73a56e8f758ca3c8f479c21c53b1d580\", element=\"78448426-67db-4ea3-a61c-2821108655f9\")>,\n",
       " <selenium.webdriver.remote.webelement.WebElement (session=\"73a56e8f758ca3c8f479c21c53b1d580\", element=\"a628086a-6cc1-4248-91dc-c3dedd5a2032\")>]"
      ]
     },
     "execution_count": 191,
     "metadata": {},
     "output_type": "execute_result"
    }
   ],
   "source": [
    "exp=driver.find_elements_by_xpath(\"//li[@class='fleft grey-text br2 placeHolderLi experience']\")\n",
    "exp[0:10]"
   ]
  },
  {
   "cell_type": "code",
   "execution_count": 192,
   "id": "3f6cc080",
   "metadata": {},
   "outputs": [
    {
     "data": {
      "text/plain": [
       "['3-6 Yrs',\n",
       " '3-7 Yrs',\n",
       " '3-8 Yrs',\n",
       " '1-3 Yrs',\n",
       " '2-4 Yrs',\n",
       " '3-7 Yrs',\n",
       " '1-5 Yrs',\n",
       " '6-11 Yrs',\n",
       " '6-10 Yrs',\n",
       " '6-10 Yrs']"
      ]
     },
     "execution_count": 192,
     "metadata": {},
     "output_type": "execute_result"
    }
   ],
   "source": [
    "for i in exp:\n",
    "    ex=i.text\n",
    "    exprience.append(ex)\n",
    "    \n",
    "exprience[0:10]"
   ]
  },
  {
   "cell_type": "code",
   "execution_count": 193,
   "id": "fe1067b0",
   "metadata": {},
   "outputs": [
    {
     "data": {
      "text/html": [
       "<div>\n",
       "<style scoped>\n",
       "    .dataframe tbody tr th:only-of-type {\n",
       "        vertical-align: middle;\n",
       "    }\n",
       "\n",
       "    .dataframe tbody tr th {\n",
       "        vertical-align: top;\n",
       "    }\n",
       "\n",
       "    .dataframe thead th {\n",
       "        text-align: right;\n",
       "    }\n",
       "</style>\n",
       "<table border=\"1\" class=\"dataframe\">\n",
       "  <thead>\n",
       "    <tr style=\"text-align: right;\">\n",
       "      <th></th>\n",
       "      <th>Comapny name</th>\n",
       "      <th>job title</th>\n",
       "      <th>Location</th>\n",
       "      <th>exprience</th>\n",
       "    </tr>\n",
       "  </thead>\n",
       "  <tbody>\n",
       "    <tr>\n",
       "      <th>0</th>\n",
       "      <td>Ashkom Media India Private Limited</td>\n",
       "      <td>Data Scientist</td>\n",
       "      <td>Noida, Bangalore/Bengaluru</td>\n",
       "      <td>3-6 Yrs</td>\n",
       "    </tr>\n",
       "    <tr>\n",
       "      <th>1</th>\n",
       "      <td>BlackBuck</td>\n",
       "      <td>Data Scientist</td>\n",
       "      <td>Gurgaon, Bengaluru</td>\n",
       "      <td>3-7 Yrs</td>\n",
       "    </tr>\n",
       "    <tr>\n",
       "      <th>2</th>\n",
       "      <td>AVE-Promagne</td>\n",
       "      <td>Data Scientist - Python/SQL</td>\n",
       "      <td>Noida, Kota, Mumbai, Chandigarh, Lucknow, Agra...</td>\n",
       "      <td>3-8 Yrs</td>\n",
       "    </tr>\n",
       "    <tr>\n",
       "      <th>3</th>\n",
       "      <td>Country Veggie</td>\n",
       "      <td>Data Scientist</td>\n",
       "      <td>Bharuch, Jaipur, Bhopal, Mumbai, Jhansi, Nagpu...</td>\n",
       "      <td>1-3 Yrs</td>\n",
       "    </tr>\n",
       "    <tr>\n",
       "      <th>4</th>\n",
       "      <td>GLOBAL UPSIDE India Pvt Ltd</td>\n",
       "      <td>Urgent opening For Data Scientist role</td>\n",
       "      <td>New Delhi, Bangalore/Bengaluru</td>\n",
       "      <td>2-4 Yrs</td>\n",
       "    </tr>\n",
       "    <tr>\n",
       "      <th>5</th>\n",
       "      <td>Microsoft</td>\n",
       "      <td>Data and applied Scientist</td>\n",
       "      <td>Noida, Hyderabad/Secunderabad, Bangalore/Benga...</td>\n",
       "      <td>3-7 Yrs</td>\n",
       "    </tr>\n",
       "    <tr>\n",
       "      <th>6</th>\n",
       "      <td>SpotDraft</td>\n",
       "      <td>Data Scientist</td>\n",
       "      <td>Gurgaon/Gurugram, Bangalore/Bengaluru</td>\n",
       "      <td>1-5 Yrs</td>\n",
       "    </tr>\n",
       "    <tr>\n",
       "      <th>7</th>\n",
       "      <td>Wipro</td>\n",
       "      <td>Senior Data Scientist Lead</td>\n",
       "      <td>Kolkata, Hyderabad/Secunderabad, Pune, Chennai...</td>\n",
       "      <td>6-11 Yrs</td>\n",
       "    </tr>\n",
       "    <tr>\n",
       "      <th>8</th>\n",
       "      <td>TECHNODYSIS PRIVATE LIMITED</td>\n",
       "      <td>Sr Data Analyst</td>\n",
       "      <td>Hyderabad/Secunderabad, Pune, Chennai, Bangalo...</td>\n",
       "      <td>6-10 Yrs</td>\n",
       "    </tr>\n",
       "    <tr>\n",
       "      <th>9</th>\n",
       "      <td>Coforge</td>\n",
       "      <td>Data Analyst/Data Engineer</td>\n",
       "      <td>Noida, Mumbai, Hyderabad/Secunderabad, Pune, B...</td>\n",
       "      <td>6-10 Yrs</td>\n",
       "    </tr>\n",
       "  </tbody>\n",
       "</table>\n",
       "</div>"
      ],
      "text/plain": [
       "                         Comapny name                               job title  \\\n",
       "0  Ashkom Media India Private Limited                          Data Scientist   \n",
       "1                           BlackBuck                          Data Scientist   \n",
       "2                        AVE-Promagne             Data Scientist - Python/SQL   \n",
       "3                      Country Veggie                          Data Scientist   \n",
       "4         GLOBAL UPSIDE India Pvt Ltd  Urgent opening For Data Scientist role   \n",
       "5                           Microsoft              Data and applied Scientist   \n",
       "6                           SpotDraft                          Data Scientist   \n",
       "7                               Wipro              Senior Data Scientist Lead   \n",
       "8         TECHNODYSIS PRIVATE LIMITED                         Sr Data Analyst   \n",
       "9                             Coforge              Data Analyst/Data Engineer   \n",
       "\n",
       "                                            Location exprience  \n",
       "0                         Noida, Bangalore/Bengaluru   3-6 Yrs  \n",
       "1                                 Gurgaon, Bengaluru   3-7 Yrs  \n",
       "2  Noida, Kota, Mumbai, Chandigarh, Lucknow, Agra...   3-8 Yrs  \n",
       "3  Bharuch, Jaipur, Bhopal, Mumbai, Jhansi, Nagpu...   1-3 Yrs  \n",
       "4                     New Delhi, Bangalore/Bengaluru   2-4 Yrs  \n",
       "5  Noida, Hyderabad/Secunderabad, Bangalore/Benga...   3-7 Yrs  \n",
       "6              Gurgaon/Gurugram, Bangalore/Bengaluru   1-5 Yrs  \n",
       "7  Kolkata, Hyderabad/Secunderabad, Pune, Chennai...  6-11 Yrs  \n",
       "8  Hyderabad/Secunderabad, Pune, Chennai, Bangalo...  6-10 Yrs  \n",
       "9  Noida, Mumbai, Hyderabad/Secunderabad, Pune, B...  6-10 Yrs  "
      ]
     },
     "execution_count": 193,
     "metadata": {},
     "output_type": "execute_result"
    }
   ],
   "source": [
    "df=pd.DataFrame({'Comapny name': comapny_name , 'job title': job_title , 'Location': locations , 'exprience': exprience })\n",
    "df[0:10]"
   ]
  },
  {
   "cell_type": "raw",
   "id": "a526a298",
   "metadata": {},
   "source": [
    "Q4 ***************************************************************************************************************************\n",
    "Q4: Scrape data of first 100 sunglasses listings on flipkart.com. You have to scrape four attributes:\n",
    "1. Brand\n",
    "2. Product Description\n",
    "3. Price"
   ]
  },
  {
   "cell_type": "code",
   "execution_count": 3,
   "id": "d7caa451",
   "metadata": {},
   "outputs": [
    {
     "data": {
      "text/plain": [
       "<selenium.webdriver.chrome.webdriver.WebDriver (session=\"74bf2337b83b67e9f3032cc55ecb0d09\")>"
      ]
     },
     "execution_count": 3,
     "metadata": {},
     "output_type": "execute_result"
    }
   ],
   "source": [
    "driver = webdriver.Chrome(r\"D:\\python\\chromedriver.exe\")\n",
    "driver"
   ]
  },
  {
   "cell_type": "code",
   "execution_count": 4,
   "id": "1a572fd1",
   "metadata": {},
   "outputs": [],
   "source": [
    "driver.get('https://www.flipkart.com/')"
   ]
  },
  {
   "cell_type": "code",
   "execution_count": 6,
   "id": "d00d510f",
   "metadata": {},
   "outputs": [],
   "source": [
    "product=driver.find_element_by_xpath('/html/body/div[1]/div/div[1]/div[1]/div[2]/div[2]/form/div/div/input')\n",
    "product.send_keys('sunglasses')"
   ]
  },
  {
   "cell_type": "code",
   "execution_count": 7,
   "id": "2cb56732",
   "metadata": {},
   "outputs": [],
   "source": [
    "search=driver.find_element_by_xpath('/html/body/div[1]/div/div[1]/div[1]/div[2]/div[2]/form/div/button')\n",
    "search.click()"
   ]
  },
  {
   "cell_type": "code",
   "execution_count": 13,
   "id": "2f2447c6",
   "metadata": {},
   "outputs": [],
   "source": [
    "brand_name=[]\n",
    "description=[]\n",
    "price=[]\n"
   ]
  },
  {
   "cell_type": "code",
   "execution_count": 14,
   "id": "b68db09d",
   "metadata": {},
   "outputs": [
    {
     "data": {
      "text/plain": [
       "[<selenium.webdriver.remote.webelement.WebElement (session=\"74bf2337b83b67e9f3032cc55ecb0d09\", element=\"25c75400-f13d-4b90-bc61-3233a439fb5c\")>,\n",
       " <selenium.webdriver.remote.webelement.WebElement (session=\"74bf2337b83b67e9f3032cc55ecb0d09\", element=\"c3d26ac1-1e2e-40d6-bb42-7d03d862a9bc\")>,\n",
       " <selenium.webdriver.remote.webelement.WebElement (session=\"74bf2337b83b67e9f3032cc55ecb0d09\", element=\"f03c83ea-1b36-47f8-a323-cd315e6c5c73\")>,\n",
       " <selenium.webdriver.remote.webelement.WebElement (session=\"74bf2337b83b67e9f3032cc55ecb0d09\", element=\"24674caf-8639-446a-b8b7-cd71fb9e3068\")>,\n",
       " <selenium.webdriver.remote.webelement.WebElement (session=\"74bf2337b83b67e9f3032cc55ecb0d09\", element=\"dbb35e04-3680-4a11-855c-c8894f795a38\")>]"
      ]
     },
     "execution_count": 14,
     "metadata": {},
     "output_type": "execute_result"
    }
   ],
   "source": [
    "brand=driver.find_elements_by_xpath(\"//div[@class='_2WkVRV']\")\n",
    "brand[0:5]"
   ]
  },
  {
   "cell_type": "code",
   "execution_count": 15,
   "id": "91f1ce9a",
   "metadata": {},
   "outputs": [
    {
     "data": {
      "text/plain": [
       "['Singco India',\n",
       " 'Ray-Ban',\n",
       " 'Fastrack',\n",
       " 'Fastrack',\n",
       " 'Elligator',\n",
       " 'Mi',\n",
       " 'Fastrack',\n",
       " 'VINCENT CHASE',\n",
       " 'Fastrack',\n",
       " 'SUNBEE',\n",
       " 'PIRASO',\n",
       " 'VINCENT CHASE',\n",
       " 'Lee Topper',\n",
       " 'PIRASO',\n",
       " 'SRPM',\n",
       " 'Ray-Ban',\n",
       " 'PIRASO',\n",
       " 'PIRASO',\n",
       " 'Fastrack',\n",
       " 'Ray-Ban',\n",
       " 'SHAAH COLLECTIONS',\n",
       " 'ROZZETTA CRAFT',\n",
       " 'hipe',\n",
       " 'Ray-Ban',\n",
       " 'New Specs',\n",
       " 'SUNBEE',\n",
       " 'Lee Topper',\n",
       " 'Ray-Ban',\n",
       " 'DEIXELS',\n",
       " 'PIRASO',\n",
       " 'Fastrack',\n",
       " 'ROZZETTA CRAFT',\n",
       " 'New Specs',\n",
       " 'New Specs',\n",
       " 'ROYAL SON',\n",
       " 'ROZZETTA CRAFT',\n",
       " 'kingsunglasses',\n",
       " 'ROZZETTA CRAFT',\n",
       " 'PIRASO',\n",
       " 'Ray-Ban']"
      ]
     },
     "execution_count": 15,
     "metadata": {},
     "output_type": "execute_result"
    }
   ],
   "source": [
    "for i in brand:\n",
    "    bra=i.text\n",
    "    brand_name.append(bra)\n",
    "    \n",
    "brand_name"
   ]
  },
  {
   "cell_type": "code",
   "execution_count": 16,
   "id": "95532230",
   "metadata": {},
   "outputs": [],
   "source": [
    "next=driver.find_element_by_xpath('/html/body/div[1]/div/div[3]/div[1]/div[2]/div[12]/div/div/nav/a[11]')\n",
    "next.click()"
   ]
  },
  {
   "cell_type": "code",
   "execution_count": 17,
   "id": "199d9203",
   "metadata": {},
   "outputs": [
    {
     "data": {
      "text/plain": [
       "[<selenium.webdriver.remote.webelement.WebElement (session=\"74bf2337b83b67e9f3032cc55ecb0d09\", element=\"dc28286a-c12e-4f93-8d06-6c1321641048\")>,\n",
       " <selenium.webdriver.remote.webelement.WebElement (session=\"74bf2337b83b67e9f3032cc55ecb0d09\", element=\"20f0984b-2e7f-44c2-8030-c5c24aca7466\")>,\n",
       " <selenium.webdriver.remote.webelement.WebElement (session=\"74bf2337b83b67e9f3032cc55ecb0d09\", element=\"a26a092e-42c7-4dd8-81be-e120fca73540\")>,\n",
       " <selenium.webdriver.remote.webelement.WebElement (session=\"74bf2337b83b67e9f3032cc55ecb0d09\", element=\"67f70044-8282-4e83-a775-6f0630a2b327\")>,\n",
       " <selenium.webdriver.remote.webelement.WebElement (session=\"74bf2337b83b67e9f3032cc55ecb0d09\", element=\"c7d477db-8141-4be3-82c4-7f3714b0188f\")>]"
      ]
     },
     "execution_count": 17,
     "metadata": {},
     "output_type": "execute_result"
    }
   ],
   "source": [
    "brand=driver.find_elements_by_xpath(\"//div[@class='_2WkVRV']\")\n",
    "brand[0:5]"
   ]
  },
  {
   "cell_type": "code",
   "execution_count": null,
   "id": "0f7d5896",
   "metadata": {},
   "outputs": [],
   "source": [
    "for i in brand:\n",
    "    bra=i.text\n",
    "    brand_name.append(bra)\n",
    "    \n",
    "brand_name"
   ]
  },
  {
   "cell_type": "code",
   "execution_count": 19,
   "id": "219c72ec",
   "metadata": {},
   "outputs": [
    {
     "data": {
      "text/plain": [
       "[<selenium.webdriver.remote.webelement.WebElement (session=\"74bf2337b83b67e9f3032cc55ecb0d09\", element=\"dc28286a-c12e-4f93-8d06-6c1321641048\")>,\n",
       " <selenium.webdriver.remote.webelement.WebElement (session=\"74bf2337b83b67e9f3032cc55ecb0d09\", element=\"20f0984b-2e7f-44c2-8030-c5c24aca7466\")>,\n",
       " <selenium.webdriver.remote.webelement.WebElement (session=\"74bf2337b83b67e9f3032cc55ecb0d09\", element=\"a26a092e-42c7-4dd8-81be-e120fca73540\")>,\n",
       " <selenium.webdriver.remote.webelement.WebElement (session=\"74bf2337b83b67e9f3032cc55ecb0d09\", element=\"67f70044-8282-4e83-a775-6f0630a2b327\")>,\n",
       " <selenium.webdriver.remote.webelement.WebElement (session=\"74bf2337b83b67e9f3032cc55ecb0d09\", element=\"c7d477db-8141-4be3-82c4-7f3714b0188f\")>]"
      ]
     },
     "execution_count": 19,
     "metadata": {},
     "output_type": "execute_result"
    }
   ],
   "source": [
    "brand=driver.find_elements_by_xpath(\"//div[@class='_2WkVRV']\")\n",
    "brand[0:5]"
   ]
  },
  {
   "cell_type": "code",
   "execution_count": 20,
   "id": "290763b9",
   "metadata": {},
   "outputs": [
    {
     "data": {
      "text/plain": [
       "['Singco India',\n",
       " 'Ray-Ban',\n",
       " 'Fastrack',\n",
       " 'Fastrack',\n",
       " 'Elligator',\n",
       " 'Mi',\n",
       " 'Fastrack',\n",
       " 'VINCENT CHASE',\n",
       " 'Fastrack',\n",
       " 'SUNBEE',\n",
       " 'PIRASO',\n",
       " 'VINCENT CHASE',\n",
       " 'Lee Topper',\n",
       " 'PIRASO',\n",
       " 'SRPM',\n",
       " 'Ray-Ban',\n",
       " 'PIRASO',\n",
       " 'PIRASO',\n",
       " 'Fastrack',\n",
       " 'Ray-Ban',\n",
       " 'SHAAH COLLECTIONS',\n",
       " 'ROZZETTA CRAFT',\n",
       " 'hipe',\n",
       " 'Ray-Ban',\n",
       " 'New Specs',\n",
       " 'SUNBEE',\n",
       " 'Lee Topper',\n",
       " 'Ray-Ban',\n",
       " 'DEIXELS',\n",
       " 'PIRASO',\n",
       " 'Fastrack',\n",
       " 'ROZZETTA CRAFT',\n",
       " 'New Specs',\n",
       " 'New Specs',\n",
       " 'ROYAL SON',\n",
       " 'ROZZETTA CRAFT',\n",
       " 'kingsunglasses',\n",
       " 'ROZZETTA CRAFT',\n",
       " 'PIRASO',\n",
       " 'Ray-Ban',\n",
       " 'SRPM',\n",
       " 'kingsunglasses',\n",
       " 'maxa',\n",
       " 'Singco India',\n",
       " 'hipe',\n",
       " 'Fastrack',\n",
       " 'ROZZETTA CRAFT',\n",
       " 'ROZZETTA CRAFT',\n",
       " 'PHENOMENAL',\n",
       " 'HIPPON',\n",
       " 'PIRASO',\n",
       " 'Ray-Ban',\n",
       " 'GANSTA',\n",
       " 'VINCENT CHASE',\n",
       " 'Fastrack',\n",
       " 'VINCENT CHASE',\n",
       " 'hipe',\n",
       " 'Elligator',\n",
       " 'ROYAL SON',\n",
       " 'ROYAL SON',\n",
       " 'New Specs',\n",
       " 'Mi',\n",
       " 'ROZZETTA CRAFT',\n",
       " 'VINCENT CHASE',\n",
       " 'AISLIN',\n",
       " 'Singco India',\n",
       " 'PIRASO',\n",
       " 'ROYAL SON',\n",
       " 'hipe',\n",
       " 'HIPPON',\n",
       " 'ROZZETTA CRAFT',\n",
       " 'Ray-Ban',\n",
       " 'kingsunglasses',\n",
       " 'AISLIN',\n",
       " 'PIRASO',\n",
       " 'Ray-Ban',\n",
       " 'Silver Kartz',\n",
       " 'Fastrack',\n",
       " 'New Specs',\n",
       " 'ROZZETTA CRAFT',\n",
       " 'SRPM',\n",
       " 'kingsunglasses',\n",
       " 'maxa',\n",
       " 'Singco India',\n",
       " 'hipe',\n",
       " 'Fastrack',\n",
       " 'ROZZETTA CRAFT',\n",
       " 'ROZZETTA CRAFT',\n",
       " 'PHENOMENAL',\n",
       " 'HIPPON',\n",
       " 'PIRASO',\n",
       " 'Ray-Ban',\n",
       " 'GANSTA',\n",
       " 'VINCENT CHASE',\n",
       " 'Fastrack',\n",
       " 'VINCENT CHASE',\n",
       " 'hipe',\n",
       " 'Elligator',\n",
       " 'ROYAL SON',\n",
       " 'ROYAL SON',\n",
       " 'New Specs',\n",
       " 'Mi',\n",
       " 'ROZZETTA CRAFT',\n",
       " 'VINCENT CHASE',\n",
       " 'AISLIN',\n",
       " 'Singco India',\n",
       " 'PIRASO',\n",
       " 'ROYAL SON',\n",
       " 'hipe',\n",
       " 'HIPPON',\n",
       " 'ROZZETTA CRAFT',\n",
       " 'Ray-Ban',\n",
       " 'kingsunglasses',\n",
       " 'AISLIN',\n",
       " 'PIRASO',\n",
       " 'Ray-Ban',\n",
       " 'Silver Kartz',\n",
       " 'Fastrack',\n",
       " 'New Specs',\n",
       " 'ROZZETTA CRAFT']"
      ]
     },
     "execution_count": 20,
     "metadata": {},
     "output_type": "execute_result"
    }
   ],
   "source": [
    "for i in brand:\n",
    "    bra=i.text\n",
    "    brand_name.append(bra)\n",
    "    \n",
    "brand_name"
   ]
  },
  {
   "cell_type": "code",
   "execution_count": 46,
   "id": "610db230",
   "metadata": {},
   "outputs": [],
   "source": [
    "sujay=brand_name[0:100]"
   ]
  },
  {
   "cell_type": "code",
   "execution_count": null,
   "id": "95381963",
   "metadata": {},
   "outputs": [],
   "source": [
    "sujay"
   ]
  },
  {
   "cell_type": "code",
   "execution_count": 22,
   "id": "fc0b0961",
   "metadata": {},
   "outputs": [],
   "source": [
    "#preview page\n",
    "\n",
    "preview=driver.find_element_by_xpath('/html/body/div[1]/div/div[3]/div[1]/div[2]/div[12]/div/div/nav/a[2]')\n",
    "preview.click()"
   ]
  },
  {
   "cell_type": "code",
   "execution_count": 24,
   "id": "6df7ec96",
   "metadata": {},
   "outputs": [
    {
     "data": {
      "text/plain": [
       "[<selenium.webdriver.remote.webelement.WebElement (session=\"74bf2337b83b67e9f3032cc55ecb0d09\", element=\"8e2452c4-db94-4dfe-8d6d-947d264d165b\")>,\n",
       " <selenium.webdriver.remote.webelement.WebElement (session=\"74bf2337b83b67e9f3032cc55ecb0d09\", element=\"fd117021-f0b5-413f-bdb8-feba1c2fa00f\")>,\n",
       " <selenium.webdriver.remote.webelement.WebElement (session=\"74bf2337b83b67e9f3032cc55ecb0d09\", element=\"3f67d1d0-69ce-48f4-81e2-46dac276b331\")>,\n",
       " <selenium.webdriver.remote.webelement.WebElement (session=\"74bf2337b83b67e9f3032cc55ecb0d09\", element=\"791f820a-d54c-4154-9690-5a120cdaf937\")>]"
      ]
     },
     "execution_count": 24,
     "metadata": {},
     "output_type": "execute_result"
    }
   ],
   "source": [
    "desc=driver.find_elements_by_xpath(\"//a[@class='IRpwTa']\")\n",
    "desc[0:4]"
   ]
  },
  {
   "cell_type": "code",
   "execution_count": null,
   "id": "2fcf707a",
   "metadata": {},
   "outputs": [],
   "source": [
    "for i in desc:\n",
    "    des=i.text\n",
    "    description.append(des)\n",
    "\n",
    "description"
   ]
  },
  {
   "cell_type": "code",
   "execution_count": 25,
   "id": "81f7b2b2",
   "metadata": {},
   "outputs": [],
   "source": [
    "next=driver.find_element_by_xpath('/html/body/div[1]/div/div[3]/div[1]/div[2]/div[12]/div/div/nav/a[11]')\n",
    "next.click()"
   ]
  },
  {
   "cell_type": "code",
   "execution_count": 26,
   "id": "f2225fb2",
   "metadata": {},
   "outputs": [
    {
     "data": {
      "text/plain": [
       "[<selenium.webdriver.remote.webelement.WebElement (session=\"74bf2337b83b67e9f3032cc55ecb0d09\", element=\"50c25785-71d4-40c8-9c39-f27cef0ac9dd\")>,\n",
       " <selenium.webdriver.remote.webelement.WebElement (session=\"74bf2337b83b67e9f3032cc55ecb0d09\", element=\"daec634f-3f63-4a40-a026-cbae5cbe9c6e\")>,\n",
       " <selenium.webdriver.remote.webelement.WebElement (session=\"74bf2337b83b67e9f3032cc55ecb0d09\", element=\"ba5420ac-76b4-47cb-86fe-a156a0466aa9\")>,\n",
       " <selenium.webdriver.remote.webelement.WebElement (session=\"74bf2337b83b67e9f3032cc55ecb0d09\", element=\"f58ef024-1801-4408-b6bf-3448923d3c8b\")>]"
      ]
     },
     "execution_count": 26,
     "metadata": {},
     "output_type": "execute_result"
    }
   ],
   "source": [
    "desc=driver.find_elements_by_xpath(\"//a[@class='IRpwTa']\")\n",
    "desc[0:4]"
   ]
  },
  {
   "cell_type": "code",
   "execution_count": 31,
   "id": "5a239895",
   "metadata": {},
   "outputs": [
    {
     "data": {
      "text/plain": [
       "['UV Protection Aviator Sunglasses (57)',\n",
       " 'UV Protection Rectangular Sunglasses (55)',\n",
       " 'UV Protection, Others Aviator Sunglasses (32)',\n",
       " 'UV Protection, Night Vision, Riding Glasses, Others Ret...',\n",
       " 'UV Protection, Mirrored, Night Vision, Riding Glasses W...',\n",
       " 'UV Protection, Mirrored, Gradient Round, Wayfarer Sungl...',\n",
       " 'by Lenskart UV Protection Wayfarer Sunglasses (49)',\n",
       " 'Mirrored, UV Protection, Riding Glasses Aviator Sunglas...',\n",
       " 'UV Protection Wayfarer Sunglasses (Free Size)',\n",
       " 'UV Protection Aviator Sunglasses (57)',\n",
       " 'UV Protection, Others Rectangular Sunglasses (Free Size...',\n",
       " 'by Lenskart Polarized, UV Protection Round Sunglasses (...',\n",
       " 'Mirrored Aviator Sunglasses (Free Size)',\n",
       " 'UV Protection, Gradient Butterfly, Over-sized Sunglasse...',\n",
       " 'UV Protection Aviator Sunglasses (Free Size)',\n",
       " 'Mirrored Round Sunglasses (55)',\n",
       " 'UV Protection Round Sunglasses (58)',\n",
       " 'UV Protection, Mirrored Round Sunglasses (54)',\n",
       " 'UV Protection Wayfarer Sunglasses (54)',\n",
       " 'UV Protection Aviator Sunglasses (62)',\n",
       " 'UV Protection, Riding Glasses, Mirrored Wayfarer Sungla...',\n",
       " 'UV Protection Aviator Sunglasses (Free Size)',\n",
       " 'UV Protection, Gradient Round Sunglasses (58)',\n",
       " 'UV Protection Wayfarer Sunglasses (62)',\n",
       " 'UV Protection Round Sunglasses (50)',\n",
       " 'Polarized Aviator Sunglasses (44)',\n",
       " 'UV Protection Oval Sunglasses (60)',\n",
       " 'UV Protection Aviator Sunglasses (55)',\n",
       " 'Gradient, UV Protection Round Sunglasses (49)',\n",
       " 'UV Protection Rectangular Sunglasses (Free Size)',\n",
       " 'UV Protection, Polarized, Mirrored Wayfarer Sunglasses ...',\n",
       " 'UV Protection Aviator Sunglasses (57)',\n",
       " 'Polarized Aviator Sunglasses (Free Size)',\n",
       " 'UV Protection, Gradient Wayfarer Sunglasses (53)',\n",
       " 'Gradient Round Sunglasses (Free Size)',\n",
       " 'Polarized, UV Protection Sports Sunglasses (Free Size)',\n",
       " 'UV Protection, Mirrored Wayfarer, Rectangular Sunglasse...',\n",
       " 'UV Protection, Riding Glasses, Toughened Glass Lens, Gr...',\n",
       " 'Gradient, UV Protection Wayfarer Sunglasses (Free Size)',\n",
       " 'UV Protection Aviator Sunglasses (45)',\n",
       " 'UV Protection Aviator Sunglasses (57)',\n",
       " 'UV Protection Rectangular Sunglasses (55)',\n",
       " 'UV Protection, Others Aviator Sunglasses (32)',\n",
       " 'UV Protection, Night Vision, Riding Glasses, Others Ret...',\n",
       " 'UV Protection, Mirrored, Night Vision, Riding Glasses W...',\n",
       " 'UV Protection, Mirrored, Gradient Round, Wayfarer Sungl...',\n",
       " 'by Lenskart UV Protection Wayfarer Sunglasses (49)',\n",
       " 'Mirrored, UV Protection, Riding Glasses Aviator Sunglas...',\n",
       " 'UV Protection Wayfarer Sunglasses (Free Size)',\n",
       " 'UV Protection Aviator Sunglasses (57)',\n",
       " 'UV Protection, Others Rectangular Sunglasses (Free Size...',\n",
       " 'by Lenskart Polarized, UV Protection Round Sunglasses (...',\n",
       " 'Mirrored Aviator Sunglasses (Free Size)',\n",
       " 'UV Protection, Gradient Butterfly, Over-sized Sunglasse...',\n",
       " 'UV Protection Aviator Sunglasses (Free Size)',\n",
       " 'Mirrored Round Sunglasses (55)',\n",
       " 'UV Protection Round Sunglasses (58)',\n",
       " 'UV Protection, Mirrored Round Sunglasses (54)',\n",
       " 'UV Protection Wayfarer Sunglasses (54)',\n",
       " 'UV Protection Aviator Sunglasses (62)',\n",
       " 'UV Protection, Riding Glasses, Mirrored Wayfarer Sungla...',\n",
       " 'UV Protection Aviator Sunglasses (Free Size)',\n",
       " 'UV Protection, Gradient Round Sunglasses (58)',\n",
       " 'UV Protection Wayfarer Sunglasses (62)',\n",
       " 'UV Protection Round Sunglasses (50)',\n",
       " 'Polarized Aviator Sunglasses (44)',\n",
       " 'UV Protection Oval Sunglasses (60)',\n",
       " 'UV Protection Aviator Sunglasses (55)',\n",
       " 'Gradient, UV Protection Round Sunglasses (49)',\n",
       " 'UV Protection Rectangular Sunglasses (Free Size)',\n",
       " 'UV Protection, Polarized, Mirrored Wayfarer Sunglasses ...',\n",
       " 'UV Protection Aviator Sunglasses (57)',\n",
       " 'Polarized Aviator Sunglasses (Free Size)',\n",
       " 'UV Protection, Gradient Wayfarer Sunglasses (53)',\n",
       " 'Gradient Round Sunglasses (Free Size)',\n",
       " 'Polarized, UV Protection Sports Sunglasses (Free Size)',\n",
       " 'UV Protection, Mirrored Wayfarer, Rectangular Sunglasse...',\n",
       " 'UV Protection, Riding Glasses, Toughened Glass Lens, Gr...',\n",
       " 'Gradient, UV Protection Wayfarer Sunglasses (Free Size)',\n",
       " 'UV Protection Aviator Sunglasses (45)',\n",
       " 'UV Protection Aviator Sunglasses (57)',\n",
       " 'UV Protection Rectangular Sunglasses (55)',\n",
       " 'UV Protection, Others Aviator Sunglasses (32)',\n",
       " 'UV Protection, Night Vision, Riding Glasses, Others Ret...',\n",
       " 'UV Protection, Mirrored, Night Vision, Riding Glasses W...',\n",
       " 'UV Protection, Mirrored, Gradient Round, Wayfarer Sungl...',\n",
       " 'by Lenskart UV Protection Wayfarer Sunglasses (49)',\n",
       " 'Mirrored, UV Protection, Riding Glasses Aviator Sunglas...',\n",
       " 'UV Protection Wayfarer Sunglasses (Free Size)',\n",
       " 'UV Protection Aviator Sunglasses (57)',\n",
       " 'UV Protection, Others Rectangular Sunglasses (Free Size...',\n",
       " 'by Lenskart Polarized, UV Protection Round Sunglasses (...',\n",
       " 'Mirrored Aviator Sunglasses (Free Size)',\n",
       " 'UV Protection, Gradient Butterfly, Over-sized Sunglasse...',\n",
       " 'UV Protection Aviator Sunglasses (Free Size)',\n",
       " 'Mirrored Round Sunglasses (55)',\n",
       " 'UV Protection Round Sunglasses (58)',\n",
       " 'UV Protection, Mirrored Round Sunglasses (54)',\n",
       " 'UV Protection Wayfarer Sunglasses (54)',\n",
       " 'UV Protection Aviator Sunglasses (62)',\n",
       " 'UV Protection, Riding Glasses, Mirrored Wayfarer Sungla...',\n",
       " 'UV Protection Aviator Sunglasses (Free Size)',\n",
       " 'UV Protection, Gradient Round Sunglasses (58)',\n",
       " 'UV Protection Wayfarer Sunglasses (62)',\n",
       " 'UV Protection Round Sunglasses (50)',\n",
       " 'Polarized Aviator Sunglasses (44)',\n",
       " 'UV Protection Oval Sunglasses (60)',\n",
       " 'UV Protection Aviator Sunglasses (55)',\n",
       " 'Gradient, UV Protection Round Sunglasses (49)',\n",
       " 'UV Protection Rectangular Sunglasses (Free Size)',\n",
       " 'UV Protection, Polarized, Mirrored Wayfarer Sunglasses ...',\n",
       " 'UV Protection Aviator Sunglasses (57)',\n",
       " 'Polarized Aviator Sunglasses (Free Size)',\n",
       " 'UV Protection, Gradient Wayfarer Sunglasses (53)',\n",
       " 'Gradient Round Sunglasses (Free Size)',\n",
       " 'Polarized, UV Protection Sports Sunglasses (Free Size)',\n",
       " 'UV Protection, Mirrored Wayfarer, Rectangular Sunglasse...',\n",
       " 'UV Protection, Riding Glasses, Toughened Glass Lens, Gr...',\n",
       " 'Gradient, UV Protection Wayfarer Sunglasses (Free Size)',\n",
       " 'UV Protection Aviator Sunglasses (45)']"
      ]
     },
     "execution_count": 31,
     "metadata": {},
     "output_type": "execute_result"
    }
   ],
   "source": [
    "for i in desc:\n",
    "    des=i.text\n",
    "    description.append(des)\n",
    "\n",
    "description"
   ]
  },
  {
   "cell_type": "code",
   "execution_count": 27,
   "id": "1b195c47",
   "metadata": {},
   "outputs": [],
   "source": [
    "next=driver.find_element_by_xpath('/html/body/div[1]/div/div[3]/div[1]/div[2]/div[12]/div/div/nav/a[11]')\n",
    "next.click()"
   ]
  },
  {
   "cell_type": "code",
   "execution_count": 28,
   "id": "b7c645fc",
   "metadata": {},
   "outputs": [
    {
     "data": {
      "text/plain": [
       "[<selenium.webdriver.remote.webelement.WebElement (session=\"74bf2337b83b67e9f3032cc55ecb0d09\", element=\"9f556ec9-9fe0-47f4-a3c1-998095ebada4\")>,\n",
       " <selenium.webdriver.remote.webelement.WebElement (session=\"74bf2337b83b67e9f3032cc55ecb0d09\", element=\"672daf85-08da-4901-84d5-c271007bed19\")>,\n",
       " <selenium.webdriver.remote.webelement.WebElement (session=\"74bf2337b83b67e9f3032cc55ecb0d09\", element=\"1f588ae0-1f9a-4b29-88ef-8e40d83d6740\")>,\n",
       " <selenium.webdriver.remote.webelement.WebElement (session=\"74bf2337b83b67e9f3032cc55ecb0d09\", element=\"1972ba0b-7bd1-4f55-a9cc-fe44ebc5fa67\")>]"
      ]
     },
     "execution_count": 28,
     "metadata": {},
     "output_type": "execute_result"
    }
   ],
   "source": [
    "desc=driver.find_elements_by_xpath(\"//a[@class='IRpwTa']\")\n",
    "desc[0:4]"
   ]
  },
  {
   "cell_type": "code",
   "execution_count": 32,
   "id": "4d0321f4",
   "metadata": {},
   "outputs": [
    {
     "data": {
      "text/plain": [
       "['UV Protection Aviator Sunglasses (57)',\n",
       " 'UV Protection Rectangular Sunglasses (55)',\n",
       " 'UV Protection, Others Aviator Sunglasses (32)',\n",
       " 'UV Protection, Night Vision, Riding Glasses, Others Ret...',\n",
       " 'UV Protection, Mirrored, Night Vision, Riding Glasses W...',\n",
       " 'UV Protection, Mirrored, Gradient Round, Wayfarer Sungl...',\n",
       " 'by Lenskart UV Protection Wayfarer Sunglasses (49)',\n",
       " 'Mirrored, UV Protection, Riding Glasses Aviator Sunglas...',\n",
       " 'UV Protection Wayfarer Sunglasses (Free Size)',\n",
       " 'UV Protection Aviator Sunglasses (57)',\n",
       " 'UV Protection, Others Rectangular Sunglasses (Free Size...',\n",
       " 'by Lenskart Polarized, UV Protection Round Sunglasses (...',\n",
       " 'Mirrored Aviator Sunglasses (Free Size)',\n",
       " 'UV Protection, Gradient Butterfly, Over-sized Sunglasse...',\n",
       " 'UV Protection Aviator Sunglasses (Free Size)',\n",
       " 'Mirrored Round Sunglasses (55)',\n",
       " 'UV Protection Round Sunglasses (58)',\n",
       " 'UV Protection, Mirrored Round Sunglasses (54)',\n",
       " 'UV Protection Wayfarer Sunglasses (54)',\n",
       " 'UV Protection Aviator Sunglasses (62)',\n",
       " 'UV Protection, Riding Glasses, Mirrored Wayfarer Sungla...',\n",
       " 'UV Protection Aviator Sunglasses (Free Size)',\n",
       " 'UV Protection, Gradient Round Sunglasses (58)',\n",
       " 'UV Protection Wayfarer Sunglasses (62)',\n",
       " 'UV Protection Round Sunglasses (50)',\n",
       " 'Polarized Aviator Sunglasses (44)',\n",
       " 'UV Protection Oval Sunglasses (60)',\n",
       " 'UV Protection Aviator Sunglasses (55)',\n",
       " 'Gradient, UV Protection Round Sunglasses (49)',\n",
       " 'UV Protection Rectangular Sunglasses (Free Size)',\n",
       " 'UV Protection, Polarized, Mirrored Wayfarer Sunglasses ...',\n",
       " 'UV Protection Aviator Sunglasses (57)',\n",
       " 'Polarized Aviator Sunglasses (Free Size)',\n",
       " 'UV Protection, Gradient Wayfarer Sunglasses (53)',\n",
       " 'Gradient Round Sunglasses (Free Size)',\n",
       " 'Polarized, UV Protection Sports Sunglasses (Free Size)',\n",
       " 'UV Protection, Mirrored Wayfarer, Rectangular Sunglasse...',\n",
       " 'UV Protection, Riding Glasses, Toughened Glass Lens, Gr...',\n",
       " 'Gradient, UV Protection Wayfarer Sunglasses (Free Size)',\n",
       " 'UV Protection Aviator Sunglasses (45)',\n",
       " 'UV Protection Aviator Sunglasses (57)',\n",
       " 'UV Protection Rectangular Sunglasses (55)',\n",
       " 'UV Protection, Others Aviator Sunglasses (32)',\n",
       " 'UV Protection, Night Vision, Riding Glasses, Others Ret...',\n",
       " 'UV Protection, Mirrored, Night Vision, Riding Glasses W...',\n",
       " 'UV Protection, Mirrored, Gradient Round, Wayfarer Sungl...',\n",
       " 'by Lenskart UV Protection Wayfarer Sunglasses (49)',\n",
       " 'Mirrored, UV Protection, Riding Glasses Aviator Sunglas...',\n",
       " 'UV Protection Wayfarer Sunglasses (Free Size)',\n",
       " 'UV Protection Aviator Sunglasses (57)',\n",
       " 'UV Protection, Others Rectangular Sunglasses (Free Size...',\n",
       " 'by Lenskart Polarized, UV Protection Round Sunglasses (...',\n",
       " 'Mirrored Aviator Sunglasses (Free Size)',\n",
       " 'UV Protection, Gradient Butterfly, Over-sized Sunglasse...',\n",
       " 'UV Protection Aviator Sunglasses (Free Size)',\n",
       " 'Mirrored Round Sunglasses (55)',\n",
       " 'UV Protection Round Sunglasses (58)',\n",
       " 'UV Protection, Mirrored Round Sunglasses (54)',\n",
       " 'UV Protection Wayfarer Sunglasses (54)',\n",
       " 'UV Protection Aviator Sunglasses (62)',\n",
       " 'UV Protection, Riding Glasses, Mirrored Wayfarer Sungla...',\n",
       " 'UV Protection Aviator Sunglasses (Free Size)',\n",
       " 'UV Protection, Gradient Round Sunglasses (58)',\n",
       " 'UV Protection Wayfarer Sunglasses (62)',\n",
       " 'UV Protection Round Sunglasses (50)',\n",
       " 'Polarized Aviator Sunglasses (44)',\n",
       " 'UV Protection Oval Sunglasses (60)',\n",
       " 'UV Protection Aviator Sunglasses (55)',\n",
       " 'Gradient, UV Protection Round Sunglasses (49)',\n",
       " 'UV Protection Rectangular Sunglasses (Free Size)',\n",
       " 'UV Protection, Polarized, Mirrored Wayfarer Sunglasses ...',\n",
       " 'UV Protection Aviator Sunglasses (57)',\n",
       " 'Polarized Aviator Sunglasses (Free Size)',\n",
       " 'UV Protection, Gradient Wayfarer Sunglasses (53)',\n",
       " 'Gradient Round Sunglasses (Free Size)',\n",
       " 'Polarized, UV Protection Sports Sunglasses (Free Size)',\n",
       " 'UV Protection, Mirrored Wayfarer, Rectangular Sunglasse...',\n",
       " 'UV Protection, Riding Glasses, Toughened Glass Lens, Gr...',\n",
       " 'Gradient, UV Protection Wayfarer Sunglasses (Free Size)',\n",
       " 'UV Protection Aviator Sunglasses (45)',\n",
       " 'UV Protection Aviator Sunglasses (57)',\n",
       " 'UV Protection Rectangular Sunglasses (55)',\n",
       " 'UV Protection, Others Aviator Sunglasses (32)',\n",
       " 'UV Protection, Night Vision, Riding Glasses, Others Ret...',\n",
       " 'UV Protection, Mirrored, Night Vision, Riding Glasses W...',\n",
       " 'UV Protection, Mirrored, Gradient Round, Wayfarer Sungl...',\n",
       " 'by Lenskart UV Protection Wayfarer Sunglasses (49)',\n",
       " 'Mirrored, UV Protection, Riding Glasses Aviator Sunglas...',\n",
       " 'UV Protection Wayfarer Sunglasses (Free Size)',\n",
       " 'UV Protection Aviator Sunglasses (57)',\n",
       " 'UV Protection, Others Rectangular Sunglasses (Free Size...',\n",
       " 'by Lenskart Polarized, UV Protection Round Sunglasses (...',\n",
       " 'Mirrored Aviator Sunglasses (Free Size)',\n",
       " 'UV Protection, Gradient Butterfly, Over-sized Sunglasse...',\n",
       " 'UV Protection Aviator Sunglasses (Free Size)',\n",
       " 'Mirrored Round Sunglasses (55)',\n",
       " 'UV Protection Round Sunglasses (58)',\n",
       " 'UV Protection, Mirrored Round Sunglasses (54)',\n",
       " 'UV Protection Wayfarer Sunglasses (54)',\n",
       " 'UV Protection Aviator Sunglasses (62)',\n",
       " 'UV Protection, Riding Glasses, Mirrored Wayfarer Sungla...',\n",
       " 'UV Protection Aviator Sunglasses (Free Size)',\n",
       " 'UV Protection, Gradient Round Sunglasses (58)',\n",
       " 'UV Protection Wayfarer Sunglasses (62)',\n",
       " 'UV Protection Round Sunglasses (50)',\n",
       " 'Polarized Aviator Sunglasses (44)',\n",
       " 'UV Protection Oval Sunglasses (60)',\n",
       " 'UV Protection Aviator Sunglasses (55)',\n",
       " 'Gradient, UV Protection Round Sunglasses (49)',\n",
       " 'UV Protection Rectangular Sunglasses (Free Size)',\n",
       " 'UV Protection, Polarized, Mirrored Wayfarer Sunglasses ...',\n",
       " 'UV Protection Aviator Sunglasses (57)',\n",
       " 'Polarized Aviator Sunglasses (Free Size)',\n",
       " 'UV Protection, Gradient Wayfarer Sunglasses (53)',\n",
       " 'Gradient Round Sunglasses (Free Size)',\n",
       " 'Polarized, UV Protection Sports Sunglasses (Free Size)',\n",
       " 'UV Protection, Mirrored Wayfarer, Rectangular Sunglasse...',\n",
       " 'UV Protection, Riding Glasses, Toughened Glass Lens, Gr...',\n",
       " 'Gradient, UV Protection Wayfarer Sunglasses (Free Size)',\n",
       " 'UV Protection Aviator Sunglasses (45)',\n",
       " 'UV Protection Aviator Sunglasses (57)',\n",
       " 'UV Protection Rectangular Sunglasses (55)',\n",
       " 'UV Protection, Others Aviator Sunglasses (32)',\n",
       " 'UV Protection, Night Vision, Riding Glasses, Others Ret...',\n",
       " 'UV Protection, Mirrored, Night Vision, Riding Glasses W...',\n",
       " 'UV Protection, Mirrored, Gradient Round, Wayfarer Sungl...',\n",
       " 'by Lenskart UV Protection Wayfarer Sunglasses (49)',\n",
       " 'Mirrored, UV Protection, Riding Glasses Aviator Sunglas...',\n",
       " 'UV Protection Wayfarer Sunglasses (Free Size)',\n",
       " 'UV Protection Aviator Sunglasses (57)',\n",
       " 'UV Protection, Others Rectangular Sunglasses (Free Size...',\n",
       " 'by Lenskart Polarized, UV Protection Round Sunglasses (...',\n",
       " 'Mirrored Aviator Sunglasses (Free Size)',\n",
       " 'UV Protection, Gradient Butterfly, Over-sized Sunglasse...',\n",
       " 'UV Protection Aviator Sunglasses (Free Size)',\n",
       " 'Mirrored Round Sunglasses (55)',\n",
       " 'UV Protection Round Sunglasses (58)',\n",
       " 'UV Protection, Mirrored Round Sunglasses (54)',\n",
       " 'UV Protection Wayfarer Sunglasses (54)',\n",
       " 'UV Protection Aviator Sunglasses (62)',\n",
       " 'UV Protection, Riding Glasses, Mirrored Wayfarer Sungla...',\n",
       " 'UV Protection Aviator Sunglasses (Free Size)',\n",
       " 'UV Protection, Gradient Round Sunglasses (58)',\n",
       " 'UV Protection Wayfarer Sunglasses (62)',\n",
       " 'UV Protection Round Sunglasses (50)',\n",
       " 'Polarized Aviator Sunglasses (44)',\n",
       " 'UV Protection Oval Sunglasses (60)',\n",
       " 'UV Protection Aviator Sunglasses (55)',\n",
       " 'Gradient, UV Protection Round Sunglasses (49)',\n",
       " 'UV Protection Rectangular Sunglasses (Free Size)',\n",
       " 'UV Protection, Polarized, Mirrored Wayfarer Sunglasses ...',\n",
       " 'UV Protection Aviator Sunglasses (57)',\n",
       " 'Polarized Aviator Sunglasses (Free Size)',\n",
       " 'UV Protection, Gradient Wayfarer Sunglasses (53)',\n",
       " 'Gradient Round Sunglasses (Free Size)',\n",
       " 'Polarized, UV Protection Sports Sunglasses (Free Size)',\n",
       " 'UV Protection, Mirrored Wayfarer, Rectangular Sunglasse...',\n",
       " 'UV Protection, Riding Glasses, Toughened Glass Lens, Gr...',\n",
       " 'Gradient, UV Protection Wayfarer Sunglasses (Free Size)',\n",
       " 'UV Protection Aviator Sunglasses (45)']"
      ]
     },
     "execution_count": 32,
     "metadata": {},
     "output_type": "execute_result"
    }
   ],
   "source": [
    "for i in desc:\n",
    "    des=i.text\n",
    "    description.append(des)\n",
    "\n",
    "description"
   ]
  },
  {
   "cell_type": "code",
   "execution_count": null,
   "id": "39b3af39",
   "metadata": {},
   "outputs": [],
   "source": [
    "sujay1=description[0:100]\n",
    "sujay1"
   ]
  },
  {
   "cell_type": "code",
   "execution_count": 33,
   "id": "2805cc28",
   "metadata": {},
   "outputs": [],
   "source": [
    "#preview page\n",
    "\n",
    "preview=driver.find_element_by_xpath('/html/body/div[1]/div/div[3]/div[1]/div[2]/div[12]/div/div/nav/a[2]')\n",
    "preview.click()"
   ]
  },
  {
   "cell_type": "code",
   "execution_count": 40,
   "id": "6d828049",
   "metadata": {},
   "outputs": [
    {
     "data": {
      "text/plain": [
       "[<selenium.webdriver.remote.webelement.WebElement (session=\"74bf2337b83b67e9f3032cc55ecb0d09\", element=\"a83e9fc8-7f9c-47c6-9ccf-a412fa37e715\")>,\n",
       " <selenium.webdriver.remote.webelement.WebElement (session=\"74bf2337b83b67e9f3032cc55ecb0d09\", element=\"545bc5e0-4b60-4729-9fc4-33ef698270d9\")>,\n",
       " <selenium.webdriver.remote.webelement.WebElement (session=\"74bf2337b83b67e9f3032cc55ecb0d09\", element=\"e83601e0-f278-485e-948c-1096b9229c52\")>,\n",
       " <selenium.webdriver.remote.webelement.WebElement (session=\"74bf2337b83b67e9f3032cc55ecb0d09\", element=\"4d3b7cdf-120d-4c42-854e-4b91f3aa70ee\")>]"
      ]
     },
     "execution_count": 40,
     "metadata": {},
     "output_type": "execute_result"
    }
   ],
   "source": [
    "prices=driver.find_elements_by_xpath(\"//div[@class='_30jeq3']\")\n",
    "prices[0:4]"
   ]
  },
  {
   "cell_type": "code",
   "execution_count": 43,
   "id": "a171e9f5",
   "metadata": {},
   "outputs": [
    {
     "data": {
      "text/plain": [
       "['₹329',\n",
       " '₹630',\n",
       " '₹649',\n",
       " '₹599',\n",
       " '₹699',\n",
       " '₹649',\n",
       " '₹295',\n",
       " '₹6,219',\n",
       " '₹599',\n",
       " '₹283',\n",
       " '₹236',\n",
       " '₹649',\n",
       " '₹299',\n",
       " '₹225',\n",
       " '₹224',\n",
       " '₹649',\n",
       " '₹229',\n",
       " '₹224',\n",
       " '₹209',\n",
       " '₹3,909',\n",
       " '₹474',\n",
       " '₹719',\n",
       " '₹195',\n",
       " '₹7,619',\n",
       " '₹265',\n",
       " '₹259',\n",
       " '₹1,099',\n",
       " '₹5,389',\n",
       " '₹229',\n",
       " '₹280',\n",
       " '₹219',\n",
       " '₹404',\n",
       " '₹639',\n",
       " '₹299',\n",
       " '₹329',\n",
       " '₹3,349',\n",
       " '₹214',\n",
       " '₹221',\n",
       " '₹379',\n",
       " '₹4,489',\n",
       " '₹329',\n",
       " '₹630',\n",
       " '₹649',\n",
       " '₹599',\n",
       " '₹699',\n",
       " '₹649',\n",
       " '₹295',\n",
       " '₹6,219',\n",
       " '₹599',\n",
       " '₹283',\n",
       " '₹236',\n",
       " '₹649',\n",
       " '₹299',\n",
       " '₹225',\n",
       " '₹224',\n",
       " '₹649',\n",
       " '₹229',\n",
       " '₹224',\n",
       " '₹209',\n",
       " '₹3,909',\n",
       " '₹474',\n",
       " '₹719',\n",
       " '₹195',\n",
       " '₹7,619',\n",
       " '₹265',\n",
       " '₹259',\n",
       " '₹1,099',\n",
       " '₹5,389',\n",
       " '₹229',\n",
       " '₹280',\n",
       " '₹219',\n",
       " '₹404',\n",
       " '₹639',\n",
       " '₹299',\n",
       " '₹329',\n",
       " '₹3,349',\n",
       " '₹214',\n",
       " '₹221',\n",
       " '₹379',\n",
       " '₹4,489',\n",
       " '₹329',\n",
       " '₹630',\n",
       " '₹649',\n",
       " '₹599',\n",
       " '₹699',\n",
       " '₹649',\n",
       " '₹295',\n",
       " '₹6,219',\n",
       " '₹599',\n",
       " '₹283',\n",
       " '₹236',\n",
       " '₹649',\n",
       " '₹299',\n",
       " '₹225',\n",
       " '₹224',\n",
       " '₹649',\n",
       " '₹229',\n",
       " '₹224',\n",
       " '₹209',\n",
       " '₹3,909',\n",
       " '₹474',\n",
       " '₹719',\n",
       " '₹195',\n",
       " '₹7,619',\n",
       " '₹265',\n",
       " '₹259',\n",
       " '₹1,099',\n",
       " '₹5,389',\n",
       " '₹229',\n",
       " '₹280',\n",
       " '₹219',\n",
       " '₹404',\n",
       " '₹639',\n",
       " '₹299',\n",
       " '₹329',\n",
       " '₹3,349',\n",
       " '₹214',\n",
       " '₹221',\n",
       " '₹379',\n",
       " '₹4,489',\n",
       " '₹329',\n",
       " '₹630',\n",
       " '₹649',\n",
       " '₹599',\n",
       " '₹699',\n",
       " '₹649',\n",
       " '₹295',\n",
       " '₹6,219',\n",
       " '₹599',\n",
       " '₹283',\n",
       " '₹236',\n",
       " '₹649',\n",
       " '₹299',\n",
       " '₹225',\n",
       " '₹224',\n",
       " '₹649',\n",
       " '₹229',\n",
       " '₹224',\n",
       " '₹209',\n",
       " '₹3,909',\n",
       " '₹474',\n",
       " '₹719',\n",
       " '₹195',\n",
       " '₹7,619',\n",
       " '₹265',\n",
       " '₹259',\n",
       " '₹1,099',\n",
       " '₹5,389',\n",
       " '₹229',\n",
       " '₹280',\n",
       " '₹219',\n",
       " '₹404',\n",
       " '₹639',\n",
       " '₹299',\n",
       " '₹329',\n",
       " '₹3,349',\n",
       " '₹214',\n",
       " '₹221',\n",
       " '₹379',\n",
       " '₹4,489',\n",
       " '₹329',\n",
       " '₹630',\n",
       " '₹649',\n",
       " '₹599',\n",
       " '₹699',\n",
       " '₹649',\n",
       " '₹295',\n",
       " '₹6,219',\n",
       " '₹599',\n",
       " '₹283',\n",
       " '₹236',\n",
       " '₹649',\n",
       " '₹299',\n",
       " '₹225',\n",
       " '₹224',\n",
       " '₹649',\n",
       " '₹229',\n",
       " '₹224',\n",
       " '₹209',\n",
       " '₹3,909',\n",
       " '₹474',\n",
       " '₹719',\n",
       " '₹195',\n",
       " '₹7,619',\n",
       " '₹265',\n",
       " '₹259',\n",
       " '₹1,099',\n",
       " '₹5,389',\n",
       " '₹229',\n",
       " '₹280',\n",
       " '₹219',\n",
       " '₹404',\n",
       " '₹639',\n",
       " '₹299',\n",
       " '₹329',\n",
       " '₹3,349',\n",
       " '₹214',\n",
       " '₹221',\n",
       " '₹379',\n",
       " '₹4,489',\n",
       " '₹329',\n",
       " '₹630',\n",
       " '₹649',\n",
       " '₹599',\n",
       " '₹699',\n",
       " '₹649',\n",
       " '₹295',\n",
       " '₹6,219',\n",
       " '₹599',\n",
       " '₹283',\n",
       " '₹236',\n",
       " '₹649',\n",
       " '₹299',\n",
       " '₹225',\n",
       " '₹224',\n",
       " '₹649',\n",
       " '₹229',\n",
       " '₹224',\n",
       " '₹209',\n",
       " '₹3,909',\n",
       " '₹474',\n",
       " '₹719',\n",
       " '₹195',\n",
       " '₹7,619',\n",
       " '₹265',\n",
       " '₹259',\n",
       " '₹1,099',\n",
       " '₹5,389',\n",
       " '₹229',\n",
       " '₹280',\n",
       " '₹219',\n",
       " '₹404',\n",
       " '₹639',\n",
       " '₹299',\n",
       " '₹329',\n",
       " '₹3,349',\n",
       " '₹214',\n",
       " '₹221',\n",
       " '₹379',\n",
       " '₹4,489']"
      ]
     },
     "execution_count": 43,
     "metadata": {},
     "output_type": "execute_result"
    }
   ],
   "source": [
    "for i in prices:\n",
    "    pri=i.text\n",
    "    price.append(pri)\n",
    "    \n",
    "price[40::]"
   ]
  },
  {
   "cell_type": "code",
   "execution_count": null,
   "id": "2c668cea",
   "metadata": {},
   "outputs": [],
   "source": [
    "sujay2=price[40:140]\n",
    "sujay2"
   ]
  },
  {
   "cell_type": "code",
   "execution_count": 52,
   "id": "50fa1e9b",
   "metadata": {},
   "outputs": [
    {
     "data": {
      "text/html": [
       "<div>\n",
       "<style scoped>\n",
       "    .dataframe tbody tr th:only-of-type {\n",
       "        vertical-align: middle;\n",
       "    }\n",
       "\n",
       "    .dataframe tbody tr th {\n",
       "        vertical-align: top;\n",
       "    }\n",
       "\n",
       "    .dataframe thead th {\n",
       "        text-align: right;\n",
       "    }\n",
       "</style>\n",
       "<table border=\"1\" class=\"dataframe\">\n",
       "  <thead>\n",
       "    <tr style=\"text-align: right;\">\n",
       "      <th></th>\n",
       "      <th>Brand Name</th>\n",
       "      <th>Description</th>\n",
       "      <th>Price</th>\n",
       "    </tr>\n",
       "  </thead>\n",
       "  <tbody>\n",
       "    <tr>\n",
       "      <th>0</th>\n",
       "      <td>Singco India</td>\n",
       "      <td>UV Protection Aviator Sunglasses (57)</td>\n",
       "      <td>₹329</td>\n",
       "    </tr>\n",
       "    <tr>\n",
       "      <th>1</th>\n",
       "      <td>Ray-Ban</td>\n",
       "      <td>UV Protection Rectangular Sunglasses (55)</td>\n",
       "      <td>₹630</td>\n",
       "    </tr>\n",
       "    <tr>\n",
       "      <th>2</th>\n",
       "      <td>Fastrack</td>\n",
       "      <td>UV Protection, Others Aviator Sunglasses (32)</td>\n",
       "      <td>₹649</td>\n",
       "    </tr>\n",
       "    <tr>\n",
       "      <th>3</th>\n",
       "      <td>Fastrack</td>\n",
       "      <td>UV Protection, Night Vision, Riding Glasses, O...</td>\n",
       "      <td>₹599</td>\n",
       "    </tr>\n",
       "    <tr>\n",
       "      <th>4</th>\n",
       "      <td>Elligator</td>\n",
       "      <td>UV Protection, Mirrored, Night Vision, Riding ...</td>\n",
       "      <td>₹699</td>\n",
       "    </tr>\n",
       "    <tr>\n",
       "      <th>...</th>\n",
       "      <td>...</td>\n",
       "      <td>...</td>\n",
       "      <td>...</td>\n",
       "    </tr>\n",
       "    <tr>\n",
       "      <th>95</th>\n",
       "      <td>VINCENT CHASE</td>\n",
       "      <td>Mirrored Round Sunglasses (55)</td>\n",
       "      <td>₹649</td>\n",
       "    </tr>\n",
       "    <tr>\n",
       "      <th>96</th>\n",
       "      <td>hipe</td>\n",
       "      <td>UV Protection Round Sunglasses (58)</td>\n",
       "      <td>₹229</td>\n",
       "    </tr>\n",
       "    <tr>\n",
       "      <th>97</th>\n",
       "      <td>Elligator</td>\n",
       "      <td>UV Protection, Mirrored Round Sunglasses (54)</td>\n",
       "      <td>₹224</td>\n",
       "    </tr>\n",
       "    <tr>\n",
       "      <th>98</th>\n",
       "      <td>ROYAL SON</td>\n",
       "      <td>UV Protection Wayfarer Sunglasses (54)</td>\n",
       "      <td>₹209</td>\n",
       "    </tr>\n",
       "    <tr>\n",
       "      <th>99</th>\n",
       "      <td>ROYAL SON</td>\n",
       "      <td>UV Protection Aviator Sunglasses (62)</td>\n",
       "      <td>₹3,909</td>\n",
       "    </tr>\n",
       "  </tbody>\n",
       "</table>\n",
       "<p>100 rows × 3 columns</p>\n",
       "</div>"
      ],
      "text/plain": [
       "       Brand Name                                        Description   Price\n",
       "0    Singco India              UV Protection Aviator Sunglasses (57)    ₹329\n",
       "1         Ray-Ban          UV Protection Rectangular Sunglasses (55)    ₹630\n",
       "2        Fastrack      UV Protection, Others Aviator Sunglasses (32)    ₹649\n",
       "3        Fastrack  UV Protection, Night Vision, Riding Glasses, O...    ₹599\n",
       "4       Elligator  UV Protection, Mirrored, Night Vision, Riding ...    ₹699\n",
       "..            ...                                                ...     ...\n",
       "95  VINCENT CHASE                     Mirrored Round Sunglasses (55)    ₹649\n",
       "96           hipe                UV Protection Round Sunglasses (58)    ₹229\n",
       "97      Elligator      UV Protection, Mirrored Round Sunglasses (54)    ₹224\n",
       "98      ROYAL SON             UV Protection Wayfarer Sunglasses (54)    ₹209\n",
       "99      ROYAL SON              UV Protection Aviator Sunglasses (62)  ₹3,909\n",
       "\n",
       "[100 rows x 3 columns]"
      ]
     },
     "execution_count": 52,
     "metadata": {},
     "output_type": "execute_result"
    }
   ],
   "source": [
    "df=pd.DataFrame({'Brand Name':sujay , 'Description':sujay1 , 'Price':sujay2})\n",
    "df"
   ]
  },
  {
   "cell_type": "raw",
   "id": "acc2004a",
   "metadata": {},
   "source": [
    "**************************************************************************************************************************\n",
    "Q6: Scrape data for first 100 sneakers you find when you visit flipkart.com andsearch for “sneakers” in the\n",
    "search field.\n",
    "You have to scrape 4 attributes of each sneaker:\n",
    "1. Brand\n",
    "2. Product Description\n",
    "3. Pric"
   ]
  },
  {
   "cell_type": "code",
   "execution_count": 53,
   "id": "2ac10685",
   "metadata": {},
   "outputs": [
    {
     "data": {
      "text/plain": [
       "<selenium.webdriver.chrome.webdriver.WebDriver (session=\"0e036c88070b1824dc4652d8c147c6cf\")>"
      ]
     },
     "execution_count": 53,
     "metadata": {},
     "output_type": "execute_result"
    }
   ],
   "source": [
    "driver = webdriver.Chrome(r\"D:\\python\\chromedriver.exe\")\n",
    "driver"
   ]
  },
  {
   "cell_type": "code",
   "execution_count": 54,
   "id": "caec5acf",
   "metadata": {},
   "outputs": [],
   "source": [
    "driver.get('https://www.flipkart.com/')"
   ]
  },
  {
   "cell_type": "code",
   "execution_count": 55,
   "id": "877e02cc",
   "metadata": {},
   "outputs": [],
   "source": [
    "product=driver.find_element_by_xpath('/html/body/div[1]/div/div[1]/div[1]/div[2]/div[2]/form/div/div/input')\n",
    "product.send_keys('sneakers')"
   ]
  },
  {
   "cell_type": "code",
   "execution_count": 56,
   "id": "017f4265",
   "metadata": {},
   "outputs": [],
   "source": [
    "search=driver.find_element_by_xpath('/html/body/div[1]/div/div[1]/div[1]/div[2]/div[2]/form/div/button')\n",
    "search.click()"
   ]
  },
  {
   "cell_type": "code",
   "execution_count": 72,
   "id": "67f2db8e",
   "metadata": {},
   "outputs": [],
   "source": [
    "name=[]\n",
    "description=[]\n",
    "price=[]\n",
    "discount=[]"
   ]
  },
  {
   "cell_type": "code",
   "execution_count": 60,
   "id": "c4f5e929",
   "metadata": {},
   "outputs": [
    {
     "data": {
      "text/plain": [
       "[<selenium.webdriver.remote.webelement.WebElement (session=\"0e036c88070b1824dc4652d8c147c6cf\", element=\"b9f44c00-014d-4a38-b739-4802fad3ef41\")>,\n",
       " <selenium.webdriver.remote.webelement.WebElement (session=\"0e036c88070b1824dc4652d8c147c6cf\", element=\"0ffd92d0-3fce-43e5-a5fd-112ddda5532f\")>,\n",
       " <selenium.webdriver.remote.webelement.WebElement (session=\"0e036c88070b1824dc4652d8c147c6cf\", element=\"b0485908-60b3-4f7a-a1f6-7a586375ecff\")>,\n",
       " <selenium.webdriver.remote.webelement.WebElement (session=\"0e036c88070b1824dc4652d8c147c6cf\", element=\"a00275f2-6bf9-4198-ae6a-10bbf5236a10\")>,\n",
       " <selenium.webdriver.remote.webelement.WebElement (session=\"0e036c88070b1824dc4652d8c147c6cf\", element=\"25f1bd20-0504-45cf-81dd-9b06779b7f05\")>]"
      ]
     },
     "execution_count": 60,
     "metadata": {},
     "output_type": "execute_result"
    }
   ],
   "source": [
    "brand=driver.find_elements_by_xpath(\"//div[@class='_2WkVRV']\")\n",
    "brand[0:5]"
   ]
  },
  {
   "cell_type": "code",
   "execution_count": 61,
   "id": "c603805f",
   "metadata": {},
   "outputs": [
    {
     "data": {
      "text/plain": [
       "['Singco India',\n",
       " 'Ray-Ban',\n",
       " 'Fastrack',\n",
       " 'Fastrack',\n",
       " 'Elligator',\n",
       " 'Mi',\n",
       " 'Fastrack',\n",
       " 'VINCENT CHASE',\n",
       " 'Fastrack',\n",
       " 'SUNBEE',\n",
       " 'PIRASO',\n",
       " 'VINCENT CHASE',\n",
       " 'Lee Topper',\n",
       " 'PIRASO',\n",
       " 'SRPM',\n",
       " 'Ray-Ban',\n",
       " 'PIRASO',\n",
       " 'PIRASO',\n",
       " 'Fastrack',\n",
       " 'Ray-Ban',\n",
       " 'SHAAH COLLECTIONS',\n",
       " 'ROZZETTA CRAFT',\n",
       " 'hipe',\n",
       " 'Ray-Ban',\n",
       " 'New Specs',\n",
       " 'SUNBEE',\n",
       " 'Lee Topper',\n",
       " 'Ray-Ban',\n",
       " 'DEIXELS',\n",
       " 'PIRASO',\n",
       " 'Fastrack',\n",
       " 'ROZZETTA CRAFT',\n",
       " 'New Specs',\n",
       " 'New Specs',\n",
       " 'ROYAL SON',\n",
       " 'ROZZETTA CRAFT',\n",
       " 'kingsunglasses',\n",
       " 'ROZZETTA CRAFT',\n",
       " 'PIRASO',\n",
       " 'Ray-Ban',\n",
       " 'SRPM',\n",
       " 'kingsunglasses',\n",
       " 'maxa',\n",
       " 'Singco India',\n",
       " 'hipe',\n",
       " 'Fastrack',\n",
       " 'ROZZETTA CRAFT',\n",
       " 'ROZZETTA CRAFT',\n",
       " 'PHENOMENAL',\n",
       " 'HIPPON',\n",
       " 'PIRASO',\n",
       " 'Ray-Ban',\n",
       " 'GANSTA',\n",
       " 'VINCENT CHASE',\n",
       " 'Fastrack',\n",
       " 'VINCENT CHASE',\n",
       " 'hipe',\n",
       " 'Elligator',\n",
       " 'ROYAL SON',\n",
       " 'ROYAL SON',\n",
       " 'New Specs',\n",
       " 'Mi',\n",
       " 'ROZZETTA CRAFT',\n",
       " 'VINCENT CHASE',\n",
       " 'AISLIN',\n",
       " 'Singco India',\n",
       " 'PIRASO',\n",
       " 'ROYAL SON',\n",
       " 'hipe',\n",
       " 'HIPPON',\n",
       " 'ROZZETTA CRAFT',\n",
       " 'Ray-Ban',\n",
       " 'kingsunglasses',\n",
       " 'AISLIN',\n",
       " 'PIRASO',\n",
       " 'Ray-Ban',\n",
       " 'Silver Kartz',\n",
       " 'Fastrack',\n",
       " 'New Specs',\n",
       " 'ROZZETTA CRAFT',\n",
       " 'SRPM',\n",
       " 'kingsunglasses',\n",
       " 'maxa',\n",
       " 'Singco India',\n",
       " 'hipe',\n",
       " 'Fastrack',\n",
       " 'ROZZETTA CRAFT',\n",
       " 'ROZZETTA CRAFT',\n",
       " 'PHENOMENAL',\n",
       " 'HIPPON',\n",
       " 'PIRASO',\n",
       " 'Ray-Ban',\n",
       " 'GANSTA',\n",
       " 'VINCENT CHASE',\n",
       " 'Fastrack',\n",
       " 'VINCENT CHASE',\n",
       " 'hipe',\n",
       " 'Elligator',\n",
       " 'ROYAL SON',\n",
       " 'ROYAL SON',\n",
       " 'New Specs',\n",
       " 'Mi',\n",
       " 'ROZZETTA CRAFT',\n",
       " 'VINCENT CHASE',\n",
       " 'AISLIN',\n",
       " 'Singco India',\n",
       " 'PIRASO',\n",
       " 'ROYAL SON',\n",
       " 'hipe',\n",
       " 'HIPPON',\n",
       " 'ROZZETTA CRAFT',\n",
       " 'Ray-Ban',\n",
       " 'kingsunglasses',\n",
       " 'AISLIN',\n",
       " 'PIRASO',\n",
       " 'Ray-Ban',\n",
       " 'Silver Kartz',\n",
       " 'Fastrack',\n",
       " 'New Specs',\n",
       " 'ROZZETTA CRAFT',\n",
       " 'HIGHLANDER',\n",
       " 'HIGHLANDER',\n",
       " 'URBANBOX',\n",
       " 'KWIK FIT',\n",
       " 'corsac',\n",
       " 'BRUTON',\n",
       " 'BIRDE',\n",
       " 'ZF - ALFIYA',\n",
       " 'ONECENTRE',\n",
       " 'Magnolia',\n",
       " 'SCATCHITE',\n",
       " 'Ego by NS',\n",
       " 'Labbin',\n",
       " 'ASTEROID',\n",
       " 'Layasa',\n",
       " 'HOTSTYLE',\n",
       " 'World Wear Footwear',\n",
       " 'World Wear Footwear',\n",
       " 'RapidBox',\n",
       " 'RapidBox',\n",
       " 'corsac',\n",
       " 'Kraasa',\n",
       " 'World Wear Footwear',\n",
       " 'FEWROK',\n",
       " 'World Wear Footwear',\n",
       " 'ASTEROID',\n",
       " 'BRUTON',\n",
       " 'HIGHLANDER',\n",
       " 'CLYMB',\n",
       " 'BRUTON',\n",
       " 'Robbie jones',\n",
       " 'Arivo',\n",
       " 'WHITE WALKERS',\n",
       " 'PUMA',\n",
       " 'BIRDE',\n",
       " 'HIGHLANDER',\n",
       " 'BRUTON',\n",
       " 'EMPTILE',\n",
       " 'WHITE WALKERS',\n",
       " 'BRUTON',\n",
       " 'HIGHLANDER',\n",
       " 'HIGHLANDER',\n",
       " 'URBANBOX',\n",
       " 'KWIK FIT',\n",
       " 'corsac',\n",
       " 'BRUTON',\n",
       " 'BIRDE',\n",
       " 'ZF - ALFIYA',\n",
       " 'ONECENTRE',\n",
       " 'Magnolia',\n",
       " 'SCATCHITE',\n",
       " 'Ego by NS',\n",
       " 'Labbin',\n",
       " 'ASTEROID',\n",
       " 'Layasa',\n",
       " 'HOTSTYLE',\n",
       " 'World Wear Footwear',\n",
       " 'World Wear Footwear',\n",
       " 'RapidBox',\n",
       " 'RapidBox',\n",
       " 'corsac',\n",
       " 'Kraasa',\n",
       " 'World Wear Footwear',\n",
       " 'FEWROK',\n",
       " 'World Wear Footwear',\n",
       " 'ASTEROID',\n",
       " 'BRUTON',\n",
       " 'HIGHLANDER',\n",
       " 'CLYMB',\n",
       " 'BRUTON',\n",
       " 'Robbie jones',\n",
       " 'Arivo',\n",
       " 'WHITE WALKERS',\n",
       " 'PUMA',\n",
       " 'BIRDE',\n",
       " 'HIGHLANDER',\n",
       " 'BRUTON',\n",
       " 'EMPTILE',\n",
       " 'WHITE WALKERS',\n",
       " 'BRUTON']"
      ]
     },
     "execution_count": 61,
     "metadata": {},
     "output_type": "execute_result"
    }
   ],
   "source": [
    "for i in brand:\n",
    "    bra=i.text\n",
    "    brand_name.append(bra)\n",
    "    \n",
    "brand_name"
   ]
  },
  {
   "cell_type": "code",
   "execution_count": 64,
   "id": "4f2e5927",
   "metadata": {},
   "outputs": [],
   "source": [
    "next=driver.find_element_by_xpath('/html/body/div[1]/div/div[3]/div[1]/div[2]/div[12]/div/div/nav/a[11]')\n",
    "next.click()"
   ]
  },
  {
   "cell_type": "code",
   "execution_count": 67,
   "id": "6ce7aa70",
   "metadata": {},
   "outputs": [
    {
     "data": {
      "text/plain": [
       "[<selenium.webdriver.remote.webelement.WebElement (session=\"0e036c88070b1824dc4652d8c147c6cf\", element=\"b7e108dd-7f66-4820-832b-ce0b918fbf1f\")>,\n",
       " <selenium.webdriver.remote.webelement.WebElement (session=\"0e036c88070b1824dc4652d8c147c6cf\", element=\"831d79f8-d884-4636-8314-0b2daecd2b74\")>,\n",
       " <selenium.webdriver.remote.webelement.WebElement (session=\"0e036c88070b1824dc4652d8c147c6cf\", element=\"ec69a626-7ac8-466d-b3d2-e4b00f3b7922\")>,\n",
       " <selenium.webdriver.remote.webelement.WebElement (session=\"0e036c88070b1824dc4652d8c147c6cf\", element=\"d1521b05-ba31-4d40-829a-5f7c47d35dd3\")>,\n",
       " <selenium.webdriver.remote.webelement.WebElement (session=\"0e036c88070b1824dc4652d8c147c6cf\", element=\"08419f78-e567-4487-af1c-bf876578b067\")>]"
      ]
     },
     "execution_count": 67,
     "metadata": {},
     "output_type": "execute_result"
    }
   ],
   "source": [
    "brand=driver.find_elements_by_xpath(\"//div[@class='_2WkVRV']\")\n",
    "brand[0:5]"
   ]
  },
  {
   "cell_type": "code",
   "execution_count": 68,
   "id": "985be571",
   "metadata": {},
   "outputs": [
    {
     "data": {
      "text/plain": [
       "['Singco India',\n",
       " 'Ray-Ban',\n",
       " 'Fastrack',\n",
       " 'Fastrack',\n",
       " 'Elligator',\n",
       " 'Mi',\n",
       " 'Fastrack',\n",
       " 'VINCENT CHASE',\n",
       " 'Fastrack',\n",
       " 'SUNBEE',\n",
       " 'PIRASO',\n",
       " 'VINCENT CHASE',\n",
       " 'Lee Topper',\n",
       " 'PIRASO',\n",
       " 'SRPM',\n",
       " 'Ray-Ban',\n",
       " 'PIRASO',\n",
       " 'PIRASO',\n",
       " 'Fastrack',\n",
       " 'Ray-Ban',\n",
       " 'SHAAH COLLECTIONS',\n",
       " 'ROZZETTA CRAFT',\n",
       " 'hipe',\n",
       " 'Ray-Ban',\n",
       " 'New Specs',\n",
       " 'SUNBEE',\n",
       " 'Lee Topper',\n",
       " 'Ray-Ban',\n",
       " 'DEIXELS',\n",
       " 'PIRASO',\n",
       " 'Fastrack',\n",
       " 'ROZZETTA CRAFT',\n",
       " 'New Specs',\n",
       " 'New Specs',\n",
       " 'ROYAL SON',\n",
       " 'ROZZETTA CRAFT',\n",
       " 'kingsunglasses',\n",
       " 'ROZZETTA CRAFT',\n",
       " 'PIRASO',\n",
       " 'Ray-Ban',\n",
       " 'SRPM',\n",
       " 'kingsunglasses',\n",
       " 'maxa',\n",
       " 'Singco India',\n",
       " 'hipe',\n",
       " 'Fastrack',\n",
       " 'ROZZETTA CRAFT',\n",
       " 'ROZZETTA CRAFT',\n",
       " 'PHENOMENAL',\n",
       " 'HIPPON',\n",
       " 'PIRASO',\n",
       " 'Ray-Ban',\n",
       " 'GANSTA',\n",
       " 'VINCENT CHASE',\n",
       " 'Fastrack',\n",
       " 'VINCENT CHASE',\n",
       " 'hipe',\n",
       " 'Elligator',\n",
       " 'ROYAL SON',\n",
       " 'ROYAL SON',\n",
       " 'New Specs',\n",
       " 'Mi',\n",
       " 'ROZZETTA CRAFT',\n",
       " 'VINCENT CHASE',\n",
       " 'AISLIN',\n",
       " 'Singco India',\n",
       " 'PIRASO',\n",
       " 'ROYAL SON',\n",
       " 'hipe',\n",
       " 'HIPPON',\n",
       " 'ROZZETTA CRAFT',\n",
       " 'Ray-Ban',\n",
       " 'kingsunglasses',\n",
       " 'AISLIN',\n",
       " 'PIRASO',\n",
       " 'Ray-Ban',\n",
       " 'Silver Kartz',\n",
       " 'Fastrack',\n",
       " 'New Specs',\n",
       " 'ROZZETTA CRAFT',\n",
       " 'SRPM',\n",
       " 'kingsunglasses',\n",
       " 'maxa',\n",
       " 'Singco India',\n",
       " 'hipe',\n",
       " 'Fastrack',\n",
       " 'ROZZETTA CRAFT',\n",
       " 'ROZZETTA CRAFT',\n",
       " 'PHENOMENAL',\n",
       " 'HIPPON',\n",
       " 'PIRASO',\n",
       " 'Ray-Ban',\n",
       " 'GANSTA',\n",
       " 'VINCENT CHASE',\n",
       " 'Fastrack',\n",
       " 'VINCENT CHASE',\n",
       " 'hipe',\n",
       " 'Elligator',\n",
       " 'ROYAL SON',\n",
       " 'ROYAL SON',\n",
       " 'New Specs',\n",
       " 'Mi',\n",
       " 'ROZZETTA CRAFT',\n",
       " 'VINCENT CHASE',\n",
       " 'AISLIN',\n",
       " 'Singco India',\n",
       " 'PIRASO',\n",
       " 'ROYAL SON',\n",
       " 'hipe',\n",
       " 'HIPPON',\n",
       " 'ROZZETTA CRAFT',\n",
       " 'Ray-Ban',\n",
       " 'kingsunglasses',\n",
       " 'AISLIN',\n",
       " 'PIRASO',\n",
       " 'Ray-Ban',\n",
       " 'Silver Kartz',\n",
       " 'Fastrack',\n",
       " 'New Specs',\n",
       " 'ROZZETTA CRAFT',\n",
       " 'HIGHLANDER',\n",
       " 'HIGHLANDER',\n",
       " 'URBANBOX',\n",
       " 'KWIK FIT',\n",
       " 'corsac',\n",
       " 'BRUTON',\n",
       " 'BIRDE',\n",
       " 'ZF - ALFIYA',\n",
       " 'ONECENTRE',\n",
       " 'Magnolia',\n",
       " 'SCATCHITE',\n",
       " 'Ego by NS',\n",
       " 'Labbin',\n",
       " 'ASTEROID',\n",
       " 'Layasa',\n",
       " 'HOTSTYLE',\n",
       " 'World Wear Footwear',\n",
       " 'World Wear Footwear',\n",
       " 'RapidBox',\n",
       " 'RapidBox',\n",
       " 'corsac',\n",
       " 'Kraasa',\n",
       " 'World Wear Footwear',\n",
       " 'FEWROK',\n",
       " 'World Wear Footwear',\n",
       " 'ASTEROID',\n",
       " 'BRUTON',\n",
       " 'HIGHLANDER',\n",
       " 'CLYMB',\n",
       " 'BRUTON',\n",
       " 'Robbie jones',\n",
       " 'Arivo',\n",
       " 'WHITE WALKERS',\n",
       " 'PUMA',\n",
       " 'BIRDE',\n",
       " 'HIGHLANDER',\n",
       " 'BRUTON',\n",
       " 'EMPTILE',\n",
       " 'WHITE WALKERS',\n",
       " 'BRUTON',\n",
       " 'HIGHLANDER',\n",
       " 'HIGHLANDER',\n",
       " 'URBANBOX',\n",
       " 'KWIK FIT',\n",
       " 'corsac',\n",
       " 'BRUTON',\n",
       " 'BIRDE',\n",
       " 'ZF - ALFIYA',\n",
       " 'ONECENTRE',\n",
       " 'Magnolia',\n",
       " 'SCATCHITE',\n",
       " 'Ego by NS',\n",
       " 'Labbin',\n",
       " 'ASTEROID',\n",
       " 'Layasa',\n",
       " 'HOTSTYLE',\n",
       " 'World Wear Footwear',\n",
       " 'World Wear Footwear',\n",
       " 'RapidBox',\n",
       " 'RapidBox',\n",
       " 'corsac',\n",
       " 'Kraasa',\n",
       " 'World Wear Footwear',\n",
       " 'FEWROK',\n",
       " 'World Wear Footwear',\n",
       " 'ASTEROID',\n",
       " 'BRUTON',\n",
       " 'HIGHLANDER',\n",
       " 'CLYMB',\n",
       " 'BRUTON',\n",
       " 'Robbie jones',\n",
       " 'Arivo',\n",
       " 'WHITE WALKERS',\n",
       " 'PUMA',\n",
       " 'BIRDE',\n",
       " 'HIGHLANDER',\n",
       " 'BRUTON',\n",
       " 'EMPTILE',\n",
       " 'WHITE WALKERS',\n",
       " 'BRUTON',\n",
       " 'ROCKFIELD',\n",
       " 'Jack Diamond',\n",
       " 'ROCKFIELD',\n",
       " 'DRESTA',\n",
       " 'ADIDAS ORIGINALS',\n",
       " 'CAMPUS',\n",
       " 'U.S. POLO ASSN.',\n",
       " 'Hotmess',\n",
       " 'Chevit',\n",
       " 'WOODLAND',\n",
       " 'DUCATI',\n",
       " 'Bacan',\n",
       " 'PUMA',\n",
       " 'Chevit',\n",
       " 'Chevit',\n",
       " 'BRUTON',\n",
       " 'Rising Wolf',\n",
       " 'WROGN',\n",
       " 'PUMA',\n",
       " 'KNIGHT WALKERS',\n",
       " 'brideshoes',\n",
       " 'WROGN',\n",
       " 'Skechers',\n",
       " 'ROCKFIELD',\n",
       " 'Roadster',\n",
       " 'PUMA',\n",
       " 'BRUTON',\n",
       " 'BRUTON',\n",
       " 'PUMA',\n",
       " 'PUMA',\n",
       " 'Zixer',\n",
       " 'ROCKFIELD',\n",
       " 'Skechers',\n",
       " 'PUMA',\n",
       " 'Chevit',\n",
       " 'hzisbo',\n",
       " 'WROGN',\n",
       " 'PUMA',\n",
       " 'Bobb Swag',\n",
       " 'HIGHLANDER']"
      ]
     },
     "execution_count": 68,
     "metadata": {},
     "output_type": "execute_result"
    }
   ],
   "source": [
    "for i in brand:\n",
    "    bra=i.text\n",
    "    brand_name.append(bra)\n",
    "    \n",
    "brand_name"
   ]
  },
  {
   "cell_type": "code",
   "execution_count": 70,
   "id": "0c814e2c",
   "metadata": {},
   "outputs": [],
   "source": [
    "sujay=brand_name[0:100]"
   ]
  },
  {
   "cell_type": "code",
   "execution_count": null,
   "id": "a8d6a457",
   "metadata": {},
   "outputs": [],
   "source": [
    "sujay"
   ]
  },
  {
   "cell_type": "code",
   "execution_count": 73,
   "id": "e5a52653",
   "metadata": {},
   "outputs": [
    {
     "data": {
      "text/plain": [
       "[<selenium.webdriver.remote.webelement.WebElement (session=\"0e036c88070b1824dc4652d8c147c6cf\", element=\"5c28cf12-2e80-43fa-8436-2428ff05c0ed\")>,\n",
       " <selenium.webdriver.remote.webelement.WebElement (session=\"0e036c88070b1824dc4652d8c147c6cf\", element=\"8d9e1226-93a5-4f70-8ca9-0cf3154399ad\")>,\n",
       " <selenium.webdriver.remote.webelement.WebElement (session=\"0e036c88070b1824dc4652d8c147c6cf\", element=\"9a1c6c36-11f9-4a6e-93f3-ff587e77e7eb\")>,\n",
       " <selenium.webdriver.remote.webelement.WebElement (session=\"0e036c88070b1824dc4652d8c147c6cf\", element=\"ee809547-bbab-4888-940d-e03cdd1a6795\")>]"
      ]
     },
     "execution_count": 73,
     "metadata": {},
     "output_type": "execute_result"
    }
   ],
   "source": [
    "desc=driver.find_elements_by_xpath(\"//a[@class='IRpwTa']\")\n",
    "desc[0:4]"
   ]
  },
  {
   "cell_type": "code",
   "execution_count": null,
   "id": "aa598fc1",
   "metadata": {},
   "outputs": [],
   "source": [
    "for i in desc:\n",
    "    des=i.text\n",
    "    description.append(des)\n",
    "\n",
    "description"
   ]
  },
  {
   "cell_type": "code",
   "execution_count": 75,
   "id": "2ae8198c",
   "metadata": {},
   "outputs": [],
   "source": [
    "next=driver.find_element_by_xpath('/html/body/div[1]/div/div[3]/div[1]/div[2]/div[12]/div/div/nav/a[11]')\n",
    "next.click()"
   ]
  },
  {
   "cell_type": "code",
   "execution_count": 76,
   "id": "c16f3b9b",
   "metadata": {},
   "outputs": [
    {
     "data": {
      "text/plain": [
       "[<selenium.webdriver.remote.webelement.WebElement (session=\"0e036c88070b1824dc4652d8c147c6cf\", element=\"bf632296-5def-437c-9668-b8f3e745e97b\")>,\n",
       " <selenium.webdriver.remote.webelement.WebElement (session=\"0e036c88070b1824dc4652d8c147c6cf\", element=\"610a6a75-d3ed-46e9-967b-8bfb5e666c3c\")>,\n",
       " <selenium.webdriver.remote.webelement.WebElement (session=\"0e036c88070b1824dc4652d8c147c6cf\", element=\"4aeebc87-bf52-4a9d-a908-c4f078c2e2cf\")>,\n",
       " <selenium.webdriver.remote.webelement.WebElement (session=\"0e036c88070b1824dc4652d8c147c6cf\", element=\"bb7518b3-152d-43b0-8fcd-0e4d8b2be304\")>]"
      ]
     },
     "execution_count": 76,
     "metadata": {},
     "output_type": "execute_result"
    }
   ],
   "source": [
    "desc=driver.find_elements_by_xpath(\"//a[@class='IRpwTa']\")\n",
    "desc[0:4]"
   ]
  },
  {
   "cell_type": "code",
   "execution_count": null,
   "id": "9523f9d0",
   "metadata": {},
   "outputs": [],
   "source": [
    "for i in desc:\n",
    "    des=i.text\n",
    "    description.append(des)\n",
    "\n",
    "description"
   ]
  },
  {
   "cell_type": "code",
   "execution_count": 78,
   "id": "a32ab000",
   "metadata": {},
   "outputs": [],
   "source": [
    "next=driver.find_element_by_xpath('/html/body/div[1]/div/div[3]/div[1]/div[2]/div[12]/div/div/nav/a[11]')\n",
    "next.click()"
   ]
  },
  {
   "cell_type": "code",
   "execution_count": 79,
   "id": "c6f612e7",
   "metadata": {},
   "outputs": [
    {
     "data": {
      "text/plain": [
       "[<selenium.webdriver.remote.webelement.WebElement (session=\"0e036c88070b1824dc4652d8c147c6cf\", element=\"0d7a4ea8-0277-4b55-8354-135cb0001197\")>,\n",
       " <selenium.webdriver.remote.webelement.WebElement (session=\"0e036c88070b1824dc4652d8c147c6cf\", element=\"cb2f90c0-48ce-4d09-9f2b-0d8618e58020\")>,\n",
       " <selenium.webdriver.remote.webelement.WebElement (session=\"0e036c88070b1824dc4652d8c147c6cf\", element=\"b071b969-3e54-4d14-8aef-29a05fbb1099\")>,\n",
       " <selenium.webdriver.remote.webelement.WebElement (session=\"0e036c88070b1824dc4652d8c147c6cf\", element=\"6df14fc3-f3d4-411d-8795-fa6508665da4\")>]"
      ]
     },
     "execution_count": 79,
     "metadata": {},
     "output_type": "execute_result"
    }
   ],
   "source": [
    "desc=driver.find_elements_by_xpath(\"//a[@class='IRpwTa']\")\n",
    "desc[0:4]"
   ]
  },
  {
   "cell_type": "code",
   "execution_count": null,
   "id": "c29abe42",
   "metadata": {},
   "outputs": [],
   "source": [
    "for i in desc:\n",
    "    des=i.text\n",
    "    description.append(des)\n",
    "\n",
    "description"
   ]
  },
  {
   "cell_type": "code",
   "execution_count": 82,
   "id": "e16b6a72",
   "metadata": {},
   "outputs": [
    {
     "data": {
      "text/plain": [
       "['Sneakers For Men',\n",
       " 'Sneakers For Men',\n",
       " 'Kwik FIT casual sneaker shoes and partywear shoes Casua...',\n",
       " 'STYLISH MENS BLACK SNEAKER Sneakers For Men',\n",
       " 'Canvas shoes for Men Sneakers For Men',\n",
       " 'Stylish Comfortable Lightweight, Breathable Walking Sho...',\n",
       " 'Sneakers For Men',\n",
       " 'STR2 Sneakers For Men',\n",
       " 'Sneakers For Men',\n",
       " 'Sneakers Sneakers For Men',\n",
       " 'NEW FANCY ATTRACTIVE BOOT CASUAL FOR MEN Sneakers For M...',\n",
       " 'Sneakers For Men',\n",
       " \"Original Luxury Branded Fashionable Men's Casual Walkin...\",\n",
       " 'Sneakers For Men',\n",
       " 'Men 5014 Latest Collection Stylish Casual Sports Loafer...',\n",
       " 'Latest Collection-1227 Stylish Casual Sports Sneakers F...',\n",
       " 'STYLISH MENS BLACK TRENDY SNEAKER FOR MENS Sneakers For...',\n",
       " 'Series 7 Sneakers For Men',\n",
       " '5013-Latest Collection Stylish & Trendy of casuals Snea...',\n",
       " '5011-Latest Collection Stylish & Trendy Casual Sneakers...',\n",
       " 'Original Luxury Branded Black Fancy Casual Walking Part...',\n",
       " 'Lightweight Pack Of 1 Trendy Sneakers Sneakers For Men',\n",
       " 'Sneakers For Men',\n",
       " 'Sneakers For Men',\n",
       " 'Lattest Sneakers Shoe Sneakers For Men',\n",
       " 'Sneakers For Men',\n",
       " 'Ultralight Genuine Synthetic Foam Black Shoes Sneakers ...',\n",
       " 'Stylish & Trending Outdoor Walking Comfortable Sneakers...',\n",
       " 'Sneaker Sneakers For Men',\n",
       " 'Stylish Comfortable Lightweight, Breathable Walking Sho...',\n",
       " 'Sneakers For Men',\n",
       " 'Play one8 Sneakers For Men',\n",
       " 'Stylish & Trending Outdoor Walking Comfortable Sneakers...',\n",
       " 'all white heartbeat casual shoe Sneakers For Men',\n",
       " 'Modern Trendy Sneakers Shoes Sneakers For Men',\n",
       " '411 Casual Sneakers For Men',\n",
       " 'Sneakers For Men',\n",
       " '494 Perfect Sports Shoes for Running Training Hikking &...',\n",
       " 'Modern Trendy Sneakers Shoes Sneakers For Men',\n",
       " 'Sneakers For Men',\n",
       " 'WATERPROOF-05cFULLBLACK Sneakers For Men',\n",
       " \"Men's Sneakers Fashion Lightweight Running Shoes Tennis...\",\n",
       " 'Shark-41 Sneakers For Men',\n",
       " 'STORMER LS Sneakers For Men',\n",
       " 'Casuals, Canvas, Partywear Sneakers For Men',\n",
       " 'Black Trendy Casual shoes for Men Sneakers For Men',\n",
       " 'Sneakers For Men',\n",
       " 'Fashion Outdoor Canvas Casual Light Weight Lace-up Even...',\n",
       " 'Sneakers For Men',\n",
       " 'Sneakers For Men',\n",
       " 'Perfect Combo Pack of 02 Pairs Casual Sneakers Outdoor ...',\n",
       " 'Sneakers For Men',\n",
       " 'casual shoe for men Sneakers For Men',\n",
       " 'Men White Sneakers Sneakers For Men',\n",
       " 'Stylish & Trending Outdoor Walking Comfortable Sneakers...',\n",
       " \"Men's Sneakers Fashion Lightweight Running Shoes Tennis...\",\n",
       " \"Casual , Partywear Sneakers Shoes For Men's And Boys Wh...\",\n",
       " '6616-ZF-BLACK-08 Sneakers For Men',\n",
       " 'Modern Trendy Sneakers Shoes Sneakers For Men',\n",
       " 'Sneakers For Men',\n",
       " 'Sneakers For Men',\n",
       " 'WATERPROOF-05cFULLWHITE Sneakers For Men',\n",
       " 'Sneakers For Men',\n",
       " 'Casual Sneakers White Shoes For Men Sneakers For Men',\n",
       " 'Sneakers For Men',\n",
       " 'Sneakers For Men',\n",
       " 'Sneakers For Men',\n",
       " '1259 smart black lace-ups sneakers for men Sneakers For...',\n",
       " '516 Trendy Star Perfect Sneakers For Men',\n",
       " 'Match Star Perf Sneakers For Men',\n",
       " 'Athleisure Sneakers For Men',\n",
       " 'OCTAVIA Sneakers For Men',\n",
       " 'Sneakers For Men',\n",
       " 'Perfect & Affordable Combo Pack of 02 Pairs Sneakers Ou...',\n",
       " 'Stylish White Casual Sneakers shoes Men and Boys Sneake...',\n",
       " 'Sneakers For Men',\n",
       " 'Sneakers For Men',\n",
       " 'Athleisure Sneakers For Men',\n",
       " 'FUTURE RIDER PLAY ON Sneakers For Men',\n",
       " '574 Sneakers For Men',\n",
       " 'Men SM-406 Black Sneakers For Men',\n",
       " 'Athleisure Sneakers For Men',\n",
       " 'Synthetic Leather Sneakers For Men',\n",
       " 'Sneakers For Men',\n",
       " 'Present White Men Casual Sneakers Shoes for Men (White)...',\n",
       " 'Sneakers For Men',\n",
       " 'Sneakers For Men',\n",
       " 'Sneakers For Men',\n",
       " 'RC1975 022 Corporate Casuals For Men',\n",
       " 'Sneakers For Men',\n",
       " 'Sneakers For Men',\n",
       " 'Sneakers For Men',\n",
       " 'Sneakers For Men Sneakers For Men',\n",
       " 'Sneakers For Men',\n",
       " 'Rigel Sneakers For Men',\n",
       " 'Sneakers For Men',\n",
       " 'Sneakers Shoes For Men Black Sneakers For Men',\n",
       " 'Combo Pack Of 3 Sneakers For Men',\n",
       " 'men and boys Fashion black and red color Outdoor Canvas...',\n",
       " 'Puma Turin II Sneakers For Men']"
      ]
     },
     "execution_count": 82,
     "metadata": {},
     "output_type": "execute_result"
    }
   ],
   "source": [
    "sujay1=description[0:100]\n",
    "sujay1"
   ]
  },
  {
   "cell_type": "code",
   "execution_count": 83,
   "id": "a1dedc2a",
   "metadata": {},
   "outputs": [],
   "source": [
    "#preview page\n",
    "\n",
    "preview=driver.find_element_by_xpath('/html/body/div[1]/div/div[3]/div[1]/div[2]/div[12]/div/div/nav/a[2]')\n",
    "preview.click()"
   ]
  },
  {
   "cell_type": "code",
   "execution_count": 84,
   "id": "5c45364d",
   "metadata": {},
   "outputs": [
    {
     "data": {
      "text/plain": [
       "[<selenium.webdriver.remote.webelement.WebElement (session=\"0e036c88070b1824dc4652d8c147c6cf\", element=\"c0389591-3a15-4978-940d-08952b04972e\")>,\n",
       " <selenium.webdriver.remote.webelement.WebElement (session=\"0e036c88070b1824dc4652d8c147c6cf\", element=\"a64bf042-129e-4bb6-b357-f99a8fee7503\")>,\n",
       " <selenium.webdriver.remote.webelement.WebElement (session=\"0e036c88070b1824dc4652d8c147c6cf\", element=\"e8b0ef95-59aa-4e27-a2a1-0d0f42c597ba\")>,\n",
       " <selenium.webdriver.remote.webelement.WebElement (session=\"0e036c88070b1824dc4652d8c147c6cf\", element=\"a31aafd5-6864-43aa-bc22-4e5b9cfa4b28\")>]"
      ]
     },
     "execution_count": 84,
     "metadata": {},
     "output_type": "execute_result"
    }
   ],
   "source": [
    "prices=driver.find_elements_by_xpath(\"//div[@class='_30jeq3']\")\n",
    "prices[0:4]"
   ]
  },
  {
   "cell_type": "code",
   "execution_count": 86,
   "id": "363f7ab6",
   "metadata": {},
   "outputs": [
    {
     "data": {
      "text/plain": [
       "['₹669',\n",
       " '₹945',\n",
       " '₹142',\n",
       " '₹349',\n",
       " '₹449',\n",
       " '₹299',\n",
       " '₹269',\n",
       " '₹489',\n",
       " '₹250',\n",
       " '₹351',\n",
       " '₹348',\n",
       " '₹630',\n",
       " '₹424',\n",
       " '₹449',\n",
       " '₹449',\n",
       " '₹379',\n",
       " '₹199',\n",
       " '₹199',\n",
       " '₹670',\n",
       " '₹945',\n",
       " '₹499',\n",
       " '₹366',\n",
       " '₹199',\n",
       " '₹519',\n",
       " '₹199',\n",
       " '₹449',\n",
       " '₹182',\n",
       " '₹669',\n",
       " '₹599',\n",
       " '₹249',\n",
       " '₹424',\n",
       " '₹399',\n",
       " '₹549',\n",
       " '₹303',\n",
       " '₹249',\n",
       " '₹945',\n",
       " '₹2,199',\n",
       " '₹549',\n",
       " '₹346',\n",
       " '₹449',\n",
       " '₹669',\n",
       " '₹945',\n",
       " '₹142',\n",
       " '₹349',\n",
       " '₹449',\n",
       " '₹299',\n",
       " '₹269',\n",
       " '₹489',\n",
       " '₹250',\n",
       " '₹351',\n",
       " '₹348',\n",
       " '₹630',\n",
       " '₹424',\n",
       " '₹449',\n",
       " '₹449',\n",
       " '₹379',\n",
       " '₹199',\n",
       " '₹199',\n",
       " '₹670',\n",
       " '₹945',\n",
       " '₹499',\n",
       " '₹366',\n",
       " '₹199',\n",
       " '₹519',\n",
       " '₹199',\n",
       " '₹449',\n",
       " '₹182',\n",
       " '₹669',\n",
       " '₹599',\n",
       " '₹249',\n",
       " '₹424',\n",
       " '₹399',\n",
       " '₹549',\n",
       " '₹303',\n",
       " '₹249',\n",
       " '₹945',\n",
       " '₹2,199',\n",
       " '₹549',\n",
       " '₹346',\n",
       " '₹449']"
      ]
     },
     "execution_count": 86,
     "metadata": {},
     "output_type": "execute_result"
    }
   ],
   "source": [
    "for i in prices:\n",
    "    pri=i.text\n",
    "    price.append(pri)\n",
    "    \n",
    "price"
   ]
  },
  {
   "cell_type": "code",
   "execution_count": 87,
   "id": "1ed6ca1d",
   "metadata": {},
   "outputs": [],
   "source": [
    "next=driver.find_element_by_xpath('/html/body/div[1]/div/div[3]/div[1]/div[2]/div[12]/div/div/nav/a[11]')\n",
    "next.click()"
   ]
  },
  {
   "cell_type": "code",
   "execution_count": 89,
   "id": "abcc755e",
   "metadata": {},
   "outputs": [
    {
     "data": {
      "text/plain": [
       "[<selenium.webdriver.remote.webelement.WebElement (session=\"0e036c88070b1824dc4652d8c147c6cf\", element=\"00cbce0a-9e37-40ef-812d-ee71ab8e0e05\")>,\n",
       " <selenium.webdriver.remote.webelement.WebElement (session=\"0e036c88070b1824dc4652d8c147c6cf\", element=\"e3d26368-9a24-4fa4-8f22-b38e1e7a6712\")>,\n",
       " <selenium.webdriver.remote.webelement.WebElement (session=\"0e036c88070b1824dc4652d8c147c6cf\", element=\"f466941a-d0c1-4bee-ba57-b7a5808f0fed\")>,\n",
       " <selenium.webdriver.remote.webelement.WebElement (session=\"0e036c88070b1824dc4652d8c147c6cf\", element=\"83f06f00-89fc-4c61-a7bf-445ecef8ac4e\")>]"
      ]
     },
     "execution_count": 89,
     "metadata": {},
     "output_type": "execute_result"
    }
   ],
   "source": [
    "prices=driver.find_elements_by_xpath(\"//div[@class='_30jeq3']\")\n",
    "prices[0:4]"
   ]
  },
  {
   "cell_type": "code",
   "execution_count": 90,
   "id": "48c99546",
   "metadata": {},
   "outputs": [
    {
     "data": {
      "text/plain": [
       "['₹669',\n",
       " '₹945',\n",
       " '₹142',\n",
       " '₹349',\n",
       " '₹449',\n",
       " '₹299',\n",
       " '₹269',\n",
       " '₹489',\n",
       " '₹250',\n",
       " '₹351',\n",
       " '₹348',\n",
       " '₹630',\n",
       " '₹424',\n",
       " '₹449',\n",
       " '₹449',\n",
       " '₹379',\n",
       " '₹199',\n",
       " '₹199',\n",
       " '₹670',\n",
       " '₹945',\n",
       " '₹499',\n",
       " '₹366',\n",
       " '₹199',\n",
       " '₹519',\n",
       " '₹199',\n",
       " '₹449',\n",
       " '₹182',\n",
       " '₹669',\n",
       " '₹599',\n",
       " '₹249',\n",
       " '₹424',\n",
       " '₹399',\n",
       " '₹549',\n",
       " '₹303',\n",
       " '₹249',\n",
       " '₹945',\n",
       " '₹2,199',\n",
       " '₹549',\n",
       " '₹346',\n",
       " '₹449',\n",
       " '₹669',\n",
       " '₹945',\n",
       " '₹142',\n",
       " '₹349',\n",
       " '₹449',\n",
       " '₹299',\n",
       " '₹269',\n",
       " '₹489',\n",
       " '₹250',\n",
       " '₹351',\n",
       " '₹348',\n",
       " '₹630',\n",
       " '₹424',\n",
       " '₹449',\n",
       " '₹449',\n",
       " '₹379',\n",
       " '₹199',\n",
       " '₹199',\n",
       " '₹670',\n",
       " '₹945',\n",
       " '₹499',\n",
       " '₹366',\n",
       " '₹199',\n",
       " '₹519',\n",
       " '₹199',\n",
       " '₹449',\n",
       " '₹182',\n",
       " '₹669',\n",
       " '₹599',\n",
       " '₹249',\n",
       " '₹424',\n",
       " '₹399',\n",
       " '₹549',\n",
       " '₹303',\n",
       " '₹249',\n",
       " '₹945',\n",
       " '₹2,199',\n",
       " '₹549',\n",
       " '₹346',\n",
       " '₹449',\n",
       " '₹424',\n",
       " '₹297',\n",
       " '₹249',\n",
       " '₹505',\n",
       " '₹399',\n",
       " '₹549',\n",
       " '₹489',\n",
       " '₹746',\n",
       " '₹349',\n",
       " '₹2,349',\n",
       " '₹366',\n",
       " '₹424',\n",
       " '₹385',\n",
       " '₹430',\n",
       " '₹449',\n",
       " '₹945',\n",
       " '₹420',\n",
       " '₹599',\n",
       " '₹544',\n",
       " '₹204',\n",
       " '₹399',\n",
       " '₹709',\n",
       " '₹549',\n",
       " '₹409',\n",
       " '₹489',\n",
       " '₹384',\n",
       " '₹374',\n",
       " '₹249',\n",
       " '₹424',\n",
       " '₹424',\n",
       " '₹549',\n",
       " '₹829',\n",
       " '₹424',\n",
       " '₹598',\n",
       " '₹599',\n",
       " '₹649',\n",
       " '₹249',\n",
       " '₹183',\n",
       " '₹236',\n",
       " '₹2,589']"
      ]
     },
     "execution_count": 90,
     "metadata": {},
     "output_type": "execute_result"
    }
   ],
   "source": [
    "for i in prices:\n",
    "    pri=i.text\n",
    "    price.append(pri)\n",
    "    \n",
    "price"
   ]
  },
  {
   "cell_type": "code",
   "execution_count": 91,
   "id": "5d017e1a",
   "metadata": {},
   "outputs": [],
   "source": [
    "next=driver.find_element_by_xpath('/html/body/div[1]/div/div[3]/div[1]/div[2]/div[12]/div/div/nav/a[11]')\n",
    "next.click()"
   ]
  },
  {
   "cell_type": "code",
   "execution_count": 92,
   "id": "a72d5b74",
   "metadata": {},
   "outputs": [
    {
     "data": {
      "text/plain": [
       "[<selenium.webdriver.remote.webelement.WebElement (session=\"0e036c88070b1824dc4652d8c147c6cf\", element=\"74250a59-1dd3-4567-b97c-2363523acfc5\")>,\n",
       " <selenium.webdriver.remote.webelement.WebElement (session=\"0e036c88070b1824dc4652d8c147c6cf\", element=\"9669a1c2-57b5-48dc-9cbd-7b94f12c50a0\")>,\n",
       " <selenium.webdriver.remote.webelement.WebElement (session=\"0e036c88070b1824dc4652d8c147c6cf\", element=\"ce989c78-c708-4be1-952a-a6447f1a4bdf\")>,\n",
       " <selenium.webdriver.remote.webelement.WebElement (session=\"0e036c88070b1824dc4652d8c147c6cf\", element=\"a1adf96b-e20a-4b17-97b2-ae12c7bdaa92\")>]"
      ]
     },
     "execution_count": 92,
     "metadata": {},
     "output_type": "execute_result"
    }
   ],
   "source": [
    "prices=driver.find_elements_by_xpath(\"//div[@class='_30jeq3']\")\n",
    "prices[0:4]"
   ]
  },
  {
   "cell_type": "code",
   "execution_count": 93,
   "id": "df78d008",
   "metadata": {},
   "outputs": [
    {
     "data": {
      "text/plain": [
       "['₹669',\n",
       " '₹945',\n",
       " '₹142',\n",
       " '₹349',\n",
       " '₹449',\n",
       " '₹299',\n",
       " '₹269',\n",
       " '₹489',\n",
       " '₹250',\n",
       " '₹351',\n",
       " '₹348',\n",
       " '₹630',\n",
       " '₹424',\n",
       " '₹449',\n",
       " '₹449',\n",
       " '₹379',\n",
       " '₹199',\n",
       " '₹199',\n",
       " '₹670',\n",
       " '₹945',\n",
       " '₹499',\n",
       " '₹366',\n",
       " '₹199',\n",
       " '₹519',\n",
       " '₹199',\n",
       " '₹449',\n",
       " '₹182',\n",
       " '₹669',\n",
       " '₹599',\n",
       " '₹249',\n",
       " '₹424',\n",
       " '₹399',\n",
       " '₹549',\n",
       " '₹303',\n",
       " '₹249',\n",
       " '₹945',\n",
       " '₹2,199',\n",
       " '₹549',\n",
       " '₹346',\n",
       " '₹449',\n",
       " '₹669',\n",
       " '₹945',\n",
       " '₹142',\n",
       " '₹349',\n",
       " '₹449',\n",
       " '₹299',\n",
       " '₹269',\n",
       " '₹489',\n",
       " '₹250',\n",
       " '₹351',\n",
       " '₹348',\n",
       " '₹630',\n",
       " '₹424',\n",
       " '₹449',\n",
       " '₹449',\n",
       " '₹379',\n",
       " '₹199',\n",
       " '₹199',\n",
       " '₹670',\n",
       " '₹945',\n",
       " '₹499',\n",
       " '₹366',\n",
       " '₹199',\n",
       " '₹519',\n",
       " '₹199',\n",
       " '₹449',\n",
       " '₹182',\n",
       " '₹669',\n",
       " '₹599',\n",
       " '₹249',\n",
       " '₹424',\n",
       " '₹399',\n",
       " '₹549',\n",
       " '₹303',\n",
       " '₹249',\n",
       " '₹945',\n",
       " '₹2,199',\n",
       " '₹549',\n",
       " '₹346',\n",
       " '₹449',\n",
       " '₹424',\n",
       " '₹297',\n",
       " '₹249',\n",
       " '₹505',\n",
       " '₹399',\n",
       " '₹549',\n",
       " '₹489',\n",
       " '₹746',\n",
       " '₹349',\n",
       " '₹2,349',\n",
       " '₹366',\n",
       " '₹424',\n",
       " '₹385',\n",
       " '₹430',\n",
       " '₹449',\n",
       " '₹945',\n",
       " '₹420',\n",
       " '₹599',\n",
       " '₹544',\n",
       " '₹204',\n",
       " '₹399',\n",
       " '₹709',\n",
       " '₹549',\n",
       " '₹409',\n",
       " '₹489',\n",
       " '₹384',\n",
       " '₹374',\n",
       " '₹249',\n",
       " '₹424',\n",
       " '₹424',\n",
       " '₹549',\n",
       " '₹829',\n",
       " '₹424',\n",
       " '₹598',\n",
       " '₹599',\n",
       " '₹649',\n",
       " '₹249',\n",
       " '₹183',\n",
       " '₹236',\n",
       " '₹2,589',\n",
       " '₹790',\n",
       " '₹620',\n",
       " '₹1,430',\n",
       " '₹379',\n",
       " '₹482',\n",
       " '₹399',\n",
       " '₹449',\n",
       " '₹499',\n",
       " '₹550',\n",
       " '₹3,309',\n",
       " '₹4,145',\n",
       " '₹175',\n",
       " '₹832',\n",
       " '₹479',\n",
       " '₹841',\n",
       " '₹175',\n",
       " '₹595',\n",
       " '₹599',\n",
       " '₹549',\n",
       " '₹1,329',\n",
       " '₹396',\n",
       " '₹180',\n",
       " '₹599',\n",
       " '₹1,089',\n",
       " '₹714',\n",
       " '₹399',\n",
       " '₹3,485',\n",
       " '₹746',\n",
       " '₹799',\n",
       " '₹2,287',\n",
       " '₹549',\n",
       " '₹618',\n",
       " '₹1,293',\n",
       " '₹1,786',\n",
       " '₹158',\n",
       " '₹670',\n",
       " '₹440',\n",
       " '₹1,514',\n",
       " '₹443',\n",
       " '₹669']"
      ]
     },
     "execution_count": 93,
     "metadata": {},
     "output_type": "execute_result"
    }
   ],
   "source": [
    "for i in prices:\n",
    "    pri=i.text\n",
    "    price.append(pri)\n",
    "    \n",
    "price"
   ]
  },
  {
   "cell_type": "code",
   "execution_count": null,
   "id": "e8f93220",
   "metadata": {},
   "outputs": [],
   "source": [
    "sujay2=price[0:100]\n",
    "sujay2"
   ]
  },
  {
   "cell_type": "code",
   "execution_count": 95,
   "id": "10833c41",
   "metadata": {},
   "outputs": [
    {
     "data": {
      "text/plain": [
       "[<selenium.webdriver.remote.webelement.WebElement (session=\"0e036c88070b1824dc4652d8c147c6cf\", element=\"c900a2f2-7a69-41e1-b636-5da33687909f\")>,\n",
       " <selenium.webdriver.remote.webelement.WebElement (session=\"0e036c88070b1824dc4652d8c147c6cf\", element=\"d2cdc171-b881-4ebb-8343-89b64bd3e700\")>,\n",
       " <selenium.webdriver.remote.webelement.WebElement (session=\"0e036c88070b1824dc4652d8c147c6cf\", element=\"05a18fde-79e7-4034-a70b-9bed761c0feb\")>,\n",
       " <selenium.webdriver.remote.webelement.WebElement (session=\"0e036c88070b1824dc4652d8c147c6cf\", element=\"13474298-a836-439c-b9e4-af6e96339466\")>]"
      ]
     },
     "execution_count": 95,
     "metadata": {},
     "output_type": "execute_result"
    }
   ],
   "source": [
    "disc=driver.find_elements_by_xpath(\"//div[@class='_3Ay6Sb']\")\n",
    "disc[0:4]"
   ]
  },
  {
   "cell_type": "code",
   "execution_count": 96,
   "id": "ef1fac82",
   "metadata": {},
   "outputs": [
    {
     "data": {
      "text/plain": [
       "['44% off',\n",
       " '52% off',\n",
       " '85% off',\n",
       " '82% off',\n",
       " '70% off',\n",
       " '76% off',\n",
       " '73% off',\n",
       " '51% off',\n",
       " '60% off',\n",
       " '64% off',\n",
       " '65% off',\n",
       " '63% off',\n",
       " '57% off',\n",
       " '77% off',\n",
       " '55% off',\n",
       " '36% off',\n",
       " '60% off',\n",
       " '60% off',\n",
       " '32% off',\n",
       " '62% off',\n",
       " '66% off',\n",
       " '63% off',\n",
       " '60% off',\n",
       " '52% off',\n",
       " '60% off',\n",
       " '55% off',\n",
       " '69% off',\n",
       " '74% off',\n",
       " '60% off',\n",
       " '80% off',\n",
       " '57% off',\n",
       " '44% off',\n",
       " '54% off',\n",
       " '69% off',\n",
       " '80% off',\n",
       " '80% off',\n",
       " '51% off',\n",
       " '54% off',\n",
       " '65% off',\n",
       " '52% off']"
      ]
     },
     "execution_count": 96,
     "metadata": {},
     "output_type": "execute_result"
    }
   ],
   "source": [
    "for i in disc:\n",
    "    di=i.text\n",
    "    discount.append(di)\n",
    "    \n",
    "discount"
   ]
  },
  {
   "cell_type": "code",
   "execution_count": 97,
   "id": "4fcb8550",
   "metadata": {},
   "outputs": [],
   "source": [
    "next=driver.find_element_by_xpath('/html/body/div[1]/div/div[3]/div[1]/div[2]/div[12]/div/div/nav/a[11]')\n",
    "next.click()"
   ]
  },
  {
   "cell_type": "code",
   "execution_count": 98,
   "id": "3d727c74",
   "metadata": {},
   "outputs": [
    {
     "data": {
      "text/plain": [
       "[<selenium.webdriver.remote.webelement.WebElement (session=\"0e036c88070b1824dc4652d8c147c6cf\", element=\"ed459b59-4dba-4187-b7b8-7899dff89f73\")>,\n",
       " <selenium.webdriver.remote.webelement.WebElement (session=\"0e036c88070b1824dc4652d8c147c6cf\", element=\"ab480be2-f55f-48bb-8e37-b7bdb695ff7e\")>,\n",
       " <selenium.webdriver.remote.webelement.WebElement (session=\"0e036c88070b1824dc4652d8c147c6cf\", element=\"48531a46-65c1-43e1-bd25-602d8cf84f4d\")>,\n",
       " <selenium.webdriver.remote.webelement.WebElement (session=\"0e036c88070b1824dc4652d8c147c6cf\", element=\"025505aa-122d-42d4-a2db-f1468172c2ec\")>]"
      ]
     },
     "execution_count": 98,
     "metadata": {},
     "output_type": "execute_result"
    }
   ],
   "source": [
    "disc=driver.find_elements_by_xpath(\"//div[@class='_3Ay6Sb']\")\n",
    "disc[0:4]"
   ]
  },
  {
   "cell_type": "code",
   "execution_count": null,
   "id": "f2d3f750",
   "metadata": {},
   "outputs": [],
   "source": [
    "for i in disc:\n",
    "    di=i.text\n",
    "    discount.append(di)\n",
    "    \n",
    "discount"
   ]
  },
  {
   "cell_type": "code",
   "execution_count": 100,
   "id": "c52a5f0f",
   "metadata": {},
   "outputs": [],
   "source": [
    "next=driver.find_element_by_xpath('/html/body/div[1]/div/div[3]/div[1]/div[2]/div[12]/div/div/nav/a[11]')\n",
    "next.click()"
   ]
  },
  {
   "cell_type": "code",
   "execution_count": 101,
   "id": "374956b0",
   "metadata": {},
   "outputs": [
    {
     "data": {
      "text/plain": [
       "[<selenium.webdriver.remote.webelement.WebElement (session=\"0e036c88070b1824dc4652d8c147c6cf\", element=\"2bfbc13b-e788-4856-a993-497872b0396f\")>,\n",
       " <selenium.webdriver.remote.webelement.WebElement (session=\"0e036c88070b1824dc4652d8c147c6cf\", element=\"79d9f85a-240c-48e7-be74-c640de9cab11\")>,\n",
       " <selenium.webdriver.remote.webelement.WebElement (session=\"0e036c88070b1824dc4652d8c147c6cf\", element=\"6141a418-2f8f-4304-8f02-7524ada90c79\")>,\n",
       " <selenium.webdriver.remote.webelement.WebElement (session=\"0e036c88070b1824dc4652d8c147c6cf\", element=\"4c311bef-612d-468f-895a-31680ce7250e\")>]"
      ]
     },
     "execution_count": 101,
     "metadata": {},
     "output_type": "execute_result"
    }
   ],
   "source": [
    "disc=driver.find_elements_by_xpath(\"//div[@class='_3Ay6Sb']\")\n",
    "disc[0:4]"
   ]
  },
  {
   "cell_type": "code",
   "execution_count": 102,
   "id": "cab291a1",
   "metadata": {},
   "outputs": [
    {
     "data": {
      "text/plain": [
       "['44% off',\n",
       " '52% off',\n",
       " '85% off',\n",
       " '82% off',\n",
       " '70% off',\n",
       " '76% off',\n",
       " '73% off',\n",
       " '51% off',\n",
       " '60% off',\n",
       " '64% off',\n",
       " '65% off',\n",
       " '63% off',\n",
       " '57% off',\n",
       " '77% off',\n",
       " '55% off',\n",
       " '36% off',\n",
       " '60% off',\n",
       " '60% off',\n",
       " '32% off',\n",
       " '62% off',\n",
       " '66% off',\n",
       " '63% off',\n",
       " '60% off',\n",
       " '52% off',\n",
       " '60% off',\n",
       " '55% off',\n",
       " '69% off',\n",
       " '74% off',\n",
       " '60% off',\n",
       " '80% off',\n",
       " '57% off',\n",
       " '44% off',\n",
       " '54% off',\n",
       " '69% off',\n",
       " '80% off',\n",
       " '80% off',\n",
       " '51% off',\n",
       " '54% off',\n",
       " '65% off',\n",
       " '52% off',\n",
       " '78% off',\n",
       " '70% off',\n",
       " '75% off',\n",
       " '61% off',\n",
       " '80% off',\n",
       " '45% off',\n",
       " '51% off',\n",
       " '62% off',\n",
       " '65% off',\n",
       " '41% off',\n",
       " '63% off',\n",
       " '64% off',\n",
       " '61% off',\n",
       " '56% off',\n",
       " '65% off',\n",
       " '52% off',\n",
       " '41% off',\n",
       " '40% off',\n",
       " '76% off',\n",
       " '59% off',\n",
       " '60% off',\n",
       " '21% off',\n",
       " '54% off',\n",
       " '59% off',\n",
       " '51% off',\n",
       " '61% off',\n",
       " '62% off',\n",
       " '80% off',\n",
       " '57% off',\n",
       " '57% off',\n",
       " '45% off',\n",
       " '48% off',\n",
       " '57% off',\n",
       " '60% off',\n",
       " '40% off',\n",
       " '59% off',\n",
       " '58% off',\n",
       " '63% off',\n",
       " '70% off',\n",
       " '52% off',\n",
       " '71% off',\n",
       " '37% off',\n",
       " '52% off',\n",
       " '76% off',\n",
       " '73% off',\n",
       " '60% off',\n",
       " '55% off',\n",
       " '58% off',\n",
       " '72% off',\n",
       " '52% off',\n",
       " '53% off',\n",
       " '32% off',\n",
       " '20% off',\n",
       " '52% off',\n",
       " '19% off',\n",
       " '22% off',\n",
       " '72% off',\n",
       " '40% off',\n",
       " '72% off',\n",
       " '31% off',\n",
       " '60% off',\n",
       " '63% off',\n",
       " '40% off',\n",
       " '15% off',\n",
       " '20% off',\n",
       " '60% off',\n",
       " '1% off',\n",
       " '50% off',\n",
       " '5% off',\n",
       " '36% off',\n",
       " '72% off',\n",
       " '53% off',\n",
       " '40% off',\n",
       " '68% off',\n",
       " '55% off',\n",
       " '70% off',\n",
       " '68% off',\n",
       " '77% off',\n",
       " '60% off']"
      ]
     },
     "execution_count": 102,
     "metadata": {},
     "output_type": "execute_result"
    }
   ],
   "source": [
    "for i in disc:\n",
    "    di=i.text\n",
    "    discount.append(di)\n",
    "    \n",
    "discount"
   ]
  },
  {
   "cell_type": "code",
   "execution_count": null,
   "id": "47f4f3c2",
   "metadata": {},
   "outputs": [],
   "source": [
    "sujay3=discount[0:100]\n",
    "sujay3"
   ]
  },
  {
   "cell_type": "code",
   "execution_count": 104,
   "id": "43e05ea0",
   "metadata": {},
   "outputs": [
    {
     "data": {
      "text/html": [
       "<div>\n",
       "<style scoped>\n",
       "    .dataframe tbody tr th:only-of-type {\n",
       "        vertical-align: middle;\n",
       "    }\n",
       "\n",
       "    .dataframe tbody tr th {\n",
       "        vertical-align: top;\n",
       "    }\n",
       "\n",
       "    .dataframe thead th {\n",
       "        text-align: right;\n",
       "    }\n",
       "</style>\n",
       "<table border=\"1\" class=\"dataframe\">\n",
       "  <thead>\n",
       "    <tr style=\"text-align: right;\">\n",
       "      <th></th>\n",
       "      <th>Brand Name</th>\n",
       "      <th>Details</th>\n",
       "      <th>Price</th>\n",
       "      <th>Discount</th>\n",
       "    </tr>\n",
       "  </thead>\n",
       "  <tbody>\n",
       "    <tr>\n",
       "      <th>0</th>\n",
       "      <td>Singco India</td>\n",
       "      <td>Sneakers For Men</td>\n",
       "      <td>₹669</td>\n",
       "      <td>44% off</td>\n",
       "    </tr>\n",
       "    <tr>\n",
       "      <th>1</th>\n",
       "      <td>Ray-Ban</td>\n",
       "      <td>Sneakers For Men</td>\n",
       "      <td>₹945</td>\n",
       "      <td>52% off</td>\n",
       "    </tr>\n",
       "    <tr>\n",
       "      <th>2</th>\n",
       "      <td>Fastrack</td>\n",
       "      <td>Kwik FIT casual sneaker shoes and partywear sh...</td>\n",
       "      <td>₹142</td>\n",
       "      <td>85% off</td>\n",
       "    </tr>\n",
       "    <tr>\n",
       "      <th>3</th>\n",
       "      <td>Fastrack</td>\n",
       "      <td>STYLISH MENS BLACK SNEAKER Sneakers For Men</td>\n",
       "      <td>₹349</td>\n",
       "      <td>82% off</td>\n",
       "    </tr>\n",
       "    <tr>\n",
       "      <th>4</th>\n",
       "      <td>Elligator</td>\n",
       "      <td>Canvas shoes for Men Sneakers For Men</td>\n",
       "      <td>₹449</td>\n",
       "      <td>70% off</td>\n",
       "    </tr>\n",
       "    <tr>\n",
       "      <th>...</th>\n",
       "      <td>...</td>\n",
       "      <td>...</td>\n",
       "      <td>...</td>\n",
       "      <td>...</td>\n",
       "    </tr>\n",
       "    <tr>\n",
       "      <th>95</th>\n",
       "      <td>VINCENT CHASE</td>\n",
       "      <td>Sneakers For Men</td>\n",
       "      <td>₹945</td>\n",
       "      <td>22% off</td>\n",
       "    </tr>\n",
       "    <tr>\n",
       "      <th>96</th>\n",
       "      <td>hipe</td>\n",
       "      <td>Sneakers Shoes For Men Black Sneakers For Men</td>\n",
       "      <td>₹420</td>\n",
       "      <td>72% off</td>\n",
       "    </tr>\n",
       "    <tr>\n",
       "      <th>97</th>\n",
       "      <td>Elligator</td>\n",
       "      <td>Combo Pack Of 3 Sneakers For Men</td>\n",
       "      <td>₹599</td>\n",
       "      <td>40% off</td>\n",
       "    </tr>\n",
       "    <tr>\n",
       "      <th>98</th>\n",
       "      <td>ROYAL SON</td>\n",
       "      <td>men and boys Fashion black and red color Outdo...</td>\n",
       "      <td>₹544</td>\n",
       "      <td>72% off</td>\n",
       "    </tr>\n",
       "    <tr>\n",
       "      <th>99</th>\n",
       "      <td>ROYAL SON</td>\n",
       "      <td>Puma Turin II Sneakers For Men</td>\n",
       "      <td>₹204</td>\n",
       "      <td>31% off</td>\n",
       "    </tr>\n",
       "  </tbody>\n",
       "</table>\n",
       "<p>100 rows × 4 columns</p>\n",
       "</div>"
      ],
      "text/plain": [
       "       Brand Name                                            Details Price  \\\n",
       "0    Singco India                                   Sneakers For Men  ₹669   \n",
       "1         Ray-Ban                                   Sneakers For Men  ₹945   \n",
       "2        Fastrack  Kwik FIT casual sneaker shoes and partywear sh...  ₹142   \n",
       "3        Fastrack        STYLISH MENS BLACK SNEAKER Sneakers For Men  ₹349   \n",
       "4       Elligator              Canvas shoes for Men Sneakers For Men  ₹449   \n",
       "..            ...                                                ...   ...   \n",
       "95  VINCENT CHASE                                   Sneakers For Men  ₹945   \n",
       "96           hipe      Sneakers Shoes For Men Black Sneakers For Men  ₹420   \n",
       "97      Elligator                   Combo Pack Of 3 Sneakers For Men  ₹599   \n",
       "98      ROYAL SON  men and boys Fashion black and red color Outdo...  ₹544   \n",
       "99      ROYAL SON                     Puma Turin II Sneakers For Men  ₹204   \n",
       "\n",
       "   Discount  \n",
       "0   44% off  \n",
       "1   52% off  \n",
       "2   85% off  \n",
       "3   82% off  \n",
       "4   70% off  \n",
       "..      ...  \n",
       "95  22% off  \n",
       "96  72% off  \n",
       "97  40% off  \n",
       "98  72% off  \n",
       "99  31% off  \n",
       "\n",
       "[100 rows x 4 columns]"
      ]
     },
     "execution_count": 104,
     "metadata": {},
     "output_type": "execute_result"
    }
   ],
   "source": [
    "df=pd.DataFrame({'Brand Name':sujay , 'Details': sujay1 , 'Price': sujay2 , 'Discount': sujay3})\n",
    "df"
   ]
  },
  {
   "cell_type": "raw",
   "id": "e3a086c7",
   "metadata": {},
   "source": [
    "********************************************************************************************************************\n",
    "Q7: Go to the link - https://www.myntra.com/shoes\n",
    "Set Price filter to “Rs. 7149 to Rs. 14099 ” , Color filter to “Black”, as shown inthe below image."
   ]
  },
  {
   "cell_type": "code",
   "execution_count": 63,
   "id": "94c5b5f4",
   "metadata": {},
   "outputs": [
    {
     "data": {
      "text/plain": [
       "<selenium.webdriver.chrome.webdriver.WebDriver (session=\"5d8e4dd3abd36414d7bbef479ed8ca0b\")>"
      ]
     },
     "execution_count": 63,
     "metadata": {},
     "output_type": "execute_result"
    }
   ],
   "source": [
    "driver = webdriver.Chrome(r\"D:\\python\\chromedriver.exe\")\n",
    "driver"
   ]
  },
  {
   "cell_type": "code",
   "execution_count": 64,
   "id": "a6257c0c",
   "metadata": {},
   "outputs": [],
   "source": [
    "driver.get('https://www.myntra.com/shoes')"
   ]
  },
  {
   "cell_type": "code",
   "execution_count": 65,
   "id": "6f319975",
   "metadata": {},
   "outputs": [],
   "source": [
    "# filter the price\n",
    "filter_price=driver.find_element_by_xpath('/html/body/div[2]/div/div[1]/main/div[3]/div[1]/section/div/div[5]/ul/li[2]/label')\n",
    "filter_price.click()"
   ]
  },
  {
   "cell_type": "code",
   "execution_count": 66,
   "id": "130ccdce",
   "metadata": {},
   "outputs": [],
   "source": [
    "# filter color\n",
    "filter_color=driver.find_element_by_xpath('/html/body/div[2]/div/div[1]/main/div[3]/div[1]/section/div/div[6]/ul/li[1]/label')\n",
    "filter_color.click()"
   ]
  },
  {
   "cell_type": "code",
   "execution_count": 67,
   "id": "05d23ee2",
   "metadata": {},
   "outputs": [],
   "source": [
    "brands=[]\n",
    "size=[]\n",
    "prices=[]"
   ]
  },
  {
   "cell_type": "code",
   "execution_count": 68,
   "id": "bd1d8264",
   "metadata": {},
   "outputs": [
    {
     "data": {
      "text/plain": [
       "[<selenium.webdriver.remote.webelement.WebElement (session=\"5d8e4dd3abd36414d7bbef479ed8ca0b\", element=\"8bd14a81-47c4-4590-ace1-6665d6797e77\")>,\n",
       " <selenium.webdriver.remote.webelement.WebElement (session=\"5d8e4dd3abd36414d7bbef479ed8ca0b\", element=\"b9b43140-509d-4188-9871-b5aa91621f1e\")>,\n",
       " <selenium.webdriver.remote.webelement.WebElement (session=\"5d8e4dd3abd36414d7bbef479ed8ca0b\", element=\"ef58ac96-895c-40fa-a666-3211b4b66dab\")>]"
      ]
     },
     "execution_count": 68,
     "metadata": {},
     "output_type": "execute_result"
    }
   ],
   "source": [
    "brand=driver.find_elements_by_xpath(\"//h3[@class='product-brand']\")\n",
    "brand[0:3]"
   ]
  },
  {
   "cell_type": "code",
   "execution_count": 69,
   "id": "028d1a12",
   "metadata": {},
   "outputs": [
    {
     "data": {
      "text/plain": [
       "['U.S. Polo Assn.',\n",
       " 'Red Tape',\n",
       " 'Roadster',\n",
       " 'Puma',\n",
       " 'Newfeel By Decathlon',\n",
       " 'HRX by Hrithik Roshan',\n",
       " 'Killer',\n",
       " 'Nike',\n",
       " 'Puma',\n",
       " 'ALDO',\n",
       " 'U.S. Polo Assn.',\n",
       " 'Red Tape',\n",
       " 'Puma',\n",
       " 'HIGHLANDER',\n",
       " 'ADIDAS',\n",
       " 'Nike',\n",
       " 'HRX by Hrithik Roshan',\n",
       " 'HRX by Hrithik Roshan',\n",
       " 'U.S. Polo Assn.',\n",
       " 'Red Tape',\n",
       " 'Puma',\n",
       " 'ASICS',\n",
       " 'Killer',\n",
       " 'TWIN TOES',\n",
       " 'Red Tape',\n",
       " 'H&M',\n",
       " 'Lancer',\n",
       " 'Puma',\n",
       " 'Red Tape',\n",
       " 'Red Tape',\n",
       " 'Roadster',\n",
       " 'ALDO',\n",
       " 'Provogue',\n",
       " 'HRX by Hrithik Roshan',\n",
       " 'DEAS',\n",
       " 'ASIAN',\n",
       " 'Nike',\n",
       " 'Red Tape',\n",
       " 'U.S. Polo Assn.',\n",
       " 'UNDER ARMOUR',\n",
       " 'H&M',\n",
       " 'Denill',\n",
       " 'Sir Corbett',\n",
       " 'ADIDAS',\n",
       " 'Eego Italy',\n",
       " 'DressBerry',\n",
       " 'Nike',\n",
       " 'ALDO',\n",
       " 'U.S. Polo Assn.',\n",
       " 'H&M']"
      ]
     },
     "execution_count": 69,
     "metadata": {},
     "output_type": "execute_result"
    }
   ],
   "source": [
    "for i in brand:\n",
    "    bra=i.text\n",
    "    brands.append(bra)\n",
    "    \n",
    "brands"
   ]
  },
  {
   "cell_type": "code",
   "execution_count": 71,
   "id": "3d715a6e",
   "metadata": {},
   "outputs": [
    {
     "data": {
      "text/plain": [
       "[<selenium.webdriver.remote.webelement.WebElement (session=\"5d8e4dd3abd36414d7bbef479ed8ca0b\", element=\"a23f2aac-1463-43a0-ab9b-a6cc54cb9feb\")>,\n",
       " <selenium.webdriver.remote.webelement.WebElement (session=\"5d8e4dd3abd36414d7bbef479ed8ca0b\", element=\"a81a2dc8-1d60-4ec2-aa96-9612e94d0d45\")>,\n",
       " <selenium.webdriver.remote.webelement.WebElement (session=\"5d8e4dd3abd36414d7bbef479ed8ca0b\", element=\"dbcd23ee-5ab4-41e6-a1d0-f05d6e50427b\")>]"
      ]
     },
     "execution_count": 71,
     "metadata": {},
     "output_type": "execute_result"
    }
   ],
   "source": [
    "price=driver.find_elements_by_xpath(\"//div[@class='product-price']\")\n",
    "price[0:3]"
   ]
  },
  {
   "cell_type": "code",
   "execution_count": 72,
   "id": "93d3b3f8",
   "metadata": {},
   "outputs": [
    {
     "data": {
      "text/plain": [
       "['Rs. 2749Rs. 5499(50% OFF)',\n",
       " 'Rs. 4945Rs. 5495(10% OFF)',\n",
       " 'Rs. 2924Rs. 6499(55% OFF)',\n",
       " 'Rs. 22999',\n",
       " 'Rs. 1049Rs. 3499(70% OFF)',\n",
       " 'Rs. 2249Rs. 2999(25% OFF)',\n",
       " 'Rs. 3999Rs. 7999(50% OFF)',\n",
       " 'Rs. 13999',\n",
       " 'Rs. 899Rs. 4495(80% OFF)',\n",
       " 'Rs. 1889Rs. 6299(70% OFF)',\n",
       " 'Rs. 7999',\n",
       " 'Rs. 987Rs. 2599(62% OFF)',\n",
       " 'Rs. 12999',\n",
       " 'Rs. 5436Rs. 6795(20% OFF)',\n",
       " 'Rs. 2319Rs. 5799(60% OFF)',\n",
       " 'Rs. 3999Rs. 4999(20% OFF)',\n",
       " 'Rs. 3599Rs. 4999(28% OFF)',\n",
       " 'Rs. 1359Rs. 1699(20% OFF)',\n",
       " 'Rs. 599Rs. 999(40% OFF)',\n",
       " 'Rs. 3599Rs. 4999(28% OFF)',\n",
       " 'Rs. 5775Rs. 6795(15% OFF)',\n",
       " 'Rs. 3596Rs. 4495(20% OFF)',\n",
       " 'Rs. 1299',\n",
       " 'Rs. 1559Rs. 3899(60% OFF)',\n",
       " 'Rs. 880Rs. 4195(79% OFF)',\n",
       " 'Rs. 1499Rs. 3495(Rs. 1996 OFF)',\n",
       " 'Rs. 18999',\n",
       " 'Rs. 4556Rs. 5695(20% OFF)',\n",
       " 'Rs. 799Rs. 3999(80% OFF)',\n",
       " 'Rs. 3299Rs. 5999(45% OFF)',\n",
       " 'Rs. 3399Rs. 3999(15% OFF)',\n",
       " 'Rs. 1719Rs. 4299(60% OFF)',\n",
       " 'Rs. 1574Rs. 1749(10% OFF)',\n",
       " 'Rs. 792Rs. 1495(47% OFF)',\n",
       " 'Rs. 1469Rs. 4899(70% OFF)',\n",
       " 'Rs. 958Rs. 2995(68% OFF)',\n",
       " 'Rs. 15999',\n",
       " 'Rs. 2999',\n",
       " 'Rs. 1033Rs. 1099(6% OFF)',\n",
       " 'Rs. 2799Rs. 3999(30% OFF)',\n",
       " 'Rs. 1959Rs. 2799(30% OFF)',\n",
       " 'Rs. 15999',\n",
       " 'Rs. 3009Rs. 4299(30% OFF)',\n",
       " 'Rs. 895Rs. 1995(Rs. 1100 OFF)',\n",
       " 'Rs. 997Rs. 1995(50% OFF)',\n",
       " 'Rs. 4796Rs. 5995(20% OFF)',\n",
       " 'Rs. 1849Rs. 3699(50% OFF)',\n",
       " 'Rs. 1319Rs. 5999(78% OFF)',\n",
       " 'Rs. 879Rs. 4395(80% OFF)',\n",
       " 'Rs. 3499']"
      ]
     },
     "execution_count": 72,
     "metadata": {},
     "output_type": "execute_result"
    }
   ],
   "source": [
    "for i in price:\n",
    "    pri=i.text\n",
    "    prices.append(pri)\n",
    "    \n",
    "prices"
   ]
  },
  {
   "cell_type": "code",
   "execution_count": 73,
   "id": "85d7255b",
   "metadata": {},
   "outputs": [
    {
     "data": {
      "text/plain": [
       "[<selenium.webdriver.remote.webelement.WebElement (session=\"5d8e4dd3abd36414d7bbef479ed8ca0b\", element=\"4b6e5207-21a8-40a8-bc3b-a0132d072694\")>,\n",
       " <selenium.webdriver.remote.webelement.WebElement (session=\"5d8e4dd3abd36414d7bbef479ed8ca0b\", element=\"6576c731-7621-4075-bf57-4093d9902323\")>,\n",
       " <selenium.webdriver.remote.webelement.WebElement (session=\"5d8e4dd3abd36414d7bbef479ed8ca0b\", element=\"53f76eaa-f46b-4287-89c1-b21a35032faa\")>]"
      ]
     },
     "execution_count": 73,
     "metadata": {},
     "output_type": "execute_result"
    }
   ],
   "source": [
    "sizes=driver.find_elements_by_xpath(\"//h4[@class='product-product']\")\n",
    "sizes[0:3]"
   ]
  },
  {
   "cell_type": "code",
   "execution_count": 74,
   "id": "977d65c4",
   "metadata": {},
   "outputs": [
    {
     "data": {
      "text/plain": [
       "['Men Running Shoes',\n",
       " 'Men MC Training Shoes',\n",
       " 'Men HYBRID Fuego Running Shoes',\n",
       " 'Men Leather Horsebit Loafers',\n",
       " 'Kids Sports Shoes',\n",
       " 'Men Solid Running Shoes',\n",
       " 'Hybrid NX Ozone Running Shoes',\n",
       " 'Men Woven Design Sneakers',\n",
       " 'Men Black Solid Formal Debys',\n",
       " 'Men Walking Shoes',\n",
       " 'Men Vantage 2 Running Shoes',\n",
       " 'Men Trekking Shoes',\n",
       " 'Men Leather Driving Shoes',\n",
       " 'Men Vapor Lite HC Tennis Shoes',\n",
       " 'Men Out Back Outdoor Shoes',\n",
       " 'ULTRA FLEX 2.0 - LITEWILDE Run',\n",
       " 'Men Solid Driving Shoes',\n",
       " 'Men Running Shoes',\n",
       " 'Women Mules Flats',\n",
       " 'Men Solid Driving Shoes',\n",
       " 'Unisex RE II Basketball Shoes',\n",
       " 'LEGEND ESSENTIAL Training Shoe',\n",
       " 'Men Solid Formal Oxfords',\n",
       " 'Women Walk Ride Running Shoes',\n",
       " 'Men Casual Sneakers',\n",
       " 'Kids Revolution 4 Running',\n",
       " 'Men Textured Leather Loafers',\n",
       " 'Men Zoom Court Lite 3 Tennis',\n",
       " 'Men Walking Shoes',\n",
       " 'Men ELITE FLEX CLEAR Sneakers',\n",
       " 'Women Walking Shoes',\n",
       " 'Men Fly Sneaker',\n",
       " 'Men Running Sports Shoes',\n",
       " 'Women Walking Shoes',\n",
       " 'Men Walking Shoes',\n",
       " 'Men Solid Formal Oxfords',\n",
       " 'Men Leather Loafers',\n",
       " 'Unisex Kent 2.0 IDP Sneakers',\n",
       " 'Men Running Shoes',\n",
       " 'Men Dart IDP Sneakers',\n",
       " 'Men Running Shoes',\n",
       " 'Men Leather Loafers',\n",
       " 'Men Flydoot Running Shoes',\n",
       " 'Women Colourblocked Sneakers',\n",
       " 'Women Snakeskin Textured Heels',\n",
       " 'Women Renew In-Season Training',\n",
       " 'Men Chunky Sneakers',\n",
       " 'Men Lightweight Flat Boots',\n",
       " 'Men Solid Formal Loafers',\n",
       " 'Men Strike Textured Sneakers']"
      ]
     },
     "execution_count": 74,
     "metadata": {},
     "output_type": "execute_result"
    }
   ],
   "source": [
    "for i in sizes:\n",
    "    si=i.text\n",
    "    size.append(si)\n",
    "    \n",
    "size"
   ]
  },
  {
   "cell_type": "code",
   "execution_count": 77,
   "id": "fe9b68d8",
   "metadata": {},
   "outputs": [
    {
     "data": {
      "text/html": [
       "<div>\n",
       "<style scoped>\n",
       "    .dataframe tbody tr th:only-of-type {\n",
       "        vertical-align: middle;\n",
       "    }\n",
       "\n",
       "    .dataframe tbody tr th {\n",
       "        vertical-align: top;\n",
       "    }\n",
       "\n",
       "    .dataframe thead th {\n",
       "        text-align: right;\n",
       "    }\n",
       "</style>\n",
       "<table border=\"1\" class=\"dataframe\">\n",
       "  <thead>\n",
       "    <tr style=\"text-align: right;\">\n",
       "      <th></th>\n",
       "      <th>Brand Name</th>\n",
       "      <th>Price &amp; Discount</th>\n",
       "      <th>Details</th>\n",
       "    </tr>\n",
       "  </thead>\n",
       "  <tbody>\n",
       "    <tr>\n",
       "      <th>0</th>\n",
       "      <td>U.S. Polo Assn.</td>\n",
       "      <td>Rs. 2749Rs. 5499(50% OFF)</td>\n",
       "      <td>Men Running Shoes</td>\n",
       "    </tr>\n",
       "    <tr>\n",
       "      <th>1</th>\n",
       "      <td>Red Tape</td>\n",
       "      <td>Rs. 4945Rs. 5495(10% OFF)</td>\n",
       "      <td>Men MC Training Shoes</td>\n",
       "    </tr>\n",
       "    <tr>\n",
       "      <th>2</th>\n",
       "      <td>Roadster</td>\n",
       "      <td>Rs. 2924Rs. 6499(55% OFF)</td>\n",
       "      <td>Men HYBRID Fuego Running Shoes</td>\n",
       "    </tr>\n",
       "    <tr>\n",
       "      <th>3</th>\n",
       "      <td>Puma</td>\n",
       "      <td>Rs. 22999</td>\n",
       "      <td>Men Leather Horsebit Loafers</td>\n",
       "    </tr>\n",
       "    <tr>\n",
       "      <th>4</th>\n",
       "      <td>Newfeel By Decathlon</td>\n",
       "      <td>Rs. 1049Rs. 3499(70% OFF)</td>\n",
       "      <td>Kids Sports Shoes</td>\n",
       "    </tr>\n",
       "    <tr>\n",
       "      <th>5</th>\n",
       "      <td>HRX by Hrithik Roshan</td>\n",
       "      <td>Rs. 2249Rs. 2999(25% OFF)</td>\n",
       "      <td>Men Solid Running Shoes</td>\n",
       "    </tr>\n",
       "    <tr>\n",
       "      <th>6</th>\n",
       "      <td>Killer</td>\n",
       "      <td>Rs. 3999Rs. 7999(50% OFF)</td>\n",
       "      <td>Hybrid NX Ozone Running Shoes</td>\n",
       "    </tr>\n",
       "    <tr>\n",
       "      <th>7</th>\n",
       "      <td>Nike</td>\n",
       "      <td>Rs. 13999</td>\n",
       "      <td>Men Woven Design Sneakers</td>\n",
       "    </tr>\n",
       "    <tr>\n",
       "      <th>8</th>\n",
       "      <td>Puma</td>\n",
       "      <td>Rs. 899Rs. 4495(80% OFF)</td>\n",
       "      <td>Men Black Solid Formal Debys</td>\n",
       "    </tr>\n",
       "    <tr>\n",
       "      <th>9</th>\n",
       "      <td>ALDO</td>\n",
       "      <td>Rs. 1889Rs. 6299(70% OFF)</td>\n",
       "      <td>Men Walking Shoes</td>\n",
       "    </tr>\n",
       "    <tr>\n",
       "      <th>10</th>\n",
       "      <td>U.S. Polo Assn.</td>\n",
       "      <td>Rs. 7999</td>\n",
       "      <td>Men Vantage 2 Running Shoes</td>\n",
       "    </tr>\n",
       "    <tr>\n",
       "      <th>11</th>\n",
       "      <td>Red Tape</td>\n",
       "      <td>Rs. 987Rs. 2599(62% OFF)</td>\n",
       "      <td>Men Trekking Shoes</td>\n",
       "    </tr>\n",
       "    <tr>\n",
       "      <th>12</th>\n",
       "      <td>Puma</td>\n",
       "      <td>Rs. 12999</td>\n",
       "      <td>Men Leather Driving Shoes</td>\n",
       "    </tr>\n",
       "    <tr>\n",
       "      <th>13</th>\n",
       "      <td>HIGHLANDER</td>\n",
       "      <td>Rs. 5436Rs. 6795(20% OFF)</td>\n",
       "      <td>Men Vapor Lite HC Tennis Shoes</td>\n",
       "    </tr>\n",
       "    <tr>\n",
       "      <th>14</th>\n",
       "      <td>ADIDAS</td>\n",
       "      <td>Rs. 2319Rs. 5799(60% OFF)</td>\n",
       "      <td>Men Out Back Outdoor Shoes</td>\n",
       "    </tr>\n",
       "    <tr>\n",
       "      <th>15</th>\n",
       "      <td>Nike</td>\n",
       "      <td>Rs. 3999Rs. 4999(20% OFF)</td>\n",
       "      <td>ULTRA FLEX 2.0 - LITEWILDE Run</td>\n",
       "    </tr>\n",
       "    <tr>\n",
       "      <th>16</th>\n",
       "      <td>HRX by Hrithik Roshan</td>\n",
       "      <td>Rs. 3599Rs. 4999(28% OFF)</td>\n",
       "      <td>Men Solid Driving Shoes</td>\n",
       "    </tr>\n",
       "    <tr>\n",
       "      <th>17</th>\n",
       "      <td>HRX by Hrithik Roshan</td>\n",
       "      <td>Rs. 1359Rs. 1699(20% OFF)</td>\n",
       "      <td>Men Running Shoes</td>\n",
       "    </tr>\n",
       "    <tr>\n",
       "      <th>18</th>\n",
       "      <td>U.S. Polo Assn.</td>\n",
       "      <td>Rs. 599Rs. 999(40% OFF)</td>\n",
       "      <td>Women Mules Flats</td>\n",
       "    </tr>\n",
       "    <tr>\n",
       "      <th>19</th>\n",
       "      <td>Red Tape</td>\n",
       "      <td>Rs. 3599Rs. 4999(28% OFF)</td>\n",
       "      <td>Men Solid Driving Shoes</td>\n",
       "    </tr>\n",
       "    <tr>\n",
       "      <th>20</th>\n",
       "      <td>Puma</td>\n",
       "      <td>Rs. 5775Rs. 6795(15% OFF)</td>\n",
       "      <td>Unisex RE II Basketball Shoes</td>\n",
       "    </tr>\n",
       "    <tr>\n",
       "      <th>21</th>\n",
       "      <td>ASICS</td>\n",
       "      <td>Rs. 3596Rs. 4495(20% OFF)</td>\n",
       "      <td>LEGEND ESSENTIAL Training Shoe</td>\n",
       "    </tr>\n",
       "    <tr>\n",
       "      <th>22</th>\n",
       "      <td>Killer</td>\n",
       "      <td>Rs. 1299</td>\n",
       "      <td>Men Solid Formal Oxfords</td>\n",
       "    </tr>\n",
       "    <tr>\n",
       "      <th>23</th>\n",
       "      <td>TWIN TOES</td>\n",
       "      <td>Rs. 1559Rs. 3899(60% OFF)</td>\n",
       "      <td>Women Walk Ride Running Shoes</td>\n",
       "    </tr>\n",
       "    <tr>\n",
       "      <th>24</th>\n",
       "      <td>Red Tape</td>\n",
       "      <td>Rs. 880Rs. 4195(79% OFF)</td>\n",
       "      <td>Men Casual Sneakers</td>\n",
       "    </tr>\n",
       "    <tr>\n",
       "      <th>25</th>\n",
       "      <td>H&amp;M</td>\n",
       "      <td>Rs. 1499Rs. 3495(Rs. 1996 OFF)</td>\n",
       "      <td>Kids Revolution 4 Running</td>\n",
       "    </tr>\n",
       "    <tr>\n",
       "      <th>26</th>\n",
       "      <td>Lancer</td>\n",
       "      <td>Rs. 18999</td>\n",
       "      <td>Men Textured Leather Loafers</td>\n",
       "    </tr>\n",
       "    <tr>\n",
       "      <th>27</th>\n",
       "      <td>Puma</td>\n",
       "      <td>Rs. 4556Rs. 5695(20% OFF)</td>\n",
       "      <td>Men Zoom Court Lite 3 Tennis</td>\n",
       "    </tr>\n",
       "    <tr>\n",
       "      <th>28</th>\n",
       "      <td>Red Tape</td>\n",
       "      <td>Rs. 799Rs. 3999(80% OFF)</td>\n",
       "      <td>Men Walking Shoes</td>\n",
       "    </tr>\n",
       "    <tr>\n",
       "      <th>29</th>\n",
       "      <td>Red Tape</td>\n",
       "      <td>Rs. 3299Rs. 5999(45% OFF)</td>\n",
       "      <td>Men ELITE FLEX CLEAR Sneakers</td>\n",
       "    </tr>\n",
       "    <tr>\n",
       "      <th>30</th>\n",
       "      <td>Roadster</td>\n",
       "      <td>Rs. 3399Rs. 3999(15% OFF)</td>\n",
       "      <td>Women Walking Shoes</td>\n",
       "    </tr>\n",
       "    <tr>\n",
       "      <th>31</th>\n",
       "      <td>ALDO</td>\n",
       "      <td>Rs. 1719Rs. 4299(60% OFF)</td>\n",
       "      <td>Men Fly Sneaker</td>\n",
       "    </tr>\n",
       "    <tr>\n",
       "      <th>32</th>\n",
       "      <td>Provogue</td>\n",
       "      <td>Rs. 1574Rs. 1749(10% OFF)</td>\n",
       "      <td>Men Running Sports Shoes</td>\n",
       "    </tr>\n",
       "    <tr>\n",
       "      <th>33</th>\n",
       "      <td>HRX by Hrithik Roshan</td>\n",
       "      <td>Rs. 792Rs. 1495(47% OFF)</td>\n",
       "      <td>Women Walking Shoes</td>\n",
       "    </tr>\n",
       "    <tr>\n",
       "      <th>34</th>\n",
       "      <td>DEAS</td>\n",
       "      <td>Rs. 1469Rs. 4899(70% OFF)</td>\n",
       "      <td>Men Walking Shoes</td>\n",
       "    </tr>\n",
       "    <tr>\n",
       "      <th>35</th>\n",
       "      <td>ASIAN</td>\n",
       "      <td>Rs. 958Rs. 2995(68% OFF)</td>\n",
       "      <td>Men Solid Formal Oxfords</td>\n",
       "    </tr>\n",
       "    <tr>\n",
       "      <th>36</th>\n",
       "      <td>Nike</td>\n",
       "      <td>Rs. 15999</td>\n",
       "      <td>Men Leather Loafers</td>\n",
       "    </tr>\n",
       "    <tr>\n",
       "      <th>37</th>\n",
       "      <td>Red Tape</td>\n",
       "      <td>Rs. 2999</td>\n",
       "      <td>Unisex Kent 2.0 IDP Sneakers</td>\n",
       "    </tr>\n",
       "    <tr>\n",
       "      <th>38</th>\n",
       "      <td>U.S. Polo Assn.</td>\n",
       "      <td>Rs. 1033Rs. 1099(6% OFF)</td>\n",
       "      <td>Men Running Shoes</td>\n",
       "    </tr>\n",
       "    <tr>\n",
       "      <th>39</th>\n",
       "      <td>UNDER ARMOUR</td>\n",
       "      <td>Rs. 2799Rs. 3999(30% OFF)</td>\n",
       "      <td>Men Dart IDP Sneakers</td>\n",
       "    </tr>\n",
       "    <tr>\n",
       "      <th>40</th>\n",
       "      <td>H&amp;M</td>\n",
       "      <td>Rs. 1959Rs. 2799(30% OFF)</td>\n",
       "      <td>Men Running Shoes</td>\n",
       "    </tr>\n",
       "    <tr>\n",
       "      <th>41</th>\n",
       "      <td>Denill</td>\n",
       "      <td>Rs. 15999</td>\n",
       "      <td>Men Leather Loafers</td>\n",
       "    </tr>\n",
       "    <tr>\n",
       "      <th>42</th>\n",
       "      <td>Sir Corbett</td>\n",
       "      <td>Rs. 3009Rs. 4299(30% OFF)</td>\n",
       "      <td>Men Flydoot Running Shoes</td>\n",
       "    </tr>\n",
       "    <tr>\n",
       "      <th>43</th>\n",
       "      <td>ADIDAS</td>\n",
       "      <td>Rs. 895Rs. 1995(Rs. 1100 OFF)</td>\n",
       "      <td>Women Colourblocked Sneakers</td>\n",
       "    </tr>\n",
       "    <tr>\n",
       "      <th>44</th>\n",
       "      <td>Eego Italy</td>\n",
       "      <td>Rs. 997Rs. 1995(50% OFF)</td>\n",
       "      <td>Women Snakeskin Textured Heels</td>\n",
       "    </tr>\n",
       "    <tr>\n",
       "      <th>45</th>\n",
       "      <td>DressBerry</td>\n",
       "      <td>Rs. 4796Rs. 5995(20% OFF)</td>\n",
       "      <td>Women Renew In-Season Training</td>\n",
       "    </tr>\n",
       "    <tr>\n",
       "      <th>46</th>\n",
       "      <td>Nike</td>\n",
       "      <td>Rs. 1849Rs. 3699(50% OFF)</td>\n",
       "      <td>Men Chunky Sneakers</td>\n",
       "    </tr>\n",
       "    <tr>\n",
       "      <th>47</th>\n",
       "      <td>ALDO</td>\n",
       "      <td>Rs. 1319Rs. 5999(78% OFF)</td>\n",
       "      <td>Men Lightweight Flat Boots</td>\n",
       "    </tr>\n",
       "    <tr>\n",
       "      <th>48</th>\n",
       "      <td>U.S. Polo Assn.</td>\n",
       "      <td>Rs. 879Rs. 4395(80% OFF)</td>\n",
       "      <td>Men Solid Formal Loafers</td>\n",
       "    </tr>\n",
       "    <tr>\n",
       "      <th>49</th>\n",
       "      <td>H&amp;M</td>\n",
       "      <td>Rs. 3499</td>\n",
       "      <td>Men Strike Textured Sneakers</td>\n",
       "    </tr>\n",
       "  </tbody>\n",
       "</table>\n",
       "</div>"
      ],
      "text/plain": [
       "               Brand Name                Price & Discount  \\\n",
       "0         U.S. Polo Assn.       Rs. 2749Rs. 5499(50% OFF)   \n",
       "1                Red Tape       Rs. 4945Rs. 5495(10% OFF)   \n",
       "2                Roadster       Rs. 2924Rs. 6499(55% OFF)   \n",
       "3                    Puma                       Rs. 22999   \n",
       "4    Newfeel By Decathlon       Rs. 1049Rs. 3499(70% OFF)   \n",
       "5   HRX by Hrithik Roshan       Rs. 2249Rs. 2999(25% OFF)   \n",
       "6                  Killer       Rs. 3999Rs. 7999(50% OFF)   \n",
       "7                    Nike                       Rs. 13999   \n",
       "8                    Puma        Rs. 899Rs. 4495(80% OFF)   \n",
       "9                    ALDO       Rs. 1889Rs. 6299(70% OFF)   \n",
       "10        U.S. Polo Assn.                        Rs. 7999   \n",
       "11               Red Tape        Rs. 987Rs. 2599(62% OFF)   \n",
       "12                   Puma                       Rs. 12999   \n",
       "13             HIGHLANDER       Rs. 5436Rs. 6795(20% OFF)   \n",
       "14                 ADIDAS       Rs. 2319Rs. 5799(60% OFF)   \n",
       "15                   Nike       Rs. 3999Rs. 4999(20% OFF)   \n",
       "16  HRX by Hrithik Roshan       Rs. 3599Rs. 4999(28% OFF)   \n",
       "17  HRX by Hrithik Roshan       Rs. 1359Rs. 1699(20% OFF)   \n",
       "18        U.S. Polo Assn.         Rs. 599Rs. 999(40% OFF)   \n",
       "19               Red Tape       Rs. 3599Rs. 4999(28% OFF)   \n",
       "20                   Puma       Rs. 5775Rs. 6795(15% OFF)   \n",
       "21                  ASICS       Rs. 3596Rs. 4495(20% OFF)   \n",
       "22                 Killer                        Rs. 1299   \n",
       "23              TWIN TOES       Rs. 1559Rs. 3899(60% OFF)   \n",
       "24               Red Tape        Rs. 880Rs. 4195(79% OFF)   \n",
       "25                    H&M  Rs. 1499Rs. 3495(Rs. 1996 OFF)   \n",
       "26                 Lancer                       Rs. 18999   \n",
       "27                   Puma       Rs. 4556Rs. 5695(20% OFF)   \n",
       "28               Red Tape        Rs. 799Rs. 3999(80% OFF)   \n",
       "29               Red Tape       Rs. 3299Rs. 5999(45% OFF)   \n",
       "30               Roadster       Rs. 3399Rs. 3999(15% OFF)   \n",
       "31                   ALDO       Rs. 1719Rs. 4299(60% OFF)   \n",
       "32               Provogue       Rs. 1574Rs. 1749(10% OFF)   \n",
       "33  HRX by Hrithik Roshan        Rs. 792Rs. 1495(47% OFF)   \n",
       "34                   DEAS       Rs. 1469Rs. 4899(70% OFF)   \n",
       "35                  ASIAN        Rs. 958Rs. 2995(68% OFF)   \n",
       "36                   Nike                       Rs. 15999   \n",
       "37               Red Tape                        Rs. 2999   \n",
       "38        U.S. Polo Assn.        Rs. 1033Rs. 1099(6% OFF)   \n",
       "39           UNDER ARMOUR       Rs. 2799Rs. 3999(30% OFF)   \n",
       "40                    H&M       Rs. 1959Rs. 2799(30% OFF)   \n",
       "41                 Denill                       Rs. 15999   \n",
       "42            Sir Corbett       Rs. 3009Rs. 4299(30% OFF)   \n",
       "43                 ADIDAS   Rs. 895Rs. 1995(Rs. 1100 OFF)   \n",
       "44             Eego Italy        Rs. 997Rs. 1995(50% OFF)   \n",
       "45             DressBerry       Rs. 4796Rs. 5995(20% OFF)   \n",
       "46                   Nike       Rs. 1849Rs. 3699(50% OFF)   \n",
       "47                   ALDO       Rs. 1319Rs. 5999(78% OFF)   \n",
       "48        U.S. Polo Assn.        Rs. 879Rs. 4395(80% OFF)   \n",
       "49                    H&M                        Rs. 3499   \n",
       "\n",
       "                           Details  \n",
       "0                Men Running Shoes  \n",
       "1            Men MC Training Shoes  \n",
       "2   Men HYBRID Fuego Running Shoes  \n",
       "3     Men Leather Horsebit Loafers  \n",
       "4                Kids Sports Shoes  \n",
       "5          Men Solid Running Shoes  \n",
       "6    Hybrid NX Ozone Running Shoes  \n",
       "7        Men Woven Design Sneakers  \n",
       "8     Men Black Solid Formal Debys  \n",
       "9                Men Walking Shoes  \n",
       "10     Men Vantage 2 Running Shoes  \n",
       "11              Men Trekking Shoes  \n",
       "12       Men Leather Driving Shoes  \n",
       "13  Men Vapor Lite HC Tennis Shoes  \n",
       "14      Men Out Back Outdoor Shoes  \n",
       "15  ULTRA FLEX 2.0 - LITEWILDE Run  \n",
       "16         Men Solid Driving Shoes  \n",
       "17               Men Running Shoes  \n",
       "18               Women Mules Flats  \n",
       "19         Men Solid Driving Shoes  \n",
       "20   Unisex RE II Basketball Shoes  \n",
       "21  LEGEND ESSENTIAL Training Shoe  \n",
       "22        Men Solid Formal Oxfords  \n",
       "23   Women Walk Ride Running Shoes  \n",
       "24             Men Casual Sneakers  \n",
       "25       Kids Revolution 4 Running  \n",
       "26    Men Textured Leather Loafers  \n",
       "27    Men Zoom Court Lite 3 Tennis  \n",
       "28               Men Walking Shoes  \n",
       "29   Men ELITE FLEX CLEAR Sneakers  \n",
       "30             Women Walking Shoes  \n",
       "31                 Men Fly Sneaker  \n",
       "32        Men Running Sports Shoes  \n",
       "33             Women Walking Shoes  \n",
       "34               Men Walking Shoes  \n",
       "35        Men Solid Formal Oxfords  \n",
       "36             Men Leather Loafers  \n",
       "37    Unisex Kent 2.0 IDP Sneakers  \n",
       "38               Men Running Shoes  \n",
       "39           Men Dart IDP Sneakers  \n",
       "40               Men Running Shoes  \n",
       "41             Men Leather Loafers  \n",
       "42       Men Flydoot Running Shoes  \n",
       "43    Women Colourblocked Sneakers  \n",
       "44  Women Snakeskin Textured Heels  \n",
       "45  Women Renew In-Season Training  \n",
       "46             Men Chunky Sneakers  \n",
       "47      Men Lightweight Flat Boots  \n",
       "48        Men Solid Formal Loafers  \n",
       "49    Men Strike Textured Sneakers  "
      ]
     },
     "execution_count": 77,
     "metadata": {},
     "output_type": "execute_result"
    }
   ],
   "source": [
    "df=pd.DataFrame({'Brand Name': brands , 'Price & Discount':prices , 'Details': size})\n",
    "df"
   ]
  },
  {
   "cell_type": "raw",
   "id": "d1fa1192",
   "metadata": {},
   "source": [
    "**************************************************************************************************************************8\n",
    "8: Go to webpage https://www.amazon.in/\n",
    "Enter “Laptop” in the search field and then click the search icon.\n",
    "Then set CPU Type filter to “Intel Core i7” and “Intel Core i9” as shown in the below image:"
   ]
  },
  {
   "cell_type": "code",
   "execution_count": 78,
   "id": "3089b4d9",
   "metadata": {},
   "outputs": [
    {
     "data": {
      "text/plain": [
       "<selenium.webdriver.chrome.webdriver.WebDriver (session=\"605f0ba2aba63f5635f1db2678c2c094\")>"
      ]
     },
     "execution_count": 78,
     "metadata": {},
     "output_type": "execute_result"
    }
   ],
   "source": [
    "driver = webdriver.Chrome(r\"D:\\python\\chromedriver.exe\")\n",
    "driver"
   ]
  },
  {
   "cell_type": "code",
   "execution_count": 79,
   "id": "ab7ae6a1",
   "metadata": {},
   "outputs": [],
   "source": [
    "driver.get('https://www.amazon.in/')"
   ]
  },
  {
   "cell_type": "code",
   "execution_count": 80,
   "id": "22221418",
   "metadata": {},
   "outputs": [],
   "source": [
    "name=driver.find_element_by_xpath('/html/body/div[1]/header/div/div[1]/div[2]/div/form/div[2]/div[1]/input')\n",
    "name.send_keys('laptop')"
   ]
  },
  {
   "cell_type": "code",
   "execution_count": 81,
   "id": "cfd7eb2f",
   "metadata": {},
   "outputs": [],
   "source": [
    "search=driver.find_element_by_xpath('/html/body/div[1]/header/div/div[1]/div[2]/div/form/div[3]/div/span/input')\n",
    "search.click()"
   ]
  },
  {
   "cell_type": "code",
   "execution_count": 83,
   "id": "27670c99",
   "metadata": {},
   "outputs": [],
   "source": [
    "#apply filter intel\n",
    "intel=driver.find_element_by_xpath('/html/body/div[1]/div[2]/div[1]/div[2]/div/div[3]/span/div[1]/div/div/div[5]/ul[1]/li[3]/span/a/div/label/i')\n",
    "intel.click()"
   ]
  },
  {
   "cell_type": "code",
   "execution_count": 84,
   "id": "15f5816e",
   "metadata": {},
   "outputs": [],
   "source": [
    "# intel core i7\n",
    "i7=driver.find_element_by_xpath('/html/body/div[1]/div[2]/div[1]/div[2]/div/div[3]/span/div[1]/div/div/div[5]/ul[4]/li[5]/span/a/div/label/i')\n",
    "i7.click()"
   ]
  },
  {
   "cell_type": "code",
   "execution_count": 85,
   "id": "453ed508",
   "metadata": {},
   "outputs": [],
   "source": [
    "title=[]\n",
    "rating=[]\n",
    "price=[]\n"
   ]
  },
  {
   "cell_type": "code",
   "execution_count": 86,
   "id": "3b95ff3b",
   "metadata": {},
   "outputs": [
    {
     "data": {
      "text/plain": [
       "[<selenium.webdriver.remote.webelement.WebElement (session=\"605f0ba2aba63f5635f1db2678c2c094\", element=\"03b87db8-a387-473c-ab7a-dc2a8e1b6232\")>,\n",
       " <selenium.webdriver.remote.webelement.WebElement (session=\"605f0ba2aba63f5635f1db2678c2c094\", element=\"ed080b37-3c01-4d91-80ef-5e08e932c6d8\")>,\n",
       " <selenium.webdriver.remote.webelement.WebElement (session=\"605f0ba2aba63f5635f1db2678c2c094\", element=\"29d2ad9e-d247-4ec0-8674-eb8b65435699\")>]"
      ]
     },
     "execution_count": 86,
     "metadata": {},
     "output_type": "execute_result"
    }
   ],
   "source": [
    "product=driver.find_elements_by_xpath(\"//span[@class='a-size-medium a-color-base a-text-normal']\")\n",
    "product[0:3]"
   ]
  },
  {
   "cell_type": "code",
   "execution_count": 87,
   "id": "a16c5f97",
   "metadata": {},
   "outputs": [
    {
     "data": {
      "text/plain": [
       "['Acer Predator Helios 300 11th Gen Intel Core i9-11900H 15.6 inches FHD IPS Gaming Laptop (32GB/1TB SSD/Windows 11 Home/8GB Graphics/NVIDIA GeForce RTX 3070/300 Hz, Black, 2.3Kg) PH315-54',\n",
       " 'MSI Modern 14, Intel i7-1195G7, 14\" FHD IPS-Level 60Hz Panel Laptop (8GB/512GB NVMe SSD/Windows 10 Home/Nvidia MX450 2GB Graphics/Carbon Grey/1.3Kg), B11SBU-688IN',\n",
       " 'Samsung Galaxy Book2 Intel 12th Gen core i7 EvoTM  39.6cm (15.6\") FHD LED Thin & Light Laptop (16 GB/512 GB SSD/Windows 11/MS Office Home & Student 2021/Graphite/1.55Kg), NP750XED-KC2IN',\n",
       " 'ASUS VivoBook 14 (2021), 14-inch (35.56 cms) FHD, Intel Core i7-1065G7 10th Gen, Thin and Light Laptop (16GB/512GB SSD/Integrated Graphics/Office 2021/Windows 11/Silver/1.6 Kg), X415JA-EK701WS',\n",
       " 'ASUS TUF Gaming F15 (2021), 15.6\" (39.62 cms) FHD 144Hz, Intel Core i7-11600H 11th Gen, 4GB RTX 3050 Graphics, Gaming Laptop (16GB/512GB SSD/Windows 10/Office 2019/Gray/2.3 Kg), FX566HCB-HN299TS',\n",
       " 'HP Pavilion 14, 11th Gen Intel Core i7-16GB RAM/1TB SSD 14 inch(35.6 cm) Laptop/Intel Iris Xe Graphics/Backlit Keyboard/Alexa/B&O Audio/Fast Charge/FPR/Win 11/MS Office, 14-dv1029TU,Natural Silver',\n",
       " 'HP Pavilion 11th Gen Intel Core i7 Processor 15.6 inches FHD Gaming Laptop (16GB/512GB SSD/Windows 11/NVIDIA RTX 3050 Graphics/MS Office/ Shadow Black & Ultra Violet/2.23Kg), 15-dk2096TX',\n",
       " 'Lenovo ThinkBook 15 Intel 11th Gen Core i7 15.6\"(39.62 cm)FHD Thin and Light Laptop (16GB/512GB SSD/Windows 11 Home/MS Office H&S 2021/Iris® Xe Graphics/Backlit/Mineral Grey/1.7 Kg) 20VE00W4IH',\n",
       " 'HP Pavilion x360 11th Gen Intel Core i7 14 inch(35.6 cm) FHD Multitouch 2-in-1 Laptop(16GB RAM/512GB SSD/B&O/Win 11/FPR/Backlit KB/Intel Iris Xe Graphics/Pen/Alexa/MS Office/Silver/1.52Kg) 14-dy1047TU',\n",
       " 'LG Gram Intel Evo 11th Gen Core i7 17 inches Ultra-Light Laptop (16 GB RAM, 512 GB SSD, New Windows 11 Home Preload, Iris Xe Graphics, USC -C x 2 (with Power), 1.35 kg, 17Z90P-G.AH85A2, Black)',\n",
       " 'Fujitsu UH-X 11th Gen Intel Core i7 13.3” FHD IPS 400Nits Thin & Light Laptop(16GB/512GB SSD/Windows 11/Office 2021/Iris Xe Graphics/Backlit Kb/Fingerprint Reader/2Yr Warranty/Black/878gms),4ZR1F38024',\n",
       " 'Dell 15 (2021) Inspiron 5518 Intel Thunderbolt 4.0 i7-11390H 15.6 Inches Notebook Computer (16GB, 1TB SSD, Windows 11 + MS Office 21, NVIDIA MX450 2GB, FHD Display, Silver Color, FPR + Backlit KB)',\n",
       " 'Lenovo IdeaPad Gaming 3 Intel Core i7 10th Gen 39.62 cm (15.6\") FHD IPS 250Nits Gaming Laptop (8GB/512GB SSD/Win10/NVIDIA GTX 1650 4GB GDDR6 Graphics/120Hz/Onyx Black/2.2Kg), 81Y4019EIN',\n",
       " 'ASUS TUF Gaming F15 (2021), 15.6-inch (39.62 cms) FHD 144Hz, Intel Core i7-11800H 11th Gen, GeForce RTX 3050 4GB Graphics, Gaming Laptop (8GB/512GB SSD/Windows 10/Eclipse Gray/2.3 Kg), FX566HC-HN093T',\n",
       " 'ASUS TUF Gaming F15 (2021), 15.6\" (39.62 cms) FHD 144Hz, Intel Core i7-11600H 11th Gen, 4GB RTX 3050 Graphics, Gaming Laptop (16GB/512GB SSD/Windows 10/Office 2019/Gray/2.3 Kg), FX566HCB-HN299TS',\n",
       " 'ASUS ROG Zephyrus M16 (2022), 16-inch (40.64 cms) 2K QHD 165Hz/3ms, Core i7-12700H 12th Gen, RTX 3060 6GB Graphics, Gaming Laptop (16GB/1TB SSD/Win 11/Office 2021/Black/2 Kg), GU603ZM-K8035WS',\n",
       " 'ASUS TUF Gaming F15 (2021) 15.6-inch (39.62 cms) FHD 144Hz, Intel Core i7-11800H 11th Gen, RTX 3050 4GB Graphics, Gaming Laptop (8GB/1TB SSD/Windows 10/Gray/2.3 Kg), FX566HCB-HN231T, Eclipse Gray',\n",
       " '(Renewed) Dell Latitude E7470 Intel Core i7 6th Gen 14 inches Laptop /16 GB RAM/512 GB SSD/Windows 10 Pro/MS Office/HD Display/Integrated Graphics, 1.9 kg',\n",
       " '(Renewed) Dell Latitude Laptop E7480 Intel Core i7 - 7600u Processor 7th Gen, 16 GB Ram & 512 GB SSD, 14.1 Inches (Ultra Slim & Feather Light 1.37KG) Notebook Computer',\n",
       " 'Acer Nitro 5 Gaming Laptop/12th Gen Intel Core i7-12700H Processor 14core/15.6\"(39.6cm) FHD 144Hz Display(16GB/512GB SSD/1TB HDD/RTX 3050Ti Graphics/Windows 11/RGB),AN515-58 + Xbox Game Pass Ultimate',\n",
       " \"Dell Alienware x15 R1 2021 i7-11800H 16GB, Intel 1TB SSD, Windows 11 + MSO'21, NVIDIA RTX 3060 6GB, 15.6 inches FHD 300 nits 360Hz + Alien FX, Lunar Light Gaming Laptop (D569932WIN9, 2.27 kgs)\",\n",
       " '(Renewed) Dell Latitude Laptop E7480 Intel Core i7 - 7600u Processor 7th Gen, 16 GB Ram & 1TB SSD, 14.1 inches Touch Screeen (Ultra Slim & Feather Light 1.37KG) Notebook Computer',\n",
       " '(Renewed) Dell Latitude Laptop E7480 Intel Core i7 - 7600u Processor 7th Gen, 8 GB Ram & 1TB SSD, 14.1 inches Touch Screeen (Ultra Slim & Feather Light 1.37KG) Notebook Computer',\n",
       " 'Lenovo Legion 5 11th Gen Intel i7-11800H 15.6\" (39.62cm) FHD IPS Gaming Laptop (8GB/512GB SSD/Win11/Office 2021/NVIDIA RTX 3050Ti 4GB/120Hz/2.4Kg), 82JK007XIN + Legion Headset & 8K DPI Mouse',\n",
       " '(Renewed) Dell Latitude Laptop E7480 Intel Core i7 - 7600u Processor 7th Gen, 8 GB Ram & 256 GB SSD, 14.1 Inches (Ultra Slim & Feather Light 1.37KG) Notebook Computer',\n",
       " '(Renewed) Dell Latitude Laptop E7480 Intel Core i7 - 7600u Processor 7th Gen, 8 GB Ram & 256 GB SSD, 14.1 inches Touch Screeen (Ultra Slim & Feather Light 1.37KG) Notebook Computer',\n",
       " '(Renewed) Dell Latitude Laptop E7480 Intel Core i7 - 7600u Processor 7th Gen, 8 GB Ram & 128 GB SSD, 14.1 inches Touch Screeen (Ultra Slim & Feather Light 1.37KG) Notebook Computer',\n",
       " '(Renewed) Dell Latitude Laptop E7480 Intel Core i7 - 7600u Processor 7th Gen, 4 GB Ram & 1TB SSD, 14.1 Inches (Ultra Slim & Feather Light 1.37KG) Notebook Computer',\n",
       " 'Acer Nitro 5 Gaming Laptop/12th Gen Intel Core i7-12700H Processor 14core/15.6\"(39.6cm) FHD 144Hz Display(16GB/512GB SSD/1TB HDD/RTX 3050Ti Graphics/Windows 11/RGB),AN515-58 + Xbox Game Pass Ultimate',\n",
       " 'ASUS TUF Gaming F15 (2022), 15.6-inch (39.62 cms) FHD 144Hz, Intel Core i7-12700H 12th Gen, RTX 3050 Ti 4GB Graphics, Gaming Laptop (16GB/512GB SSD/Windows 11/Gray/2.2 Kg), FX507ZE-HN038W']"
      ]
     },
     "execution_count": 87,
     "metadata": {},
     "output_type": "execute_result"
    }
   ],
   "source": [
    "for i in product:\n",
    "    pro=i.text\n",
    "    title.append(pro)\n",
    "    \n",
    "title"
   ]
  },
  {
   "cell_type": "code",
   "execution_count": 90,
   "id": "2aca5084",
   "metadata": {},
   "outputs": [
    {
     "data": {
      "text/plain": [
       "['Acer Predator Helios 300 11th Gen Intel Core i9-11900H 15.6 inches FHD IPS Gaming Laptop (32GB/1TB SSD/Windows 11 Home/8GB Graphics/NVIDIA GeForce RTX 3070/300 Hz, Black, 2.3Kg) PH315-54',\n",
       " 'MSI Modern 14, Intel i7-1195G7, 14\" FHD IPS-Level 60Hz Panel Laptop (8GB/512GB NVMe SSD/Windows 10 Home/Nvidia MX450 2GB Graphics/Carbon Grey/1.3Kg), B11SBU-688IN',\n",
       " 'Samsung Galaxy Book2 Intel 12th Gen core i7 EvoTM  39.6cm (15.6\") FHD LED Thin & Light Laptop (16 GB/512 GB SSD/Windows 11/MS Office Home & Student 2021/Graphite/1.55Kg), NP750XED-KC2IN',\n",
       " 'ASUS VivoBook 14 (2021), 14-inch (35.56 cms) FHD, Intel Core i7-1065G7 10th Gen, Thin and Light Laptop (16GB/512GB SSD/Integrated Graphics/Office 2021/Windows 11/Silver/1.6 Kg), X415JA-EK701WS',\n",
       " 'ASUS TUF Gaming F15 (2021), 15.6\" (39.62 cms) FHD 144Hz, Intel Core i7-11600H 11th Gen, 4GB RTX 3050 Graphics, Gaming Laptop (16GB/512GB SSD/Windows 10/Office 2019/Gray/2.3 Kg), FX566HCB-HN299TS',\n",
       " 'HP Pavilion 14, 11th Gen Intel Core i7-16GB RAM/1TB SSD 14 inch(35.6 cm) Laptop/Intel Iris Xe Graphics/Backlit Keyboard/Alexa/B&O Audio/Fast Charge/FPR/Win 11/MS Office, 14-dv1029TU,Natural Silver',\n",
       " 'HP Pavilion 11th Gen Intel Core i7 Processor 15.6 inches FHD Gaming Laptop (16GB/512GB SSD/Windows 11/NVIDIA RTX 3050 Graphics/MS Office/ Shadow Black & Ultra Violet/2.23Kg), 15-dk2096TX',\n",
       " 'Lenovo ThinkBook 15 Intel 11th Gen Core i7 15.6\"(39.62 cm)FHD Thin and Light Laptop (16GB/512GB SSD/Windows 11 Home/MS Office H&S 2021/Iris® Xe Graphics/Backlit/Mineral Grey/1.7 Kg) 20VE00W4IH',\n",
       " 'HP Pavilion x360 11th Gen Intel Core i7 14 inch(35.6 cm) FHD Multitouch 2-in-1 Laptop(16GB RAM/512GB SSD/B&O/Win 11/FPR/Backlit KB/Intel Iris Xe Graphics/Pen/Alexa/MS Office/Silver/1.52Kg) 14-dy1047TU',\n",
       " 'LG Gram Intel Evo 11th Gen Core i7 17 inches Ultra-Light Laptop (16 GB RAM, 512 GB SSD, New Windows 11 Home Preload, Iris Xe Graphics, USC -C x 2 (with Power), 1.35 kg, 17Z90P-G.AH85A2, Black)']"
      ]
     },
     "execution_count": 90,
     "metadata": {},
     "output_type": "execute_result"
    }
   ],
   "source": [
    "sujay=title[0:10]\n",
    "sujay"
   ]
  },
  {
   "cell_type": "code",
   "execution_count": 91,
   "id": "5faeffab",
   "metadata": {},
   "outputs": [
    {
     "data": {
      "text/plain": [
       "[<selenium.webdriver.remote.webelement.WebElement (session=\"605f0ba2aba63f5635f1db2678c2c094\", element=\"1428b37c-ed3f-4581-92d3-4b3bd00481b4\")>,\n",
       " <selenium.webdriver.remote.webelement.WebElement (session=\"605f0ba2aba63f5635f1db2678c2c094\", element=\"6823096e-3297-4b00-afc4-d583230ff9c6\")>,\n",
       " <selenium.webdriver.remote.webelement.WebElement (session=\"605f0ba2aba63f5635f1db2678c2c094\", element=\"de84300a-a619-4981-83d3-bc34c5d2d7f9\")>]"
      ]
     },
     "execution_count": 91,
     "metadata": {},
     "output_type": "execute_result"
    }
   ],
   "source": [
    "prices=driver.find_elements_by_xpath(\"//span[@class='a-price-whole']\")\n",
    "prices[0:3]"
   ]
  },
  {
   "cell_type": "code",
   "execution_count": 92,
   "id": "55256a20",
   "metadata": {},
   "outputs": [
    {
     "data": {
      "text/plain": [
       "['1,69,990',\n",
       " '76,490',\n",
       " '79,990',\n",
       " '57,490',\n",
       " '89,990',\n",
       " '86,990',\n",
       " '89,990',\n",
       " '86,990',\n",
       " '85,890',\n",
       " '93,999',\n",
       " '84,590',\n",
       " '97,670',\n",
       " '73,990',\n",
       " '96,990',\n",
       " '89,990',\n",
       " '1,79,990',\n",
       " '92,990',\n",
       " '44,940',\n",
       " '47,034',\n",
       " '1,09,990',\n",
       " '2,66,921',\n",
       " '54,990',\n",
       " '48,014',\n",
       " '1,14,488',\n",
       " '39,990',\n",
       " '42,990',\n",
       " '41,154',\n",
       " '43,990',\n",
       " '1,09,990',\n",
       " '1,16,990']"
      ]
     },
     "execution_count": 92,
     "metadata": {},
     "output_type": "execute_result"
    }
   ],
   "source": [
    "for i in prices:\n",
    "    pri=i.text\n",
    "    price.append(pri)\n",
    "price"
   ]
  },
  {
   "cell_type": "code",
   "execution_count": 95,
   "id": "cb114417",
   "metadata": {},
   "outputs": [
    {
     "data": {
      "text/plain": [
       "['1,69,990',\n",
       " '76,490',\n",
       " '79,990',\n",
       " '57,490',\n",
       " '89,990',\n",
       " '86,990',\n",
       " '89,990',\n",
       " '86,990',\n",
       " '85,890',\n",
       " '93,999']"
      ]
     },
     "execution_count": 95,
     "metadata": {},
     "output_type": "execute_result"
    }
   ],
   "source": [
    "sujay1=price[0:10]\n",
    "sujay1"
   ]
  },
  {
   "cell_type": "code",
   "execution_count": 96,
   "id": "df98a8cc",
   "metadata": {},
   "outputs": [
    {
     "data": {
      "text/plain": [
       "[<selenium.webdriver.remote.webelement.WebElement (session=\"605f0ba2aba63f5635f1db2678c2c094\", element=\"7a1e74ca-93dd-4ae3-b5b4-defe83bd834d\")>,\n",
       " <selenium.webdriver.remote.webelement.WebElement (session=\"605f0ba2aba63f5635f1db2678c2c094\", element=\"93343bbc-7b91-4150-aa23-6b2c0759a110\")>]"
      ]
     },
     "execution_count": 96,
     "metadata": {},
     "output_type": "execute_result"
    }
   ],
   "source": [
    "ratings=driver.find_elements_by_xpath(\"//div[@class='a-row a-size-small']\")\n",
    "ratings[0:2]"
   ]
  },
  {
   "cell_type": "code",
   "execution_count": 97,
   "id": "80b9ab88",
   "metadata": {},
   "outputs": [
    {
     "data": {
      "text/plain": [
       "['6',\n",
       " '2',\n",
       " '65',\n",
       " '4',\n",
       " '2',\n",
       " '7',\n",
       " '39',\n",
       " '1',\n",
       " '152',\n",
       " '49',\n",
       " '16',\n",
       " '13',\n",
       " '13',\n",
       " '4',\n",
       " '3',\n",
       " '13',\n",
       " '10',\n",
       " '3',\n",
       " '3',\n",
       " '5']"
      ]
     },
     "execution_count": 97,
     "metadata": {},
     "output_type": "execute_result"
    }
   ],
   "source": [
    "for i in ratings:\n",
    "    rate=i.text\n",
    "    rating.append(rate)\n",
    "rating"
   ]
  },
  {
   "cell_type": "code",
   "execution_count": 99,
   "id": "adf7af82",
   "metadata": {},
   "outputs": [
    {
     "data": {
      "text/plain": [
       "['6', '2', '65', '4', '2', '7', '39', '1', '152', '49']"
      ]
     },
     "execution_count": 99,
     "metadata": {},
     "output_type": "execute_result"
    }
   ],
   "source": [
    "sujay2=rating[0:10]\n",
    "sujay2"
   ]
  },
  {
   "cell_type": "code",
   "execution_count": 112,
   "id": "fc57b20f",
   "metadata": {},
   "outputs": [
    {
     "data": {
      "text/html": [
       "<div>\n",
       "<style scoped>\n",
       "    .dataframe tbody tr th:only-of-type {\n",
       "        vertical-align: middle;\n",
       "    }\n",
       "\n",
       "    .dataframe tbody tr th {\n",
       "        vertical-align: top;\n",
       "    }\n",
       "\n",
       "    .dataframe thead th {\n",
       "        text-align: right;\n",
       "    }\n",
       "</style>\n",
       "<table border=\"1\" class=\"dataframe\">\n",
       "  <thead>\n",
       "    <tr style=\"text-align: right;\">\n",
       "      <th></th>\n",
       "      <th>Product Name</th>\n",
       "      <th>Price</th>\n",
       "      <th>Rating</th>\n",
       "    </tr>\n",
       "  </thead>\n",
       "  <tbody>\n",
       "    <tr>\n",
       "      <th>0</th>\n",
       "      <td>Acer Predator Helios 300 11th Gen Intel Core i...</td>\n",
       "      <td>1,69,990</td>\n",
       "      <td>6</td>\n",
       "    </tr>\n",
       "    <tr>\n",
       "      <th>1</th>\n",
       "      <td>MSI Modern 14, Intel i7-1195G7, 14\" FHD IPS-Le...</td>\n",
       "      <td>76,490</td>\n",
       "      <td>2</td>\n",
       "    </tr>\n",
       "    <tr>\n",
       "      <th>2</th>\n",
       "      <td>Samsung Galaxy Book2 Intel 12th Gen core i7 Ev...</td>\n",
       "      <td>79,990</td>\n",
       "      <td>65</td>\n",
       "    </tr>\n",
       "    <tr>\n",
       "      <th>3</th>\n",
       "      <td>ASUS VivoBook 14 (2021), 14-inch (35.56 cms) F...</td>\n",
       "      <td>57,490</td>\n",
       "      <td>4</td>\n",
       "    </tr>\n",
       "    <tr>\n",
       "      <th>4</th>\n",
       "      <td>ASUS TUF Gaming F15 (2021), 15.6\" (39.62 cms) ...</td>\n",
       "      <td>89,990</td>\n",
       "      <td>2</td>\n",
       "    </tr>\n",
       "    <tr>\n",
       "      <th>5</th>\n",
       "      <td>HP Pavilion 14, 11th Gen Intel Core i7-16GB RA...</td>\n",
       "      <td>86,990</td>\n",
       "      <td>7</td>\n",
       "    </tr>\n",
       "    <tr>\n",
       "      <th>6</th>\n",
       "      <td>HP Pavilion 11th Gen Intel Core i7 Processor 1...</td>\n",
       "      <td>89,990</td>\n",
       "      <td>39</td>\n",
       "    </tr>\n",
       "    <tr>\n",
       "      <th>7</th>\n",
       "      <td>Lenovo ThinkBook 15 Intel 11th Gen Core i7 15....</td>\n",
       "      <td>86,990</td>\n",
       "      <td>1</td>\n",
       "    </tr>\n",
       "    <tr>\n",
       "      <th>8</th>\n",
       "      <td>HP Pavilion x360 11th Gen Intel Core i7 14 inc...</td>\n",
       "      <td>85,890</td>\n",
       "      <td>152</td>\n",
       "    </tr>\n",
       "    <tr>\n",
       "      <th>9</th>\n",
       "      <td>LG Gram Intel Evo 11th Gen Core i7 17 inches U...</td>\n",
       "      <td>93,999</td>\n",
       "      <td>49</td>\n",
       "    </tr>\n",
       "  </tbody>\n",
       "</table>\n",
       "</div>"
      ],
      "text/plain": [
       "                                        Product Name     Price Rating\n",
       "0  Acer Predator Helios 300 11th Gen Intel Core i...  1,69,990      6\n",
       "1  MSI Modern 14, Intel i7-1195G7, 14\" FHD IPS-Le...    76,490      2\n",
       "2  Samsung Galaxy Book2 Intel 12th Gen core i7 Ev...    79,990     65\n",
       "3  ASUS VivoBook 14 (2021), 14-inch (35.56 cms) F...    57,490      4\n",
       "4  ASUS TUF Gaming F15 (2021), 15.6\" (39.62 cms) ...    89,990      2\n",
       "5  HP Pavilion 14, 11th Gen Intel Core i7-16GB RA...    86,990      7\n",
       "6  HP Pavilion 11th Gen Intel Core i7 Processor 1...    89,990     39\n",
       "7  Lenovo ThinkBook 15 Intel 11th Gen Core i7 15....    86,990      1\n",
       "8  HP Pavilion x360 11th Gen Intel Core i7 14 inc...    85,890    152\n",
       "9  LG Gram Intel Evo 11th Gen Core i7 17 inches U...    93,999     49"
      ]
     },
     "execution_count": 112,
     "metadata": {},
     "output_type": "execute_result"
    }
   ],
   "source": [
    "df=pd.DataFrame({'Product Name': sujay , 'Price': sujay1 , 'Rating': sujay2})\n",
    "df"
   ]
  },
  {
   "cell_type": "code",
   "execution_count": 100,
   "id": "8eaa07b4",
   "metadata": {},
   "outputs": [],
   "source": [
    "# filter for the intel core i9 \n",
    "\n",
    "i9=driver.find_element_by_xpath('/html/body/div[1]/div[2]/div[1]/div[2]/div/div[3]/span/div[1]/div/div/div[5]/ul[4]/li[6]/span/a/div/label/i')\n",
    "i9.click()"
   ]
  },
  {
   "cell_type": "code",
   "execution_count": 113,
   "id": "712d8008",
   "metadata": {},
   "outputs": [
    {
     "data": {
      "text/plain": [
       "[<selenium.webdriver.remote.webelement.WebElement (session=\"605f0ba2aba63f5635f1db2678c2c094\", element=\"5b1b29fc-8f38-4d65-86f8-0b5ddfa662f7\")>,\n",
       " <selenium.webdriver.remote.webelement.WebElement (session=\"605f0ba2aba63f5635f1db2678c2c094\", element=\"1af0e419-0ecb-4cb0-94ae-b3aacf57b238\")>,\n",
       " <selenium.webdriver.remote.webelement.WebElement (session=\"605f0ba2aba63f5635f1db2678c2c094\", element=\"bd12a265-22ac-4812-96b8-5e816bfcae95\")>]"
      ]
     },
     "execution_count": 113,
     "metadata": {},
     "output_type": "execute_result"
    }
   ],
   "source": [
    "product=driver.find_elements_by_xpath(\"//span[@class='a-size-medium a-color-base a-text-normal']\")\n",
    "product[0:3]"
   ]
  },
  {
   "cell_type": "code",
   "execution_count": 114,
   "id": "449f7332",
   "metadata": {},
   "outputs": [
    {
     "data": {
      "text/plain": [
       "['Acer Predator Helios 300 11th Gen Intel Core i9-11900H 15.6 inches FHD IPS Gaming Laptop (32GB/1TB SSD/Windows 11 Home/8GB Graphics/NVIDIA GeForce RTX 3070/300 Hz, Black, 2.3Kg) PH315-54',\n",
       " 'MSI Modern 14, Intel i7-1195G7, 14\" FHD IPS-Level 60Hz Panel Laptop (8GB/512GB NVMe SSD/Windows 10 Home/Nvidia MX450 2GB Graphics/Carbon Grey/1.3Kg), B11SBU-688IN',\n",
       " 'Samsung Galaxy Book2 Intel 12th Gen core i7 EvoTM  39.6cm (15.6\") FHD LED Thin & Light Laptop (16 GB/512 GB SSD/Windows 11/MS Office Home & Student 2021/Graphite/1.55Kg), NP750XED-KC2IN',\n",
       " 'ASUS VivoBook 14 (2021), 14-inch (35.56 cms) FHD, Intel Core i7-1065G7 10th Gen, Thin and Light Laptop (16GB/512GB SSD/Integrated Graphics/Office 2021/Windows 11/Silver/1.6 Kg), X415JA-EK701WS',\n",
       " 'ASUS TUF Gaming F15 (2021), 15.6\" (39.62 cms) FHD 144Hz, Intel Core i7-11600H 11th Gen, 4GB RTX 3050 Graphics, Gaming Laptop (16GB/512GB SSD/Windows 10/Office 2019/Gray/2.3 Kg), FX566HCB-HN299TS',\n",
       " 'HP Pavilion 14, 11th Gen Intel Core i7-16GB RAM/1TB SSD 14 inch(35.6 cm) Laptop/Intel Iris Xe Graphics/Backlit Keyboard/Alexa/B&O Audio/Fast Charge/FPR/Win 11/MS Office, 14-dv1029TU,Natural Silver',\n",
       " 'HP Pavilion 11th Gen Intel Core i7 Processor 15.6 inches FHD Gaming Laptop (16GB/512GB SSD/Windows 11/NVIDIA RTX 3050 Graphics/MS Office/ Shadow Black & Ultra Violet/2.23Kg), 15-dk2096TX',\n",
       " 'Lenovo ThinkBook 15 Intel 11th Gen Core i7 15.6\"(39.62 cm)FHD Thin and Light Laptop (16GB/512GB SSD/Windows 11 Home/MS Office H&S 2021/Iris® Xe Graphics/Backlit/Mineral Grey/1.7 Kg) 20VE00W4IH',\n",
       " 'HP Pavilion x360 11th Gen Intel Core i7 14 inch(35.6 cm) FHD Multitouch 2-in-1 Laptop(16GB RAM/512GB SSD/B&O/Win 11/FPR/Backlit KB/Intel Iris Xe Graphics/Pen/Alexa/MS Office/Silver/1.52Kg) 14-dy1047TU',\n",
       " 'LG Gram Intel Evo 11th Gen Core i7 17 inches Ultra-Light Laptop (16 GB RAM, 512 GB SSD, New Windows 11 Home Preload, Iris Xe Graphics, USC -C x 2 (with Power), 1.35 kg, 17Z90P-G.AH85A2, Black)',\n",
       " 'Fujitsu UH-X 11th Gen Intel Core i7 13.3” FHD IPS 400Nits Thin & Light Laptop(16GB/512GB SSD/Windows 11/Office 2021/Iris Xe Graphics/Backlit Kb/Fingerprint Reader/2Yr Warranty/Black/878gms),4ZR1F38024',\n",
       " 'Dell 15 (2021) Inspiron 5518 Intel Thunderbolt 4.0 i7-11390H 15.6 Inches Notebook Computer (16GB, 1TB SSD, Windows 11 + MS Office 21, NVIDIA MX450 2GB, FHD Display, Silver Color, FPR + Backlit KB)',\n",
       " 'Lenovo IdeaPad Gaming 3 Intel Core i7 10th Gen 39.62 cm (15.6\") FHD IPS 250Nits Gaming Laptop (8GB/512GB SSD/Win10/NVIDIA GTX 1650 4GB GDDR6 Graphics/120Hz/Onyx Black/2.2Kg), 81Y4019EIN',\n",
       " 'ASUS TUF Gaming F15 (2021), 15.6-inch (39.62 cms) FHD 144Hz, Intel Core i7-11800H 11th Gen, GeForce RTX 3050 4GB Graphics, Gaming Laptop (8GB/512GB SSD/Windows 10/Eclipse Gray/2.3 Kg), FX566HC-HN093T',\n",
       " 'ASUS TUF Gaming F15 (2021), 15.6\" (39.62 cms) FHD 144Hz, Intel Core i7-11600H 11th Gen, 4GB RTX 3050 Graphics, Gaming Laptop (16GB/512GB SSD/Windows 10/Office 2019/Gray/2.3 Kg), FX566HCB-HN299TS',\n",
       " 'ASUS ROG Zephyrus M16 (2022), 16-inch (40.64 cms) 2K QHD 165Hz/3ms, Core i7-12700H 12th Gen, RTX 3060 6GB Graphics, Gaming Laptop (16GB/1TB SSD/Win 11/Office 2021/Black/2 Kg), GU603ZM-K8035WS',\n",
       " 'ASUS TUF Gaming F15 (2021) 15.6-inch (39.62 cms) FHD 144Hz, Intel Core i7-11800H 11th Gen, RTX 3050 4GB Graphics, Gaming Laptop (8GB/1TB SSD/Windows 10/Gray/2.3 Kg), FX566HCB-HN231T, Eclipse Gray',\n",
       " '(Renewed) Dell Latitude E7470 Intel Core i7 6th Gen 14 inches Laptop /16 GB RAM/512 GB SSD/Windows 10 Pro/MS Office/HD Display/Integrated Graphics, 1.9 kg',\n",
       " '(Renewed) Dell Latitude Laptop E7480 Intel Core i7 - 7600u Processor 7th Gen, 16 GB Ram & 512 GB SSD, 14.1 Inches (Ultra Slim & Feather Light 1.37KG) Notebook Computer',\n",
       " 'Acer Nitro 5 Gaming Laptop/12th Gen Intel Core i7-12700H Processor 14core/15.6\"(39.6cm) FHD 144Hz Display(16GB/512GB SSD/1TB HDD/RTX 3050Ti Graphics/Windows 11/RGB),AN515-58 + Xbox Game Pass Ultimate',\n",
       " \"Dell Alienware x15 R1 2021 i7-11800H 16GB, Intel 1TB SSD, Windows 11 + MSO'21, NVIDIA RTX 3060 6GB, 15.6 inches FHD 300 nits 360Hz + Alien FX, Lunar Light Gaming Laptop (D569932WIN9, 2.27 kgs)\",\n",
       " '(Renewed) Dell Latitude Laptop E7480 Intel Core i7 - 7600u Processor 7th Gen, 16 GB Ram & 1TB SSD, 14.1 inches Touch Screeen (Ultra Slim & Feather Light 1.37KG) Notebook Computer',\n",
       " '(Renewed) Dell Latitude Laptop E7480 Intel Core i7 - 7600u Processor 7th Gen, 8 GB Ram & 1TB SSD, 14.1 inches Touch Screeen (Ultra Slim & Feather Light 1.37KG) Notebook Computer',\n",
       " 'Lenovo Legion 5 11th Gen Intel i7-11800H 15.6\" (39.62cm) FHD IPS Gaming Laptop (8GB/512GB SSD/Win11/Office 2021/NVIDIA RTX 3050Ti 4GB/120Hz/2.4Kg), 82JK007XIN + Legion Headset & 8K DPI Mouse',\n",
       " '(Renewed) Dell Latitude Laptop E7480 Intel Core i7 - 7600u Processor 7th Gen, 8 GB Ram & 256 GB SSD, 14.1 Inches (Ultra Slim & Feather Light 1.37KG) Notebook Computer',\n",
       " '(Renewed) Dell Latitude Laptop E7480 Intel Core i7 - 7600u Processor 7th Gen, 8 GB Ram & 256 GB SSD, 14.1 inches Touch Screeen (Ultra Slim & Feather Light 1.37KG) Notebook Computer',\n",
       " '(Renewed) Dell Latitude Laptop E7480 Intel Core i7 - 7600u Processor 7th Gen, 8 GB Ram & 128 GB SSD, 14.1 inches Touch Screeen (Ultra Slim & Feather Light 1.37KG) Notebook Computer',\n",
       " '(Renewed) Dell Latitude Laptop E7480 Intel Core i7 - 7600u Processor 7th Gen, 4 GB Ram & 1TB SSD, 14.1 Inches (Ultra Slim & Feather Light 1.37KG) Notebook Computer',\n",
       " 'Acer Nitro 5 Gaming Laptop/12th Gen Intel Core i7-12700H Processor 14core/15.6\"(39.6cm) FHD 144Hz Display(16GB/512GB SSD/1TB HDD/RTX 3050Ti Graphics/Windows 11/RGB),AN515-58 + Xbox Game Pass Ultimate',\n",
       " 'ASUS TUF Gaming F15 (2022), 15.6-inch (39.62 cms) FHD 144Hz, Intel Core i7-12700H 12th Gen, RTX 3050 Ti 4GB Graphics, Gaming Laptop (16GB/512GB SSD/Windows 11/Gray/2.2 Kg), FX507ZE-HN038W',\n",
       " 'Acer Predator Helios 300 11th Gen Intel Core i9-11900H 15.6\" (39.62cms) FHD IPS Gaming Laptop (16 GB/1TB SSD/Win 11 Home/6 GB Graphics/NVIDIA GeForce RTX 3060/360 Hz, Black, 2.3 kg) PH315-54',\n",
       " 'Acer Predator Helios 300 11th Gen Intel Core i9-11900H 15.6\" (39.62cms) FHD IPS Gaming Laptop (16 GB/1TB SSD/Win 11 Home/6 GB Graphics/NVIDIA GeForce RTX 3060/360 Hz, Black, 2.3 kg) PH315-54',\n",
       " 'ASUS ROG Zephyrus M16 (2022), 16-inch (40.64 cms) 2K QHD 165Hz/3ms, Core i9-12900H 12th Gen, RTX 3080 Ti 16GB Graphics, Gaming Laptop (32GB/2TB SSD/Win 11/Office 2021/Black/2 Kg), GU603ZX-K8024WS',\n",
       " 'ASUS ROG Strix Scar 15 (2022), Intel Core i9-12900H 12th Gen 15.6 inches 2K WQHD 240Hz/3ms Gaming Laptop (32GB/1TB SSD/RTX 3080 Ti 16GB Graphics/Windows 11 Home/Office 2021/Black/2.3 Kg)',\n",
       " 'ASUS ROG Strix Scar 15 (2022), 15.6-inch (39.62 cms) 2K WQHD 240Hz/3ms, Core i9-12900H 12th Gen, RTX 3070 Ti 8GB Graphics, Gaming Laptop (32GB/2TB SSD/Win 11/Office 2021/Black/2.3 Kg), G533ZW-LN106WS',\n",
       " 'ASUS TUF Gaming F15 (2021), 15.6\" (39.62 cms) FHD 240Hz, Intel Core i9-11900H 11th Gen, GeForce RTX 3060 6GB Graphics, Gaming Laptop(16GB/1TB SSD/Office 2019/Windows 10/Gray/2.3 Kg), FX566HM-AZ096TS',\n",
       " 'HP Envy 15- 11th Gen Intel Core i9/32GB/1TB SSD/15.6 inch(39.6 cm) 400 nits,4K AMOLED Touch, TUV + Win 11 Pro 64/NVIDIA GeForce RTX 3060 6GB Graphics/Alexa/FPR /B&O/2.14kg,15-ep1087TX, Natural Silver',\n",
       " 'ASUS ROG Strix Scar 15 (2022), 15.6\" (39.62 cms) 2K WQHD 240Hz/3ms, Intel Core i9-12900H 12th Gen, RTX 3070 Ti 8GB Graphics, Gaming Laptop (32GB/1TB SSD/Win 11/Office 2021/Black/2.3 kg) G533ZW-LN136WS',\n",
       " 'Predator Helios 500 Gaming Laptop (11th Gen Intel Core I9/17.3\" 4K UHD Display/64GB DDR4 RAM/2TB SSD/1TB HDD/RTX 3080 Graphics/Per Key RGB Backlit Keyboard) | PH517-52',\n",
       " 'Dell G7 7500 15.6inch FHD 300 Hz Display Gaming Laptop (10th Gen i9-10885H / 16 GB / 1TB SSD / NVIDIA RTX 2070 8GB Graphics / 1Yr Premium Warranty / Win 10 + MS Office H&S 2019) D560233WIN9B, Black',\n",
       " '(Renewed) HP Omen 15-dh0139TX Gaming Laptop (9th Gen i9-9880H/16GB/1TB HDD + 512GB SSD/Win 10/8GB NVIDIA RTX 2080 Graphics) & Z3700 Wireless Mouse',\n",
       " 'MSI Gaming Stealth GS66, Intel 12th Gen. i9-12900H, 15.6\" QHD 240Hz Gaming Laptop (16GB*2/1TB NVMe SSD/Windows 11 Home/Nvidia RTX 3070Ti 8GB GDDR 6/ Black/2.1Kg), 12UGS-038IN',\n",
       " 'HP Zbook - Intel i9 14 inch(35.6 cm)FHD, Thin & Light ,Touchscreen, Anti-Glare(32GB RAM/1TB M.2 SSD/NVIDIA T1200 4GB Graphics/Win10 Pro/IR Camera/Audio by B&O- HP Power G8 Mobile Workstation',\n",
       " 'Acer Predator Helios 300 11th Gen Intel Core i9-11900H 15.6\" (39.62cms) FHD IPS Gaming Laptop (16 GB/1TB SSD/Win 11 Home/6 GB Graphics/NVIDIA GeForce RTX 3060/360 Hz, Black, 2.3 kg) PH315-54',\n",
       " 'Acer Predator Helios 300 11th Gen Intel Core i9-11900H 15.6\" (39.62cms) FHD IPS Gaming Laptop (16 GB/1TB SSD/Win 11 Home/6 GB Graphics/NVIDIA GeForce RTX 3060/360 Hz, Black, 2.3 kg) PH315-54',\n",
       " 'ASUS ROG Zephyrus M16 (2022), 16-inch (40.64 cms) 2K QHD 165Hz/3ms, Core i9-12900H 12th Gen, RTX 3080 Ti 16GB Graphics, Gaming Laptop (32GB/2TB SSD/Win 11/Office 2021/Black/2 Kg), GU603ZX-K8024WS',\n",
       " 'ASUS ROG Strix Scar 15 (2022), Intel Core i9-12900H 12th Gen 15.6 inches 2K WQHD 240Hz/3ms Gaming Laptop (32GB/1TB SSD/RTX 3080 Ti 16GB Graphics/Windows 11 Home/Office 2021/Black/2.3 Kg)',\n",
       " 'ASUS ROG Strix Scar 15 (2022), 15.6-inch (39.62 cms) 2K WQHD 240Hz/3ms, Core i9-12900H 12th Gen, RTX 3070 Ti 8GB Graphics, Gaming Laptop (32GB/2TB SSD/Win 11/Office 2021/Black/2.3 Kg), G533ZW-LN106WS',\n",
       " 'ASUS TUF Gaming F15 (2021), 15.6\" (39.62 cms) FHD 240Hz, Intel Core i9-11900H 11th Gen, GeForce RTX 3060 6GB Graphics, Gaming Laptop(16GB/1TB SSD/Office 2019/Windows 10/Gray/2.3 Kg), FX566HM-AZ096TS',\n",
       " 'HP Envy 15- 11th Gen Intel Core i9/32GB/1TB SSD/15.6 inch(39.6 cm) 400 nits,4K AMOLED Touch, TUV + Win 11 Pro 64/NVIDIA GeForce RTX 3060 6GB Graphics/Alexa/FPR /B&O/2.14kg,15-ep1087TX, Natural Silver',\n",
       " 'ASUS ROG Strix Scar 15 (2022), 15.6\" (39.62 cms) 2K WQHD 240Hz/3ms, Intel Core i9-12900H 12th Gen, RTX 3070 Ti 8GB Graphics, Gaming Laptop (32GB/1TB SSD/Win 11/Office 2021/Black/2.3 kg) G533ZW-LN136WS',\n",
       " 'Predator Helios 500 Gaming Laptop (11th Gen Intel Core I9/17.3\" 4K UHD Display/64GB DDR4 RAM/2TB SSD/1TB HDD/RTX 3080 Graphics/Per Key RGB Backlit Keyboard) | PH517-52',\n",
       " 'Dell G7 7500 15.6inch FHD 300 Hz Display Gaming Laptop (10th Gen i9-10885H / 16 GB / 1TB SSD / NVIDIA RTX 2070 8GB Graphics / 1Yr Premium Warranty / Win 10 + MS Office H&S 2019) D560233WIN9B, Black',\n",
       " '(Renewed) HP Omen 15-dh0139TX Gaming Laptop (9th Gen i9-9880H/16GB/1TB HDD + 512GB SSD/Win 10/8GB NVIDIA RTX 2080 Graphics) & Z3700 Wireless Mouse',\n",
       " 'MSI Gaming Stealth GS66, Intel 12th Gen. i9-12900H, 15.6\" QHD 240Hz Gaming Laptop (16GB*2/1TB NVMe SSD/Windows 11 Home/Nvidia RTX 3070Ti 8GB GDDR 6/ Black/2.1Kg), 12UGS-038IN',\n",
       " 'HP Zbook - Intel i9 14 inch(35.6 cm)FHD, Thin & Light ,Touchscreen, Anti-Glare(32GB RAM/1TB M.2 SSD/NVIDIA T1200 4GB Graphics/Win10 Pro/IR Camera/Audio by B&O- HP Power G8 Mobile Workstation']"
      ]
     },
     "execution_count": 114,
     "metadata": {},
     "output_type": "execute_result"
    }
   ],
   "source": [
    "for i in product:\n",
    "    pro=i.text\n",
    "    title.append(pro)\n",
    "    \n",
    "title"
   ]
  },
  {
   "cell_type": "code",
   "execution_count": 127,
   "id": "23cbcafe",
   "metadata": {},
   "outputs": [
    {
     "data": {
      "text/plain": [
       "['Acer Predator Helios 300 11th Gen Intel Core i9-11900H 15.6\" (39.62cms) FHD IPS Gaming Laptop (16 GB/1TB SSD/Win 11 Home/6 GB Graphics/NVIDIA GeForce RTX 3060/360 Hz, Black, 2.3 kg) PH315-54',\n",
       " 'Acer Predator Helios 300 11th Gen Intel Core i9-11900H 15.6\" (39.62cms) FHD IPS Gaming Laptop (16 GB/1TB SSD/Win 11 Home/6 GB Graphics/NVIDIA GeForce RTX 3060/360 Hz, Black, 2.3 kg) PH315-54',\n",
       " 'ASUS ROG Zephyrus M16 (2022), 16-inch (40.64 cms) 2K QHD 165Hz/3ms, Core i9-12900H 12th Gen, RTX 3080 Ti 16GB Graphics, Gaming Laptop (32GB/2TB SSD/Win 11/Office 2021/Black/2 Kg), GU603ZX-K8024WS',\n",
       " 'ASUS ROG Strix Scar 15 (2022), Intel Core i9-12900H 12th Gen 15.6 inches 2K WQHD 240Hz/3ms Gaming Laptop (32GB/1TB SSD/RTX 3080 Ti 16GB Graphics/Windows 11 Home/Office 2021/Black/2.3 Kg)',\n",
       " 'ASUS ROG Strix Scar 15 (2022), 15.6-inch (39.62 cms) 2K WQHD 240Hz/3ms, Core i9-12900H 12th Gen, RTX 3070 Ti 8GB Graphics, Gaming Laptop (32GB/2TB SSD/Win 11/Office 2021/Black/2.3 Kg), G533ZW-LN106WS',\n",
       " 'ASUS TUF Gaming F15 (2021), 15.6\" (39.62 cms) FHD 240Hz, Intel Core i9-11900H 11th Gen, GeForce RTX 3060 6GB Graphics, Gaming Laptop(16GB/1TB SSD/Office 2019/Windows 10/Gray/2.3 Kg), FX566HM-AZ096TS',\n",
       " 'HP Envy 15- 11th Gen Intel Core i9/32GB/1TB SSD/15.6 inch(39.6 cm) 400 nits,4K AMOLED Touch, TUV + Win 11 Pro 64/NVIDIA GeForce RTX 3060 6GB Graphics/Alexa/FPR /B&O/2.14kg,15-ep1087TX, Natural Silver',\n",
       " 'ASUS ROG Strix Scar 15 (2022), 15.6\" (39.62 cms) 2K WQHD 240Hz/3ms, Intel Core i9-12900H 12th Gen, RTX 3070 Ti 8GB Graphics, Gaming Laptop (32GB/1TB SSD/Win 11/Office 2021/Black/2.3 kg) G533ZW-LN136WS',\n",
       " 'Predator Helios 500 Gaming Laptop (11th Gen Intel Core I9/17.3\" 4K UHD Display/64GB DDR4 RAM/2TB SSD/1TB HDD/RTX 3080 Graphics/Per Key RGB Backlit Keyboard) | PH517-52',\n",
       " 'Dell G7 7500 15.6inch FHD 300 Hz Display Gaming Laptop (10th Gen i9-10885H / 16 GB / 1TB SSD / NVIDIA RTX 2070 8GB Graphics / 1Yr Premium Warranty / Win 10 + MS Office H&S 2019) D560233WIN9B, Black']"
      ]
     },
     "execution_count": 127,
     "metadata": {},
     "output_type": "execute_result"
    }
   ],
   "source": [
    "sujay3=title[30:40]\n",
    "sujay3"
   ]
  },
  {
   "cell_type": "code",
   "execution_count": 118,
   "id": "b7193fa5",
   "metadata": {},
   "outputs": [
    {
     "data": {
      "text/plain": [
       "[<selenium.webdriver.remote.webelement.WebElement (session=\"605f0ba2aba63f5635f1db2678c2c094\", element=\"64b84768-5625-41eb-bb8e-fc1b9ff14a3b\")>,\n",
       " <selenium.webdriver.remote.webelement.WebElement (session=\"605f0ba2aba63f5635f1db2678c2c094\", element=\"95074a57-44cc-43c4-843d-f664c20238a9\")>,\n",
       " <selenium.webdriver.remote.webelement.WebElement (session=\"605f0ba2aba63f5635f1db2678c2c094\", element=\"ec89fe81-5ea6-4f91-b77a-ef792b0f903e\")>]"
      ]
     },
     "execution_count": 118,
     "metadata": {},
     "output_type": "execute_result"
    }
   ],
   "source": [
    "prices=driver.find_elements_by_xpath(\"//span[@class='a-price-whole']\")\n",
    "prices[0:3]"
   ]
  },
  {
   "cell_type": "code",
   "execution_count": 119,
   "id": "f46972ce",
   "metadata": {},
   "outputs": [
    {
     "data": {
      "text/plain": [
       "['1,69,990',\n",
       " '76,490',\n",
       " '79,990',\n",
       " '57,490',\n",
       " '89,990',\n",
       " '86,990',\n",
       " '89,990',\n",
       " '86,990',\n",
       " '85,890',\n",
       " '93,999',\n",
       " '84,590',\n",
       " '97,670',\n",
       " '73,990',\n",
       " '96,990',\n",
       " '89,990',\n",
       " '1,79,990',\n",
       " '92,990',\n",
       " '44,940',\n",
       " '47,034',\n",
       " '1,09,990',\n",
       " '2,66,921',\n",
       " '54,990',\n",
       " '48,014',\n",
       " '1,14,488',\n",
       " '39,990',\n",
       " '42,990',\n",
       " '41,154',\n",
       " '43,990',\n",
       " '1,09,990',\n",
       " '1,16,990',\n",
       " '1,44,990',\n",
       " '1,44,990',\n",
       " '3,31,990',\n",
       " '3,01,499',\n",
       " '2,85,390',\n",
       " '1,77,885',\n",
       " '2,02,990',\n",
       " '2,32,399',\n",
       " '3,79,990',\n",
       " '2,05,990',\n",
       " '1,38,000',\n",
       " '3,29,990',\n",
       " '2,14,315',\n",
       " '1,44,990',\n",
       " '1,44,990',\n",
       " '3,31,990',\n",
       " '3,01,499',\n",
       " '2,85,390',\n",
       " '1,77,885',\n",
       " '2,02,990',\n",
       " '2,32,399',\n",
       " '3,79,990',\n",
       " '2,05,990',\n",
       " '1,38,000',\n",
       " '3,29,990',\n",
       " '2,14,315',\n",
       " '1,44,990',\n",
       " '1,44,990',\n",
       " '3,31,990',\n",
       " '3,01,499',\n",
       " '2,85,390',\n",
       " '1,77,885',\n",
       " '2,02,990',\n",
       " '2,32,399',\n",
       " '3,79,990',\n",
       " '2,05,990',\n",
       " '1,38,000',\n",
       " '3,29,990',\n",
       " '2,14,315']"
      ]
     },
     "execution_count": 119,
     "metadata": {},
     "output_type": "execute_result"
    }
   ],
   "source": [
    "for i in prices:\n",
    "    pri=i.text\n",
    "    price.append(pri)\n",
    "price"
   ]
  },
  {
   "cell_type": "code",
   "execution_count": 123,
   "id": "7f7a8fa0",
   "metadata": {},
   "outputs": [
    {
     "data": {
      "text/plain": [
       "['1,44,990',\n",
       " '1,44,990',\n",
       " '3,31,990',\n",
       " '3,01,499',\n",
       " '2,85,390',\n",
       " '1,77,885',\n",
       " '2,02,990',\n",
       " '2,32,399',\n",
       " '3,79,990',\n",
       " '2,05,990']"
      ]
     },
     "execution_count": 123,
     "metadata": {},
     "output_type": "execute_result"
    }
   ],
   "source": [
    "sujay4=price[30:40]\n",
    "sujay4"
   ]
  },
  {
   "cell_type": "code",
   "execution_count": 107,
   "id": "243feeb6",
   "metadata": {},
   "outputs": [
    {
     "data": {
      "text/plain": [
       "[<selenium.webdriver.remote.webelement.WebElement (session=\"605f0ba2aba63f5635f1db2678c2c094\", element=\"88a4c4a9-5bb4-4ff3-bce0-c96279e23291\")>,\n",
       " <selenium.webdriver.remote.webelement.WebElement (session=\"605f0ba2aba63f5635f1db2678c2c094\", element=\"c8816848-2d10-4b6f-9bc5-fc6b69241553\")>]"
      ]
     },
     "execution_count": 107,
     "metadata": {},
     "output_type": "execute_result"
    }
   ],
   "source": [
    "ratings=driver.find_elements_by_xpath(\"//div[@class='a-row a-size-small']\")\n",
    "ratings[0:2]"
   ]
  },
  {
   "cell_type": "code",
   "execution_count": 108,
   "id": "5d2dcf8b",
   "metadata": {},
   "outputs": [
    {
     "data": {
      "text/plain": [
       "['6',\n",
       " '2',\n",
       " '65',\n",
       " '4',\n",
       " '2',\n",
       " '7',\n",
       " '39',\n",
       " '1',\n",
       " '152',\n",
       " '49',\n",
       " '16',\n",
       " '13',\n",
       " '13',\n",
       " '4',\n",
       " '3',\n",
       " '13',\n",
       " '10',\n",
       " '3',\n",
       " '3',\n",
       " '5',\n",
       " '6',\n",
       " '6',\n",
       " '1',\n",
       " '2',\n",
       " '11',\n",
       " '6',\n",
       " '1',\n",
       " '2']"
      ]
     },
     "execution_count": 108,
     "metadata": {},
     "output_type": "execute_result"
    }
   ],
   "source": [
    "for i in ratings:\n",
    "    rate=i.text\n",
    "    rating.append(rate)\n",
    "rating"
   ]
  },
  {
   "cell_type": "code",
   "execution_count": 130,
   "id": "ccd563fc",
   "metadata": {},
   "outputs": [
    {
     "data": {
      "text/plain": [
       "['16', '13', '13', '4', '3', '13', '10', '3', '3', '5']"
      ]
     },
     "execution_count": 130,
     "metadata": {},
     "output_type": "execute_result"
    }
   ],
   "source": [
    "sujay5=rating[10:20]\n",
    "sujay5"
   ]
  },
  {
   "cell_type": "code",
   "execution_count": 131,
   "id": "978d6c31",
   "metadata": {},
   "outputs": [
    {
     "data": {
      "text/html": [
       "<div>\n",
       "<style scoped>\n",
       "    .dataframe tbody tr th:only-of-type {\n",
       "        vertical-align: middle;\n",
       "    }\n",
       "\n",
       "    .dataframe tbody tr th {\n",
       "        vertical-align: top;\n",
       "    }\n",
       "\n",
       "    .dataframe thead th {\n",
       "        text-align: right;\n",
       "    }\n",
       "</style>\n",
       "<table border=\"1\" class=\"dataframe\">\n",
       "  <thead>\n",
       "    <tr style=\"text-align: right;\">\n",
       "      <th></th>\n",
       "      <th>Product Name</th>\n",
       "      <th>Price</th>\n",
       "      <th>Rating</th>\n",
       "    </tr>\n",
       "  </thead>\n",
       "  <tbody>\n",
       "    <tr>\n",
       "      <th>0</th>\n",
       "      <td>Acer Predator Helios 300 11th Gen Intel Core i...</td>\n",
       "      <td>1,44,990</td>\n",
       "      <td>16</td>\n",
       "    </tr>\n",
       "    <tr>\n",
       "      <th>1</th>\n",
       "      <td>Acer Predator Helios 300 11th Gen Intel Core i...</td>\n",
       "      <td>1,44,990</td>\n",
       "      <td>13</td>\n",
       "    </tr>\n",
       "    <tr>\n",
       "      <th>2</th>\n",
       "      <td>ASUS ROG Zephyrus M16 (2022), 16-inch (40.64 c...</td>\n",
       "      <td>3,31,990</td>\n",
       "      <td>13</td>\n",
       "    </tr>\n",
       "    <tr>\n",
       "      <th>3</th>\n",
       "      <td>ASUS ROG Strix Scar 15 (2022), Intel Core i9-1...</td>\n",
       "      <td>3,01,499</td>\n",
       "      <td>4</td>\n",
       "    </tr>\n",
       "    <tr>\n",
       "      <th>4</th>\n",
       "      <td>ASUS ROG Strix Scar 15 (2022), 15.6-inch (39.6...</td>\n",
       "      <td>2,85,390</td>\n",
       "      <td>3</td>\n",
       "    </tr>\n",
       "    <tr>\n",
       "      <th>5</th>\n",
       "      <td>ASUS TUF Gaming F15 (2021), 15.6\" (39.62 cms) ...</td>\n",
       "      <td>1,77,885</td>\n",
       "      <td>13</td>\n",
       "    </tr>\n",
       "    <tr>\n",
       "      <th>6</th>\n",
       "      <td>HP Envy 15- 11th Gen Intel Core i9/32GB/1TB SS...</td>\n",
       "      <td>2,02,990</td>\n",
       "      <td>10</td>\n",
       "    </tr>\n",
       "    <tr>\n",
       "      <th>7</th>\n",
       "      <td>ASUS ROG Strix Scar 15 (2022), 15.6\" (39.62 cm...</td>\n",
       "      <td>2,32,399</td>\n",
       "      <td>3</td>\n",
       "    </tr>\n",
       "    <tr>\n",
       "      <th>8</th>\n",
       "      <td>Predator Helios 500 Gaming Laptop (11th Gen In...</td>\n",
       "      <td>3,79,990</td>\n",
       "      <td>3</td>\n",
       "    </tr>\n",
       "    <tr>\n",
       "      <th>9</th>\n",
       "      <td>Dell G7 7500 15.6inch FHD 300 Hz Display Gamin...</td>\n",
       "      <td>2,05,990</td>\n",
       "      <td>5</td>\n",
       "    </tr>\n",
       "  </tbody>\n",
       "</table>\n",
       "</div>"
      ],
      "text/plain": [
       "                                        Product Name     Price Rating\n",
       "0  Acer Predator Helios 300 11th Gen Intel Core i...  1,44,990     16\n",
       "1  Acer Predator Helios 300 11th Gen Intel Core i...  1,44,990     13\n",
       "2  ASUS ROG Zephyrus M16 (2022), 16-inch (40.64 c...  3,31,990     13\n",
       "3  ASUS ROG Strix Scar 15 (2022), Intel Core i9-1...  3,01,499      4\n",
       "4  ASUS ROG Strix Scar 15 (2022), 15.6-inch (39.6...  2,85,390      3\n",
       "5  ASUS TUF Gaming F15 (2021), 15.6\" (39.62 cms) ...  1,77,885     13\n",
       "6  HP Envy 15- 11th Gen Intel Core i9/32GB/1TB SS...  2,02,990     10\n",
       "7  ASUS ROG Strix Scar 15 (2022), 15.6\" (39.62 cm...  2,32,399      3\n",
       "8  Predator Helios 500 Gaming Laptop (11th Gen In...  3,79,990      3\n",
       "9  Dell G7 7500 15.6inch FHD 300 Hz Display Gamin...  2,05,990      5"
      ]
     },
     "execution_count": 131,
     "metadata": {},
     "output_type": "execute_result"
    }
   ],
   "source": [
    "df1=pd.DataFrame({'Product Name': sujay3 , 'Price': sujay4 , 'Rating': sujay5})\n",
    "df1"
   ]
  },
  {
   "cell_type": "raw",
   "id": "f542c32a",
   "metadata": {},
   "source": [
    "***********************************************************************************************************************\n",
    "Q9: Write a python program to scrape data for first 10 job results for Data Scientist Designation in Noida\n",
    "location. You have to scrape company name, No. of days ago when job was posted, Rating of the company.\n",
    "This task will be done in following steps:"
   ]
  },
  {
   "cell_type": "code",
   "execution_count": 3,
   "id": "fbb54d2a",
   "metadata": {},
   "outputs": [
    {
     "data": {
      "text/plain": [
       "<selenium.webdriver.chrome.webdriver.WebDriver (session=\"39ba2261d2d06308cd6aab8795755fee\")>"
      ]
     },
     "execution_count": 3,
     "metadata": {},
     "output_type": "execute_result"
    }
   ],
   "source": [
    "driver = webdriver.Chrome(r\"D:\\python\\chromedriver.exe\")\n",
    "driver"
   ]
  },
  {
   "cell_type": "code",
   "execution_count": 4,
   "id": "862c8dd0",
   "metadata": {},
   "outputs": [],
   "source": [
    "driver.get('https://www.ambitionbox.com/')"
   ]
  },
  {
   "cell_type": "code",
   "execution_count": 5,
   "id": "923c18b4",
   "metadata": {},
   "outputs": [],
   "source": [
    "# select the job \n",
    "job=driver.find_element_by_xpath('/html/body/div[1]/nav/nav/a[6]')\n",
    "job.click()"
   ]
  },
  {
   "cell_type": "code",
   "execution_count": 6,
   "id": "5036e3b2",
   "metadata": {},
   "outputs": [],
   "source": [
    "# type the data\n",
    "data=driver.find_element_by_xpath('/html/body/div/div/div/div[2]/div[1]/div[1]/div/div/div/div/span/input')\n",
    "data.send_keys('Data scientist')"
   ]
  },
  {
   "cell_type": "code",
   "execution_count": 7,
   "id": "2603be46",
   "metadata": {},
   "outputs": [],
   "source": [
    "# search button\n",
    "search=driver.find_element_by_xpath('/html/body/div/div/div/div[2]/div[1]/div[1]/div/div/div/button')\n",
    "search.click()"
   ]
  },
  {
   "cell_type": "code",
   "execution_count": 8,
   "id": "29f3fcd7",
   "metadata": {},
   "outputs": [],
   "source": [
    "location=driver.find_element_by_xpath('/html/body/div/div/div/div[2]/div[1]/div[2]/div[1]/div/div/div/div[2]/div[1]/p')\n",
    "location.click()"
   ]
  },
  {
   "cell_type": "code",
   "execution_count": 9,
   "id": "52ba0da4",
   "metadata": {},
   "outputs": [],
   "source": [
    "no=driver.find_element_by_xpath('/html/body/div/div/div/div[2]/div[1]/div[2]/div[1]/div/div/div/div[2]/div[2]/div/div[2]/input')\n",
    "no.send_keys('Noida')"
   ]
  },
  {
   "cell_type": "code",
   "execution_count": 10,
   "id": "26bfc817",
   "metadata": {},
   "outputs": [],
   "source": [
    "company_name=[]\n",
    "post_time=[]\n",
    "rating=[]"
   ]
  },
  {
   "cell_type": "code",
   "execution_count": 19,
   "id": "ee88e2b0",
   "metadata": {},
   "outputs": [
    {
     "data": {
      "text/plain": [
       "[<selenium.webdriver.remote.webelement.WebElement (session=\"39ba2261d2d06308cd6aab8795755fee\", element=\"7dffa60f-5305-4674-a96c-c4f3f5eea430\")>,\n",
       " <selenium.webdriver.remote.webelement.WebElement (session=\"39ba2261d2d06308cd6aab8795755fee\", element=\"4ab7665c-cd08-4ed9-bc98-1af4c1b7f2a6\")>,\n",
       " <selenium.webdriver.remote.webelement.WebElement (session=\"39ba2261d2d06308cd6aab8795755fee\", element=\"130d9d7b-a60c-42dd-9021-4f0d9b854c6d\")>,\n",
       " <selenium.webdriver.remote.webelement.WebElement (session=\"39ba2261d2d06308cd6aab8795755fee\", element=\"149d02e4-c268-4ab4-8aba-4e9bac541638\")>]"
      ]
     },
     "execution_count": 19,
     "metadata": {},
     "output_type": "execute_result"
    }
   ],
   "source": [
    "name=driver.find_elements_by_xpath(\"//p[@class='company body-medium']\")\n",
    "name[0:4]"
   ]
  },
  {
   "cell_type": "code",
   "execution_count": 20,
   "id": "f846b13c",
   "metadata": {},
   "outputs": [
    {
     "data": {
      "text/plain": [
       "['AVP / VP Data Scientist (Model Validation)',\n",
       " 'Data Scientist',\n",
       " 'Data Scientist',\n",
       " 'Data Scientist: Artificial Intelligence',\n",
       " 'Data Scientist: Artificial Intelligence',\n",
       " 'Data Scientist: Artificial Intelligence',\n",
       " 'Data Scientist: Artificial Intelligence',\n",
       " 'Data Scientist: Artificial Intelligence',\n",
       " 'Data Scientist: Advanced Analytics',\n",
       " 'Service Delivery _ OSS _ Data Scientist',\n",
       " 'J.P. Morgan Services India Private Limited',\n",
       " 'IBM India Pvt. Limited',\n",
       " 'IBM India Pvt. Limited',\n",
       " 'IBM India Pvt. Limited',\n",
       " 'IBM India Pvt. Limited',\n",
       " 'IBM India Pvt. Limited',\n",
       " 'IBM India Pvt. Limited',\n",
       " 'IBM India Pvt. Limited',\n",
       " 'IBM India Pvt. Limited',\n",
       " 'Ericsson India Global Services Pvt. Ltd.']"
      ]
     },
     "execution_count": 20,
     "metadata": {},
     "output_type": "execute_result"
    }
   ],
   "source": [
    "for i in name:\n",
    "    na=i.text\n",
    "    company_name.append(na)\n",
    "    \n",
    "company_name"
   ]
  },
  {
   "cell_type": "code",
   "execution_count": 22,
   "id": "d8532dbf",
   "metadata": {},
   "outputs": [
    {
     "data": {
      "text/plain": [
       "['J.P. Morgan Services India Private Limited',\n",
       " 'IBM India Pvt. Limited',\n",
       " 'IBM India Pvt. Limited',\n",
       " 'IBM India Pvt. Limited',\n",
       " 'IBM India Pvt. Limited',\n",
       " 'IBM India Pvt. Limited',\n",
       " 'IBM India Pvt. Limited',\n",
       " 'IBM India Pvt. Limited',\n",
       " 'IBM India Pvt. Limited',\n",
       " 'Ericsson India Global Services Pvt. Ltd.']"
      ]
     },
     "execution_count": 22,
     "metadata": {},
     "output_type": "execute_result"
    }
   ],
   "source": [
    "company=company_name[10:20]\n",
    "company"
   ]
  },
  {
   "cell_type": "code",
   "execution_count": 13,
   "id": "1a484b4d",
   "metadata": {},
   "outputs": [
    {
     "data": {
      "text/plain": [
       "[<selenium.webdriver.remote.webelement.WebElement (session=\"39ba2261d2d06308cd6aab8795755fee\", element=\"9054f449-17f6-4671-b270-d0be08cdb2b5\")>,\n",
       " <selenium.webdriver.remote.webelement.WebElement (session=\"39ba2261d2d06308cd6aab8795755fee\", element=\"5b342dad-fc4e-4af5-ae17-de2dca5a963b\")>,\n",
       " <selenium.webdriver.remote.webelement.WebElement (session=\"39ba2261d2d06308cd6aab8795755fee\", element=\"fc0d8506-c20c-4962-8f3a-eebadf897135\")>,\n",
       " <selenium.webdriver.remote.webelement.WebElement (session=\"39ba2261d2d06308cd6aab8795755fee\", element=\"6e4310fb-f38b-4b5f-b30c-84d765c5d46e\")>]"
      ]
     },
     "execution_count": 13,
     "metadata": {},
     "output_type": "execute_result"
    }
   ],
   "source": [
    "post=driver.find_elements_by_xpath(\"//div[@class='other-info']/span[1]\")\n",
    "post[0:4]"
   ]
  },
  {
   "cell_type": "code",
   "execution_count": 14,
   "id": "23116e5d",
   "metadata": {},
   "outputs": [
    {
     "data": {
      "text/plain": [
       "['2d ago',\n",
       " '2d ago',\n",
       " '2d ago',\n",
       " '3d ago',\n",
       " '3d ago',\n",
       " '3d ago',\n",
       " '3d ago',\n",
       " '3d ago',\n",
       " '3d ago',\n",
       " '7d ago']"
      ]
     },
     "execution_count": 14,
     "metadata": {},
     "output_type": "execute_result"
    }
   ],
   "source": [
    "for i in post:\n",
    "    po=i.text\n",
    "    post_time.append(po)\n",
    "    \n",
    "post_time[0:10]"
   ]
  },
  {
   "cell_type": "code",
   "execution_count": 15,
   "id": "ed370a12",
   "metadata": {},
   "outputs": [
    {
     "data": {
      "text/plain": [
       "[<selenium.webdriver.remote.webelement.WebElement (session=\"39ba2261d2d06308cd6aab8795755fee\", element=\"7695b419-bd7a-4557-986d-ccd12d1eb01e\")>,\n",
       " <selenium.webdriver.remote.webelement.WebElement (session=\"39ba2261d2d06308cd6aab8795755fee\", element=\"be7bfbd7-16ee-4527-8bd7-dbbb519f1ce9\")>,\n",
       " <selenium.webdriver.remote.webelement.WebElement (session=\"39ba2261d2d06308cd6aab8795755fee\", element=\"422ec61e-45ff-40df-b964-ba4053ddf872\")>,\n",
       " <selenium.webdriver.remote.webelement.WebElement (session=\"39ba2261d2d06308cd6aab8795755fee\", element=\"5008f68b-aace-4306-9072-67e43f25d43e\")>]"
      ]
     },
     "execution_count": 15,
     "metadata": {},
     "output_type": "execute_result"
    }
   ],
   "source": [
    "rate=driver.find_elements_by_xpath(\"//span[@class='body-small']\")\n",
    "rate[0:4]"
   ]
  },
  {
   "cell_type": "code",
   "execution_count": null,
   "id": "3c889ffa",
   "metadata": {},
   "outputs": [],
   "source": []
  },
  {
   "cell_type": "code",
   "execution_count": null,
   "id": "863b05d2",
   "metadata": {},
   "outputs": [],
   "source": []
  },
  {
   "cell_type": "code",
   "execution_count": 16,
   "id": "4b7a35f0",
   "metadata": {},
   "outputs": [
    {
     "data": {
      "text/plain": [
       "['4.2', '4.1', '4.1', '4.1', '4.1', '4.1', '4.1', '4.1', '4.1', '4.3']"
      ]
     },
     "execution_count": 16,
     "metadata": {},
     "output_type": "execute_result"
    }
   ],
   "source": [
    "for i in rate:\n",
    "    rat=i.text\n",
    "    rating.append(rat)\n",
    "    \n",
    "rating[0:10]"
   ]
  },
  {
   "cell_type": "code",
   "execution_count": 17,
   "id": "5a0edb30",
   "metadata": {},
   "outputs": [],
   "source": [
    "rate=rating[0:10]"
   ]
  },
  {
   "cell_type": "code",
   "execution_count": 23,
   "id": "905d6f85",
   "metadata": {},
   "outputs": [
    {
     "data": {
      "text/html": [
       "<div>\n",
       "<style scoped>\n",
       "    .dataframe tbody tr th:only-of-type {\n",
       "        vertical-align: middle;\n",
       "    }\n",
       "\n",
       "    .dataframe tbody tr th {\n",
       "        vertical-align: top;\n",
       "    }\n",
       "\n",
       "    .dataframe thead th {\n",
       "        text-align: right;\n",
       "    }\n",
       "</style>\n",
       "<table border=\"1\" class=\"dataframe\">\n",
       "  <thead>\n",
       "    <tr style=\"text-align: right;\">\n",
       "      <th></th>\n",
       "      <th>Company Name</th>\n",
       "      <th>Date Ago</th>\n",
       "      <th>Rating</th>\n",
       "    </tr>\n",
       "  </thead>\n",
       "  <tbody>\n",
       "    <tr>\n",
       "      <th>0</th>\n",
       "      <td>J.P. Morgan Services India Private Limited</td>\n",
       "      <td>2d ago</td>\n",
       "      <td>4.2</td>\n",
       "    </tr>\n",
       "    <tr>\n",
       "      <th>1</th>\n",
       "      <td>IBM India Pvt. Limited</td>\n",
       "      <td>2d ago</td>\n",
       "      <td>4.1</td>\n",
       "    </tr>\n",
       "    <tr>\n",
       "      <th>2</th>\n",
       "      <td>IBM India Pvt. Limited</td>\n",
       "      <td>2d ago</td>\n",
       "      <td>4.1</td>\n",
       "    </tr>\n",
       "    <tr>\n",
       "      <th>3</th>\n",
       "      <td>IBM India Pvt. Limited</td>\n",
       "      <td>3d ago</td>\n",
       "      <td>4.1</td>\n",
       "    </tr>\n",
       "    <tr>\n",
       "      <th>4</th>\n",
       "      <td>IBM India Pvt. Limited</td>\n",
       "      <td>3d ago</td>\n",
       "      <td>4.1</td>\n",
       "    </tr>\n",
       "    <tr>\n",
       "      <th>5</th>\n",
       "      <td>IBM India Pvt. Limited</td>\n",
       "      <td>3d ago</td>\n",
       "      <td>4.1</td>\n",
       "    </tr>\n",
       "    <tr>\n",
       "      <th>6</th>\n",
       "      <td>IBM India Pvt. Limited</td>\n",
       "      <td>3d ago</td>\n",
       "      <td>4.1</td>\n",
       "    </tr>\n",
       "    <tr>\n",
       "      <th>7</th>\n",
       "      <td>IBM India Pvt. Limited</td>\n",
       "      <td>3d ago</td>\n",
       "      <td>4.1</td>\n",
       "    </tr>\n",
       "    <tr>\n",
       "      <th>8</th>\n",
       "      <td>IBM India Pvt. Limited</td>\n",
       "      <td>3d ago</td>\n",
       "      <td>4.1</td>\n",
       "    </tr>\n",
       "  </tbody>\n",
       "</table>\n",
       "</div>"
      ],
      "text/plain": [
       "                                 Company Name Date Ago Rating\n",
       "0  J.P. Morgan Services India Private Limited   2d ago    4.2\n",
       "1                      IBM India Pvt. Limited   2d ago    4.1\n",
       "2                      IBM India Pvt. Limited   2d ago    4.1\n",
       "3                      IBM India Pvt. Limited   3d ago    4.1\n",
       "4                      IBM India Pvt. Limited   3d ago    4.1\n",
       "5                      IBM India Pvt. Limited   3d ago    4.1\n",
       "6                      IBM India Pvt. Limited   3d ago    4.1\n",
       "7                      IBM India Pvt. Limited   3d ago    4.1\n",
       "8                      IBM India Pvt. Limited   3d ago    4.1"
      ]
     },
     "execution_count": 23,
     "metadata": {},
     "output_type": "execute_result"
    }
   ],
   "source": [
    "df=pd.DataFrame({'Company Name': company , 'Date Ago': post_time , 'Rating': rate})\n",
    "df[0:9]"
   ]
  },
  {
   "cell_type": "code",
   "execution_count": null,
   "id": "b1ed1edc",
   "metadata": {},
   "outputs": [],
   "source": []
  },
  {
   "cell_type": "raw",
   "id": "622e3a89",
   "metadata": {},
   "source": [
    "*****************************************************************************************************************************\n",
    "Q10: Write a python program to scrape the salary data for Data Scientist designation.\n",
    "You have to scrape Company name, Number of salaries, Average salary, Minsalary, Max Salary.\n"
   ]
  },
  {
   "cell_type": "code",
   "execution_count": 91,
   "id": "27823bb7",
   "metadata": {},
   "outputs": [
    {
     "data": {
      "text/plain": [
       "<selenium.webdriver.chrome.webdriver.WebDriver (session=\"db396ab85d92862ad117a84df3576980\")>"
      ]
     },
     "execution_count": 91,
     "metadata": {},
     "output_type": "execute_result"
    }
   ],
   "source": [
    "driver = webdriver.Chrome(r\"D:\\python\\chromedriver.exe\")\n",
    "driver"
   ]
  },
  {
   "cell_type": "code",
   "execution_count": 92,
   "id": "0e000355",
   "metadata": {},
   "outputs": [],
   "source": [
    "driver.get('https://www.ambitionbox.com/')"
   ]
  },
  {
   "cell_type": "code",
   "execution_count": 93,
   "id": "9bef0f95",
   "metadata": {},
   "outputs": [],
   "source": [
    "# select salary\n",
    "salary=driver.find_element_by_xpath('/html/body/div[1]/nav/nav/a[4]')\n",
    "salary.click()"
   ]
  },
  {
   "cell_type": "code",
   "execution_count": 94,
   "id": "8af8539d",
   "metadata": {},
   "outputs": [],
   "source": [
    "# select job\n",
    "job=driver.find_element_by_xpath('/html/body/div/div/div/main/section[1]/div[2]/div[1]/span/input')\n",
    "job.send_keys('Data Scientist')"
   ]
  },
  {
   "cell_type": "code",
   "execution_count": 95,
   "id": "554d45e6",
   "metadata": {},
   "outputs": [],
   "source": [
    "company_name=[]\n",
    "min=[]\n",
    "max=[]\n",
    "average=[]\n",
    "exprience=[]"
   ]
  },
  {
   "cell_type": "code",
   "execution_count": 96,
   "id": "204eff8c",
   "metadata": {},
   "outputs": [
    {
     "data": {
      "text/plain": [
       "[<selenium.webdriver.remote.webelement.WebElement (session=\"db396ab85d92862ad117a84df3576980\", element=\"09243c4b-d2c6-4d12-b7b1-8fa09e09b887\")>,\n",
       " <selenium.webdriver.remote.webelement.WebElement (session=\"db396ab85d92862ad117a84df3576980\", element=\"831ce59a-a6e4-4a0f-a987-d5bbaa8a4f5a\")>,\n",
       " <selenium.webdriver.remote.webelement.WebElement (session=\"db396ab85d92862ad117a84df3576980\", element=\"55a7792a-87a0-4188-a706-874268cf2885\")>,\n",
       " <selenium.webdriver.remote.webelement.WebElement (session=\"db396ab85d92862ad117a84df3576980\", element=\"51c429a2-967f-45e4-a664-98e4056c4a12\")>,\n",
       " <selenium.webdriver.remote.webelement.WebElement (session=\"db396ab85d92862ad117a84df3576980\", element=\"21a7d11b-4249-4c00-b6cd-c34f44d110e7\")>,\n",
       " <selenium.webdriver.remote.webelement.WebElement (session=\"db396ab85d92862ad117a84df3576980\", element=\"00a40134-8098-4390-8a59-5a4c4fe5567b\")>,\n",
       " <selenium.webdriver.remote.webelement.WebElement (session=\"db396ab85d92862ad117a84df3576980\", element=\"d3d6539f-de33-4a45-be5f-66e0aeb7d092\")>,\n",
       " <selenium.webdriver.remote.webelement.WebElement (session=\"db396ab85d92862ad117a84df3576980\", element=\"48e91efb-7372-4f07-ba99-47611b1f9ebc\")>,\n",
       " <selenium.webdriver.remote.webelement.WebElement (session=\"db396ab85d92862ad117a84df3576980\", element=\"5afda165-14ad-4617-a5cf-2829e5bcf61b\")>,\n",
       " <selenium.webdriver.remote.webelement.WebElement (session=\"db396ab85d92862ad117a84df3576980\", element=\"bf2ca286-6fc9-40c1-ac9b-7add31507fb1\")>]"
      ]
     },
     "execution_count": 96,
     "metadata": {},
     "output_type": "execute_result"
    }
   ],
   "source": [
    "exp=driver.find_elements_by_xpath(\"//div[@class='salaries sbold-list-header']\")\n",
    "exp"
   ]
  },
  {
   "cell_type": "code",
   "execution_count": null,
   "id": "d09495d8",
   "metadata": {},
   "outputs": [],
   "source": []
  },
  {
   "cell_type": "code",
   "execution_count": 97,
   "id": "a7a23e21",
   "metadata": {},
   "outputs": [
    {
     "data": {
      "text/plain": [
       "['Software Engineer\\n . \\n1 yr exp',\n",
       " 'Software Engineer\\n . \\n3 yrs exp',\n",
       " 'Software Engineer\\n . \\n1-4 yrs exp',\n",
       " 'Software Engineer\\n . \\n2 yrs exp',\n",
       " 'Software Engineer\\n . \\n2-4 yrs exp',\n",
       " 'Software Engineer\\n . \\n1-4 yrs exp',\n",
       " 'Software Engineer\\n . \\n2-4 yrs exp',\n",
       " 'Software Engineer\\n . \\n1-4 yrs exp',\n",
       " 'Software Engineer\\n . \\n1-2 yrs exp',\n",
       " 'Software Engineer\\n . \\n1-4 yrs exp']"
      ]
     },
     "execution_count": 97,
     "metadata": {},
     "output_type": "execute_result"
    }
   ],
   "source": [
    "for i in exp:\n",
    "    ex=i.text\n",
    "    exprience.append(ex)\n",
    "    \n",
    "exprience"
   ]
  },
  {
   "cell_type": "code",
   "execution_count": 98,
   "id": "0e4a4c2a",
   "metadata": {},
   "outputs": [
    {
     "data": {
      "text/plain": [
       "[]"
      ]
     },
     "execution_count": 98,
     "metadata": {},
     "output_type": "execute_result"
    }
   ],
   "source": [
    "sujay=exprience[20:30]\n",
    "sujay"
   ]
  },
  {
   "cell_type": "code",
   "execution_count": 99,
   "id": "fb6f3f3c",
   "metadata": {},
   "outputs": [
    {
     "data": {
      "text/plain": [
       "[<selenium.webdriver.remote.webelement.WebElement (session=\"db396ab85d92862ad117a84df3576980\", element=\"c39d0f50-0c2a-4718-8f8d-ac1ad6ceea20\")>,\n",
       " <selenium.webdriver.remote.webelement.WebElement (session=\"db396ab85d92862ad117a84df3576980\", element=\"015f075a-7d3f-41aa-aeec-26a94865df28\")>,\n",
       " <selenium.webdriver.remote.webelement.WebElement (session=\"db396ab85d92862ad117a84df3576980\", element=\"12dacf27-3331-433a-b73f-8c3d54fbad4c\")>,\n",
       " <selenium.webdriver.remote.webelement.WebElement (session=\"db396ab85d92862ad117a84df3576980\", element=\"19e6c930-29ff-422c-972a-7b0b1615e008\")>,\n",
       " <selenium.webdriver.remote.webelement.WebElement (session=\"db396ab85d92862ad117a84df3576980\", element=\"a45d8e75-df2d-4463-bf6a-6d343311b600\")>,\n",
       " <selenium.webdriver.remote.webelement.WebElement (session=\"db396ab85d92862ad117a84df3576980\", element=\"28e24ee9-2cb8-4061-be44-cd544374aec1\")>,\n",
       " <selenium.webdriver.remote.webelement.WebElement (session=\"db396ab85d92862ad117a84df3576980\", element=\"a2a67f24-84fe-48d2-9e2a-bda35be6a51a\")>,\n",
       " <selenium.webdriver.remote.webelement.WebElement (session=\"db396ab85d92862ad117a84df3576980\", element=\"3b6d43bb-817e-4093-bc41-47a6cfa7fee6\")>,\n",
       " <selenium.webdriver.remote.webelement.WebElement (session=\"db396ab85d92862ad117a84df3576980\", element=\"24bae2d6-110b-4b2a-8990-0b1a2eec2978\")>,\n",
       " <selenium.webdriver.remote.webelement.WebElement (session=\"db396ab85d92862ad117a84df3576980\", element=\"283aa627-b0b5-45aa-b9e3-114f8f04a6df\")>]"
      ]
     },
     "execution_count": 99,
     "metadata": {},
     "output_type": "execute_result"
    }
   ],
   "source": [
    "minimum=driver.find_elements_by_xpath(\"//div[@class='salary-values']/div[1]\")\n",
    "minimum"
   ]
  },
  {
   "cell_type": "code",
   "execution_count": 100,
   "id": "53d12f33",
   "metadata": {},
   "outputs": [
    {
     "data": {
      "text/plain": [
       "['₹ 10.4L',\n",
       " '₹ 10.7L',\n",
       " '₹ 13.0L',\n",
       " '₹ 12.0L',\n",
       " '₹ 12.0L',\n",
       " '₹ 7.5L',\n",
       " '₹ 13.0L',\n",
       " '₹ 11.0L',\n",
       " '₹ 12.0L',\n",
       " '₹ 8.0L']"
      ]
     },
     "execution_count": 100,
     "metadata": {},
     "output_type": "execute_result"
    }
   ],
   "source": [
    "for i in minimum:\n",
    "    mini=i.text\n",
    "    min.append(mini)\n",
    "    \n",
    "min"
   ]
  },
  {
   "cell_type": "code",
   "execution_count": 101,
   "id": "5aaae0be",
   "metadata": {},
   "outputs": [
    {
     "data": {
      "text/plain": [
       "[<selenium.webdriver.remote.webelement.WebElement (session=\"db396ab85d92862ad117a84df3576980\", element=\"b20c55ee-16bd-4fdf-8f6f-6efe21273252\")>,\n",
       " <selenium.webdriver.remote.webelement.WebElement (session=\"db396ab85d92862ad117a84df3576980\", element=\"e1d46234-1170-4e3d-805d-67c971a99035\")>,\n",
       " <selenium.webdriver.remote.webelement.WebElement (session=\"db396ab85d92862ad117a84df3576980\", element=\"0d6b8d7c-ef4c-4f38-ad2d-b298ca6fea17\")>,\n",
       " <selenium.webdriver.remote.webelement.WebElement (session=\"db396ab85d92862ad117a84df3576980\", element=\"861792f9-06bb-4e41-99d5-5df4d18a73ff\")>]"
      ]
     },
     "execution_count": 101,
     "metadata": {},
     "output_type": "execute_result"
    }
   ],
   "source": [
    "maximum=driver.find_elements_by_xpath(\"//div[@class='salary-values']/div[2]\")\n",
    "maximum[0:4]"
   ]
  },
  {
   "cell_type": "code",
   "execution_count": 102,
   "id": "e81f66e0",
   "metadata": {},
   "outputs": [
    {
     "data": {
      "text/plain": [
       "['₹ 40.0L',\n",
       " '₹ 38.0L',\n",
       " '₹ 45.0L',\n",
       " '₹ 34.0L',\n",
       " '₹ 33.0L',\n",
       " '₹ 31.0L',\n",
       " '₹ 26.3L',\n",
       " '₹ 32.5L',\n",
       " '₹ 30.0L',\n",
       " '₹ 43.0L']"
      ]
     },
     "execution_count": 102,
     "metadata": {},
     "output_type": "execute_result"
    }
   ],
   "source": [
    "for i in maximum:\n",
    "    maxi=i.text\n",
    "    max.append(maxi)\n",
    "    \n",
    "max"
   ]
  },
  {
   "cell_type": "code",
   "execution_count": 103,
   "id": "23034b07",
   "metadata": {},
   "outputs": [
    {
     "data": {
      "text/plain": [
       "[<selenium.webdriver.remote.webelement.WebElement (session=\"db396ab85d92862ad117a84df3576980\", element=\"481a904a-dd15-4ccc-bec9-65d1c43ee83f\")>,\n",
       " <selenium.webdriver.remote.webelement.WebElement (session=\"db396ab85d92862ad117a84df3576980\", element=\"c1eae50a-0efc-4b63-acce-d89f91ecbaf3\")>,\n",
       " <selenium.webdriver.remote.webelement.WebElement (session=\"db396ab85d92862ad117a84df3576980\", element=\"5bc70306-1db0-4bc2-babc-539769836f49\")>,\n",
       " <selenium.webdriver.remote.webelement.WebElement (session=\"db396ab85d92862ad117a84df3576980\", element=\"90add39c-35f9-4bcf-b840-878f774c97ab\")>]"
      ]
     },
     "execution_count": 103,
     "metadata": {},
     "output_type": "execute_result"
    }
   ],
   "source": [
    "average_salary=driver.find_elements_by_xpath(\"//p[@class='averageCtc']\")\n",
    "average_salary[0:4]"
   ]
  },
  {
   "cell_type": "code",
   "execution_count": 104,
   "id": "434a6bac",
   "metadata": {},
   "outputs": [
    {
     "data": {
      "text/plain": [
       "['₹ 26.9L',\n",
       " '₹ 24.7L',\n",
       " '₹ 23.7L',\n",
       " '₹ 22.3L',\n",
       " '₹ 21.0L',\n",
       " '₹ 20.3L',\n",
       " '₹ 20.2L',\n",
       " '₹ 19.9L',\n",
       " '₹ 19.8L',\n",
       " '₹ 19.7L']"
      ]
     },
     "execution_count": 104,
     "metadata": {},
     "output_type": "execute_result"
    }
   ],
   "source": [
    "for i in average_salary:\n",
    "    salary=i.text\n",
    "    average.append(salary)\n",
    "    \n",
    "average"
   ]
  },
  {
   "cell_type": "code",
   "execution_count": 105,
   "id": "bca00a00",
   "metadata": {},
   "outputs": [
    {
     "data": {
      "text/plain": [
       "[<selenium.webdriver.remote.webelement.WebElement (session=\"db396ab85d92862ad117a84df3576980\", element=\"d452685c-ab1f-4a65-8768-e5c73b25e58d\")>,\n",
       " <selenium.webdriver.remote.webelement.WebElement (session=\"db396ab85d92862ad117a84df3576980\", element=\"7599b2b9-1b8b-485b-bb17-3c4ffcfc7e10\")>,\n",
       " <selenium.webdriver.remote.webelement.WebElement (session=\"db396ab85d92862ad117a84df3576980\", element=\"7b0b0448-2a13-49f6-a487-242da45dea72\")>,\n",
       " <selenium.webdriver.remote.webelement.WebElement (session=\"db396ab85d92862ad117a84df3576980\", element=\"a5a4ea1c-6a40-436d-843d-3e21629ce613\")>,\n",
       " <selenium.webdriver.remote.webelement.WebElement (session=\"db396ab85d92862ad117a84df3576980\", element=\"a0891bb8-e11e-487c-bbe4-305a31765121\")>,\n",
       " <selenium.webdriver.remote.webelement.WebElement (session=\"db396ab85d92862ad117a84df3576980\", element=\"723a1951-960a-4551-8f62-a1b6dfb143e2\")>,\n",
       " <selenium.webdriver.remote.webelement.WebElement (session=\"db396ab85d92862ad117a84df3576980\", element=\"fd0b635d-9623-44ca-ae95-a3a2b0b0a8e4\")>,\n",
       " <selenium.webdriver.remote.webelement.WebElement (session=\"db396ab85d92862ad117a84df3576980\", element=\"7c03b0da-3856-458e-837e-a9dc8e878fce\")>,\n",
       " <selenium.webdriver.remote.webelement.WebElement (session=\"db396ab85d92862ad117a84df3576980\", element=\"5cbd6a13-096d-4c02-8276-50da0e3829f3\")>,\n",
       " <selenium.webdriver.remote.webelement.WebElement (session=\"db396ab85d92862ad117a84df3576980\", element=\"0558aaa9-791e-4542-a5b4-1edc7ed43909\")>]"
      ]
     },
     "execution_count": 105,
     "metadata": {},
     "output_type": "execute_result"
    }
   ],
   "source": [
    "name=driver.find_elements_by_xpath(\"//div[@class='name']\")\n",
    "name"
   ]
  },
  {
   "cell_type": "code",
   "execution_count": 106,
   "id": "2671c999",
   "metadata": {},
   "outputs": [
    {
     "data": {
      "text/plain": [
       "['Google  11 salaries',\n",
       " 'Arista Networks  13 salaries',\n",
       " 'Microsoft Corporation  253 salaries',\n",
       " 'Goldman Sachs  16 salaries',\n",
       " 'Tekion  32 salaries',\n",
       " 'Flipkart  61 salaries',\n",
       " 'Servicenow Software Development India  54 salaries',\n",
       " 'Walmart  81 salaries',\n",
       " 'PayPal  26 salaries',\n",
       " 'Amazon  103 salaries']"
      ]
     },
     "execution_count": 106,
     "metadata": {},
     "output_type": "execute_result"
    }
   ],
   "source": [
    "for i in name:\n",
    "    na=i.text.replace('\\nbased on', ' ')\n",
    "    company_name.append(na)\n",
    "    \n",
    "company_name"
   ]
  },
  {
   "cell_type": "code",
   "execution_count": 107,
   "id": "ff6ba2b3",
   "metadata": {},
   "outputs": [
    {
     "data": {
      "text/html": [
       "<div>\n",
       "<style scoped>\n",
       "    .dataframe tbody tr th:only-of-type {\n",
       "        vertical-align: middle;\n",
       "    }\n",
       "\n",
       "    .dataframe tbody tr th {\n",
       "        vertical-align: top;\n",
       "    }\n",
       "\n",
       "    .dataframe thead th {\n",
       "        text-align: right;\n",
       "    }\n",
       "</style>\n",
       "<table border=\"1\" class=\"dataframe\">\n",
       "  <thead>\n",
       "    <tr style=\"text-align: right;\">\n",
       "      <th></th>\n",
       "      <th>Company name</th>\n",
       "      <th>Minimum Salary</th>\n",
       "      <th>Maximum Salary</th>\n",
       "      <th>Average Salary</th>\n",
       "      <th>Exprience</th>\n",
       "    </tr>\n",
       "  </thead>\n",
       "  <tbody>\n",
       "    <tr>\n",
       "      <th>0</th>\n",
       "      <td>Google  11 salaries</td>\n",
       "      <td>₹ 10.4L</td>\n",
       "      <td>₹ 40.0L</td>\n",
       "      <td>₹ 26.9L</td>\n",
       "      <td>3 yrs exp</td>\n",
       "    </tr>\n",
       "    <tr>\n",
       "      <th>1</th>\n",
       "      <td>Arista Networks  13 salaries</td>\n",
       "      <td>₹ 10.7L</td>\n",
       "      <td>₹ 38.0L</td>\n",
       "      <td>₹ 24.7L</td>\n",
       "      <td>3-4 yrs exp</td>\n",
       "    </tr>\n",
       "    <tr>\n",
       "      <th>2</th>\n",
       "      <td>Microsoft Corporation  253 salaries</td>\n",
       "      <td>₹ 13.0L</td>\n",
       "      <td>₹ 45.0L</td>\n",
       "      <td>₹ 23.7L</td>\n",
       "      <td>4 yrs exp</td>\n",
       "    </tr>\n",
       "    <tr>\n",
       "      <th>3</th>\n",
       "      <td>Goldman Sachs  16 salaries</td>\n",
       "      <td>₹ 12.0L</td>\n",
       "      <td>₹ 34.0L</td>\n",
       "      <td>₹ 22.3L</td>\n",
       "      <td>2 yrs exp</td>\n",
       "    </tr>\n",
       "    <tr>\n",
       "      <th>4</th>\n",
       "      <td>Tekion  32 salaries</td>\n",
       "      <td>₹ 12.0L</td>\n",
       "      <td>₹ 33.0L</td>\n",
       "      <td>₹ 21.0L</td>\n",
       "      <td>3-4 yrs exp</td>\n",
       "    </tr>\n",
       "    <tr>\n",
       "      <th>5</th>\n",
       "      <td>Flipkart  61 salaries</td>\n",
       "      <td>₹ 7.5L</td>\n",
       "      <td>₹ 31.0L</td>\n",
       "      <td>₹ 20.3L</td>\n",
       "      <td>2-4 yrs exp</td>\n",
       "    </tr>\n",
       "    <tr>\n",
       "      <th>6</th>\n",
       "      <td>Servicenow Software Development India  54 sala...</td>\n",
       "      <td>₹ 13.0L</td>\n",
       "      <td>₹ 26.3L</td>\n",
       "      <td>₹ 20.2L</td>\n",
       "      <td>2-4 yrs exp</td>\n",
       "    </tr>\n",
       "    <tr>\n",
       "      <th>7</th>\n",
       "      <td>Walmart  81 salaries</td>\n",
       "      <td>₹ 11.0L</td>\n",
       "      <td>₹ 32.5L</td>\n",
       "      <td>₹ 19.9L</td>\n",
       "      <td>2-4 yrs exp</td>\n",
       "    </tr>\n",
       "    <tr>\n",
       "      <th>8</th>\n",
       "      <td>PayPal  26 salaries</td>\n",
       "      <td>₹ 12.0L</td>\n",
       "      <td>₹ 30.0L</td>\n",
       "      <td>₹ 19.8L</td>\n",
       "      <td>4 yrs exp</td>\n",
       "    </tr>\n",
       "    <tr>\n",
       "      <th>9</th>\n",
       "      <td>Amazon  103 salaries</td>\n",
       "      <td>₹ 8.0L</td>\n",
       "      <td>₹ 43.0L</td>\n",
       "      <td>₹ 19.7L</td>\n",
       "      <td>4 yrs exp</td>\n",
       "    </tr>\n",
       "  </tbody>\n",
       "</table>\n",
       "</div>"
      ],
      "text/plain": [
       "                                        Company name Minimum Salary  \\\n",
       "0                                Google  11 salaries        ₹ 10.4L   \n",
       "1                       Arista Networks  13 salaries        ₹ 10.7L   \n",
       "2                Microsoft Corporation  253 salaries        ₹ 13.0L   \n",
       "3                         Goldman Sachs  16 salaries        ₹ 12.0L   \n",
       "4                                Tekion  32 salaries        ₹ 12.0L   \n",
       "5                              Flipkart  61 salaries         ₹ 7.5L   \n",
       "6  Servicenow Software Development India  54 sala...        ₹ 13.0L   \n",
       "7                               Walmart  81 salaries        ₹ 11.0L   \n",
       "8                                PayPal  26 salaries        ₹ 12.0L   \n",
       "9                               Amazon  103 salaries         ₹ 8.0L   \n",
       "\n",
       "  Maximum Salary Average Salary     Exprience  \n",
       "0        ₹ 40.0L        ₹ 26.9L     3 yrs exp  \n",
       "1        ₹ 38.0L        ₹ 24.7L   3-4 yrs exp  \n",
       "2        ₹ 45.0L        ₹ 23.7L     4 yrs exp  \n",
       "3        ₹ 34.0L        ₹ 22.3L     2 yrs exp  \n",
       "4        ₹ 33.0L        ₹ 21.0L   3-4 yrs exp  \n",
       "5        ₹ 31.0L        ₹ 20.3L   2-4 yrs exp  \n",
       "6        ₹ 26.3L        ₹ 20.2L   2-4 yrs exp  \n",
       "7        ₹ 32.5L        ₹ 19.9L   2-4 yrs exp  \n",
       "8        ₹ 30.0L        ₹ 19.8L     4 yrs exp  \n",
       "9        ₹ 43.0L        ₹ 19.7L     4 yrs exp  "
      ]
     },
     "execution_count": 107,
     "metadata": {},
     "output_type": "execute_result"
    }
   ],
   "source": [
    "df=pd.DataFrame({'Company name':company_name , 'Minimum Salary': min , 'Maximum Salary': max , 'Average Salary':average , 'Exprience':expr})\n",
    "df"
   ]
  },
  {
   "cell_type": "code",
   "execution_count": null,
   "id": "de935b20",
   "metadata": {},
   "outputs": [],
   "source": []
  },
  {
   "cell_type": "code",
   "execution_count": null,
   "id": "35951161",
   "metadata": {},
   "outputs": [],
   "source": []
  },
  {
   "cell_type": "code",
   "execution_count": null,
   "id": "aed4745b",
   "metadata": {},
   "outputs": [],
   "source": []
  }
 ],
 "metadata": {
  "kernelspec": {
   "display_name": "Python 3 (ipykernel)",
   "language": "python",
   "name": "python3"
  },
  "language_info": {
   "codemirror_mode": {
    "name": "ipython",
    "version": 3
   },
   "file_extension": ".py",
   "mimetype": "text/x-python",
   "name": "python",
   "nbconvert_exporter": "python",
   "pygments_lexer": "ipython3",
   "version": "3.9.7"
  }
 },
 "nbformat": 4,
 "nbformat_minor": 5
}
